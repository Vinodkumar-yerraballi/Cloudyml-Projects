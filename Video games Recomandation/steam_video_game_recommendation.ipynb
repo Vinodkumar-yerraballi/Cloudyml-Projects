{
 "cells": [
  {
   "cell_type": "markdown",
   "id": "5958913c",
   "metadata": {},
   "source": [
    "# STEAM VIDEO GAMES RECOMMENDATION SYSTEM\n",
    "\n",
    "we need to recommend the similar games to the user based on their behaviour"
   ]
  },
  {
   "cell_type": "markdown",
   "id": "6ca04b24",
   "metadata": {},
   "source": [
    "# About dataset\n",
    "This dataset is a list of user behaviors, with columns: user-id, game-title, behavior-name, value. The behaviors included are 'purchase' and 'play'. The value indicates the degree to which the behavior was performed - in the case of 'purchase' the value is always 1, and in the case of 'play' the value represents the number of hours the user has played the game.\n",
    "\n",
    "steam-200k - (199999, 5)"
   ]
  },
  {
   "cell_type": "markdown",
   "id": "7078d8cf",
   "metadata": {},
   "source": [
    "## Columns in dataset\n",
    "user-id\n",
    "\n",
    "game-title\n",
    "\n",
    "behavior-name\n",
    "\n",
    "value\n",
    "\n",
    "0"
   ]
  },
  {
   "cell_type": "code",
   "execution_count": 1,
   "id": "a4c419ec",
   "metadata": {},
   "outputs": [],
   "source": [
    "# import all necessary libraries\n",
    "import numpy as np\n",
    "import pandas as pd\n",
    "import matplotlib.pyplot as plt\n",
    "import seaborn as sns\n",
    "\n",
    "# import cosine similarity\n",
    "from sklearn.metrics.pairwise import cosine_similarity"
   ]
  },
  {
   "cell_type": "code",
   "execution_count": 2,
   "id": "96565c35",
   "metadata": {},
   "outputs": [
    {
     "data": {
      "text/html": [
       "<style type=\"text/css\">\n",
       "#T_7c1fa_row0_col0, #T_7c1fa_row0_col4, #T_7c1fa_row1_col0, #T_7c1fa_row1_col3, #T_7c1fa_row1_col4, #T_7c1fa_row2_col0, #T_7c1fa_row2_col4, #T_7c1fa_row3_col0, #T_7c1fa_row3_col3, #T_7c1fa_row3_col4, #T_7c1fa_row4_col0, #T_7c1fa_row4_col3, #T_7c1fa_row4_col4 {\n",
       "  background-color: #7fc97f;\n",
       "  color: #000000;\n",
       "}\n",
       "#T_7c1fa_row0_col3 {\n",
       "  background-color: #666666;\n",
       "  color: #f1f1f1;\n",
       "}\n",
       "#T_7c1fa_row2_col3 {\n",
       "  background-color: #fdc086;\n",
       "  color: #000000;\n",
       "}\n",
       "</style>\n",
       "<table id=\"T_7c1fa\">\n",
       "  <thead>\n",
       "    <tr>\n",
       "      <th class=\"blank level0\" >&nbsp;</th>\n",
       "      <th id=\"T_7c1fa_level0_col0\" class=\"col_heading level0 col0\" >151603712</th>\n",
       "      <th id=\"T_7c1fa_level0_col1\" class=\"col_heading level0 col1\" >The Elder Scrolls V Skyrim</th>\n",
       "      <th id=\"T_7c1fa_level0_col2\" class=\"col_heading level0 col2\" >purchase</th>\n",
       "      <th id=\"T_7c1fa_level0_col3\" class=\"col_heading level0 col3\" >1.0</th>\n",
       "      <th id=\"T_7c1fa_level0_col4\" class=\"col_heading level0 col4\" >0</th>\n",
       "    </tr>\n",
       "  </thead>\n",
       "  <tbody>\n",
       "    <tr>\n",
       "      <th id=\"T_7c1fa_level0_row0\" class=\"row_heading level0 row0\" >0</th>\n",
       "      <td id=\"T_7c1fa_row0_col0\" class=\"data row0 col0\" >151603712</td>\n",
       "      <td id=\"T_7c1fa_row0_col1\" class=\"data row0 col1\" >The Elder Scrolls V Skyrim</td>\n",
       "      <td id=\"T_7c1fa_row0_col2\" class=\"data row0 col2\" >play</td>\n",
       "      <td id=\"T_7c1fa_row0_col3\" class=\"data row0 col3\" >273.000000</td>\n",
       "      <td id=\"T_7c1fa_row0_col4\" class=\"data row0 col4\" >0</td>\n",
       "    </tr>\n",
       "    <tr>\n",
       "      <th id=\"T_7c1fa_level0_row1\" class=\"row_heading level0 row1\" >1</th>\n",
       "      <td id=\"T_7c1fa_row1_col0\" class=\"data row1 col0\" >151603712</td>\n",
       "      <td id=\"T_7c1fa_row1_col1\" class=\"data row1 col1\" >Fallout 4</td>\n",
       "      <td id=\"T_7c1fa_row1_col2\" class=\"data row1 col2\" >purchase</td>\n",
       "      <td id=\"T_7c1fa_row1_col3\" class=\"data row1 col3\" >1.000000</td>\n",
       "      <td id=\"T_7c1fa_row1_col4\" class=\"data row1 col4\" >0</td>\n",
       "    </tr>\n",
       "    <tr>\n",
       "      <th id=\"T_7c1fa_level0_row2\" class=\"row_heading level0 row2\" >2</th>\n",
       "      <td id=\"T_7c1fa_row2_col0\" class=\"data row2 col0\" >151603712</td>\n",
       "      <td id=\"T_7c1fa_row2_col1\" class=\"data row2 col1\" >Fallout 4</td>\n",
       "      <td id=\"T_7c1fa_row2_col2\" class=\"data row2 col2\" >play</td>\n",
       "      <td id=\"T_7c1fa_row2_col3\" class=\"data row2 col3\" >87.000000</td>\n",
       "      <td id=\"T_7c1fa_row2_col4\" class=\"data row2 col4\" >0</td>\n",
       "    </tr>\n",
       "    <tr>\n",
       "      <th id=\"T_7c1fa_level0_row3\" class=\"row_heading level0 row3\" >3</th>\n",
       "      <td id=\"T_7c1fa_row3_col0\" class=\"data row3 col0\" >151603712</td>\n",
       "      <td id=\"T_7c1fa_row3_col1\" class=\"data row3 col1\" >Spore</td>\n",
       "      <td id=\"T_7c1fa_row3_col2\" class=\"data row3 col2\" >purchase</td>\n",
       "      <td id=\"T_7c1fa_row3_col3\" class=\"data row3 col3\" >1.000000</td>\n",
       "      <td id=\"T_7c1fa_row3_col4\" class=\"data row3 col4\" >0</td>\n",
       "    </tr>\n",
       "    <tr>\n",
       "      <th id=\"T_7c1fa_level0_row4\" class=\"row_heading level0 row4\" >4</th>\n",
       "      <td id=\"T_7c1fa_row4_col0\" class=\"data row4 col0\" >151603712</td>\n",
       "      <td id=\"T_7c1fa_row4_col1\" class=\"data row4 col1\" >Spore</td>\n",
       "      <td id=\"T_7c1fa_row4_col2\" class=\"data row4 col2\" >play</td>\n",
       "      <td id=\"T_7c1fa_row4_col3\" class=\"data row4 col3\" >14.900000</td>\n",
       "      <td id=\"T_7c1fa_row4_col4\" class=\"data row4 col4\" >0</td>\n",
       "    </tr>\n",
       "  </tbody>\n",
       "</table>\n"
      ],
      "text/plain": [
       "<pandas.io.formats.style.Styler at 0x7f96c9222c10>"
      ]
     },
     "execution_count": 2,
     "metadata": {},
     "output_type": "execute_result"
    }
   ],
   "source": [
    "# Read csv file using pandas\n",
    "data=pd.read_csv('/home/vinod/Downloads/steam-200k.csv')\n",
    "data.head().style.background_gradient(cmap='Accent')"
   ]
  },
  {
   "cell_type": "code",
   "execution_count": 3,
   "id": "2437cd6a",
   "metadata": {},
   "outputs": [
    {
     "data": {
      "text/plain": [
       "Index(['151603712', 'The Elder Scrolls V Skyrim', 'purchase', '1.0', '0'], dtype='object')"
      ]
     },
     "execution_count": 3,
     "metadata": {},
     "output_type": "execute_result"
    }
   ],
   "source": [
    "#data columns\n",
    "data.columns"
   ]
  },
  {
   "cell_type": "markdown",
   "id": "199bffb4",
   "metadata": {},
   "source": [
    "# EDA"
   ]
  },
  {
   "cell_type": "code",
   "execution_count": 4,
   "id": "c6bc3e52",
   "metadata": {},
   "outputs": [],
   "source": [
    "# remane the column name as games user_id, hoursplay and status\n",
    "data.rename(columns={'151603712':'user_id','The Elder Scrolls V Skyrim':'games','purchase':'Status','1.0':'hoursplay'},inplace=True)"
   ]
  },
  {
   "cell_type": "code",
   "execution_count": 5,
   "id": "e6dc1955",
   "metadata": {},
   "outputs": [
    {
     "data": {
      "text/html": [
       "<style type=\"text/css\">\n",
       "#T_200a5_row0_col0, #T_200a5_row0_col4, #T_200a5_row1_col0, #T_200a5_row1_col3, #T_200a5_row1_col4, #T_200a5_row2_col0, #T_200a5_row2_col4, #T_200a5_row3_col0, #T_200a5_row3_col3, #T_200a5_row3_col4, #T_200a5_row4_col0, #T_200a5_row4_col4 {\n",
       "  background-color: #0000ff;\n",
       "  color: #f1f1f1;\n",
       "}\n",
       "#T_200a5_row0_col3 {\n",
       "  background-color: #00ff80;\n",
       "  color: #000000;\n",
       "}\n",
       "#T_200a5_row2_col3 {\n",
       "  background-color: #0050d7;\n",
       "  color: #f1f1f1;\n",
       "}\n",
       "#T_200a5_row4_col3 {\n",
       "  background-color: #000df8;\n",
       "  color: #f1f1f1;\n",
       "}\n",
       "</style>\n",
       "<table id=\"T_200a5\">\n",
       "  <thead>\n",
       "    <tr>\n",
       "      <th class=\"blank level0\" >&nbsp;</th>\n",
       "      <th id=\"T_200a5_level0_col0\" class=\"col_heading level0 col0\" >user_id</th>\n",
       "      <th id=\"T_200a5_level0_col1\" class=\"col_heading level0 col1\" >games</th>\n",
       "      <th id=\"T_200a5_level0_col2\" class=\"col_heading level0 col2\" >Status</th>\n",
       "      <th id=\"T_200a5_level0_col3\" class=\"col_heading level0 col3\" >hoursplay</th>\n",
       "      <th id=\"T_200a5_level0_col4\" class=\"col_heading level0 col4\" >0</th>\n",
       "    </tr>\n",
       "  </thead>\n",
       "  <tbody>\n",
       "    <tr>\n",
       "      <th id=\"T_200a5_level0_row0\" class=\"row_heading level0 row0\" >0</th>\n",
       "      <td id=\"T_200a5_row0_col0\" class=\"data row0 col0\" >151603712</td>\n",
       "      <td id=\"T_200a5_row0_col1\" class=\"data row0 col1\" >The Elder Scrolls V Skyrim</td>\n",
       "      <td id=\"T_200a5_row0_col2\" class=\"data row0 col2\" >play</td>\n",
       "      <td id=\"T_200a5_row0_col3\" class=\"data row0 col3\" >273.000000</td>\n",
       "      <td id=\"T_200a5_row0_col4\" class=\"data row0 col4\" >0</td>\n",
       "    </tr>\n",
       "    <tr>\n",
       "      <th id=\"T_200a5_level0_row1\" class=\"row_heading level0 row1\" >1</th>\n",
       "      <td id=\"T_200a5_row1_col0\" class=\"data row1 col0\" >151603712</td>\n",
       "      <td id=\"T_200a5_row1_col1\" class=\"data row1 col1\" >Fallout 4</td>\n",
       "      <td id=\"T_200a5_row1_col2\" class=\"data row1 col2\" >purchase</td>\n",
       "      <td id=\"T_200a5_row1_col3\" class=\"data row1 col3\" >1.000000</td>\n",
       "      <td id=\"T_200a5_row1_col4\" class=\"data row1 col4\" >0</td>\n",
       "    </tr>\n",
       "    <tr>\n",
       "      <th id=\"T_200a5_level0_row2\" class=\"row_heading level0 row2\" >2</th>\n",
       "      <td id=\"T_200a5_row2_col0\" class=\"data row2 col0\" >151603712</td>\n",
       "      <td id=\"T_200a5_row2_col1\" class=\"data row2 col1\" >Fallout 4</td>\n",
       "      <td id=\"T_200a5_row2_col2\" class=\"data row2 col2\" >play</td>\n",
       "      <td id=\"T_200a5_row2_col3\" class=\"data row2 col3\" >87.000000</td>\n",
       "      <td id=\"T_200a5_row2_col4\" class=\"data row2 col4\" >0</td>\n",
       "    </tr>\n",
       "    <tr>\n",
       "      <th id=\"T_200a5_level0_row3\" class=\"row_heading level0 row3\" >3</th>\n",
       "      <td id=\"T_200a5_row3_col0\" class=\"data row3 col0\" >151603712</td>\n",
       "      <td id=\"T_200a5_row3_col1\" class=\"data row3 col1\" >Spore</td>\n",
       "      <td id=\"T_200a5_row3_col2\" class=\"data row3 col2\" >purchase</td>\n",
       "      <td id=\"T_200a5_row3_col3\" class=\"data row3 col3\" >1.000000</td>\n",
       "      <td id=\"T_200a5_row3_col4\" class=\"data row3 col4\" >0</td>\n",
       "    </tr>\n",
       "    <tr>\n",
       "      <th id=\"T_200a5_level0_row4\" class=\"row_heading level0 row4\" >4</th>\n",
       "      <td id=\"T_200a5_row4_col0\" class=\"data row4 col0\" >151603712</td>\n",
       "      <td id=\"T_200a5_row4_col1\" class=\"data row4 col1\" >Spore</td>\n",
       "      <td id=\"T_200a5_row4_col2\" class=\"data row4 col2\" >play</td>\n",
       "      <td id=\"T_200a5_row4_col3\" class=\"data row4 col3\" >14.900000</td>\n",
       "      <td id=\"T_200a5_row4_col4\" class=\"data row4 col4\" >0</td>\n",
       "    </tr>\n",
       "  </tbody>\n",
       "</table>\n"
      ],
      "text/plain": [
       "<pandas.io.formats.style.Styler at 0x7f96c8fe75e0>"
      ]
     },
     "execution_count": 5,
     "metadata": {},
     "output_type": "execute_result"
    }
   ],
   "source": [
    "#print the head the top five rows of the columns\n",
    "data.head().style.background_gradient(cmap='winter')"
   ]
  },
  {
   "cell_type": "code",
   "execution_count": 6,
   "id": "685b0068",
   "metadata": {},
   "outputs": [
    {
     "data": {
      "text/html": [
       "<style type=\"text/css\">\n",
       "#T_782ac_row0_col0, #T_782ac_row1_col0, #T_782ac_row1_col3, #T_782ac_row2_col0, #T_782ac_row3_col0, #T_782ac_row3_col3, #T_782ac_row4_col0 {\n",
       "  background-color: #000080;\n",
       "  color: #f1f1f1;\n",
       "}\n",
       "#T_782ac_row0_col3 {\n",
       "  background-color: #800000;\n",
       "  color: #f1f1f1;\n",
       "}\n",
       "#T_782ac_row2_col3 {\n",
       "  background-color: #00c0ff;\n",
       "  color: #000000;\n",
       "}\n",
       "#T_782ac_row4_col3 {\n",
       "  background-color: #0000bb;\n",
       "  color: #f1f1f1;\n",
       "}\n",
       "</style>\n",
       "<table id=\"T_782ac\">\n",
       "  <thead>\n",
       "    <tr>\n",
       "      <th class=\"blank level0\" >&nbsp;</th>\n",
       "      <th id=\"T_782ac_level0_col0\" class=\"col_heading level0 col0\" >user_id</th>\n",
       "      <th id=\"T_782ac_level0_col1\" class=\"col_heading level0 col1\" >games</th>\n",
       "      <th id=\"T_782ac_level0_col2\" class=\"col_heading level0 col2\" >Status</th>\n",
       "      <th id=\"T_782ac_level0_col3\" class=\"col_heading level0 col3\" >hoursplay</th>\n",
       "    </tr>\n",
       "  </thead>\n",
       "  <tbody>\n",
       "    <tr>\n",
       "      <th id=\"T_782ac_level0_row0\" class=\"row_heading level0 row0\" >0</th>\n",
       "      <td id=\"T_782ac_row0_col0\" class=\"data row0 col0\" >151603712</td>\n",
       "      <td id=\"T_782ac_row0_col1\" class=\"data row0 col1\" >The Elder Scrolls V Skyrim</td>\n",
       "      <td id=\"T_782ac_row0_col2\" class=\"data row0 col2\" >play</td>\n",
       "      <td id=\"T_782ac_row0_col3\" class=\"data row0 col3\" >273.000000</td>\n",
       "    </tr>\n",
       "    <tr>\n",
       "      <th id=\"T_782ac_level0_row1\" class=\"row_heading level0 row1\" >1</th>\n",
       "      <td id=\"T_782ac_row1_col0\" class=\"data row1 col0\" >151603712</td>\n",
       "      <td id=\"T_782ac_row1_col1\" class=\"data row1 col1\" >Fallout 4</td>\n",
       "      <td id=\"T_782ac_row1_col2\" class=\"data row1 col2\" >purchase</td>\n",
       "      <td id=\"T_782ac_row1_col3\" class=\"data row1 col3\" >1.000000</td>\n",
       "    </tr>\n",
       "    <tr>\n",
       "      <th id=\"T_782ac_level0_row2\" class=\"row_heading level0 row2\" >2</th>\n",
       "      <td id=\"T_782ac_row2_col0\" class=\"data row2 col0\" >151603712</td>\n",
       "      <td id=\"T_782ac_row2_col1\" class=\"data row2 col1\" >Fallout 4</td>\n",
       "      <td id=\"T_782ac_row2_col2\" class=\"data row2 col2\" >play</td>\n",
       "      <td id=\"T_782ac_row2_col3\" class=\"data row2 col3\" >87.000000</td>\n",
       "    </tr>\n",
       "    <tr>\n",
       "      <th id=\"T_782ac_level0_row3\" class=\"row_heading level0 row3\" >3</th>\n",
       "      <td id=\"T_782ac_row3_col0\" class=\"data row3 col0\" >151603712</td>\n",
       "      <td id=\"T_782ac_row3_col1\" class=\"data row3 col1\" >Spore</td>\n",
       "      <td id=\"T_782ac_row3_col2\" class=\"data row3 col2\" >purchase</td>\n",
       "      <td id=\"T_782ac_row3_col3\" class=\"data row3 col3\" >1.000000</td>\n",
       "    </tr>\n",
       "    <tr>\n",
       "      <th id=\"T_782ac_level0_row4\" class=\"row_heading level0 row4\" >4</th>\n",
       "      <td id=\"T_782ac_row4_col0\" class=\"data row4 col0\" >151603712</td>\n",
       "      <td id=\"T_782ac_row4_col1\" class=\"data row4 col1\" >Spore</td>\n",
       "      <td id=\"T_782ac_row4_col2\" class=\"data row4 col2\" >play</td>\n",
       "      <td id=\"T_782ac_row4_col3\" class=\"data row4 col3\" >14.900000</td>\n",
       "    </tr>\n",
       "  </tbody>\n",
       "</table>\n"
      ],
      "text/plain": [
       "<pandas.io.formats.style.Styler at 0x7f970866b0a0>"
      ]
     },
     "execution_count": 6,
     "metadata": {},
     "output_type": "execute_result"
    }
   ],
   "source": [
    "#drop 0 column\n",
    "data.drop(['0'],axis=1,inplace=True)\n",
    "data.head().style.background_gradient(cmap='jet')"
   ]
  },
  {
   "cell_type": "code",
   "execution_count": 7,
   "id": "254fe4b8",
   "metadata": {},
   "outputs": [
    {
     "data": {
      "text/plain": [
       "(199999, 4)"
      ]
     },
     "execution_count": 7,
     "metadata": {},
     "output_type": "execute_result"
    }
   ],
   "source": [
    "#check the shape of the dataset\n",
    "data.shape"
   ]
  },
  {
   "cell_type": "code",
   "execution_count": 8,
   "id": "ba5e74e3",
   "metadata": {},
   "outputs": [
    {
     "data": {
      "text/plain": [
       "Index(['user_id', 'games', 'Status', 'hoursplay'], dtype='object')"
      ]
     },
     "execution_count": 8,
     "metadata": {},
     "output_type": "execute_result"
    }
   ],
   "source": [
    "#check columns of the dataset\n",
    "data.columns"
   ]
  },
  {
   "cell_type": "code",
   "execution_count": 9,
   "id": "359af715",
   "metadata": {},
   "outputs": [
    {
     "name": "stdout",
     "output_type": "stream",
     "text": [
      "<class 'pandas.core.frame.DataFrame'>\n",
      "RangeIndex: 199999 entries, 0 to 199998\n",
      "Data columns (total 4 columns):\n",
      " #   Column     Non-Null Count   Dtype  \n",
      "---  ------     --------------   -----  \n",
      " 0   user_id    199999 non-null  int64  \n",
      " 1   games      199999 non-null  object \n",
      " 2   Status     199999 non-null  object \n",
      " 3   hoursplay  199999 non-null  float64\n",
      "dtypes: float64(1), int64(1), object(2)\n",
      "memory usage: 6.1+ MB\n"
     ]
    }
   ],
   "source": [
    "# Check which columns are having categorical, numerical or boolean values of dataset\n",
    "data.info()"
   ]
  },
  {
   "cell_type": "code",
   "execution_count": 10,
   "id": "9a9d1963",
   "metadata": {},
   "outputs": [
    {
     "data": {
      "text/plain": [
       "user_id      0\n",
       "games        0\n",
       "Status       0\n",
       "hoursplay    0\n",
       "dtype: int64"
      ]
     },
     "execution_count": 10,
     "metadata": {},
     "output_type": "execute_result"
    }
   ],
   "source": [
    "# Check for missing values in all the columnns of the train_dataset\n",
    "data.isna().sum()"
   ]
  },
  {
   "cell_type": "code",
   "execution_count": 11,
   "id": "3517636e",
   "metadata": {},
   "outputs": [
    {
     "data": {
      "text/plain": [
       "<AxesSubplot:ylabel='games'>"
      ]
     },
     "execution_count": 11,
     "metadata": {},
     "output_type": "execute_result"
    },
    {
     "data": {
      "image/png": "[encoded data removed]",
      "text/plain": [
       "<Figure size 1296x432 with 1 Axes>"
      ]
     },
     "metadata": {},
     "output_type": "display_data"
    }
   ],
   "source": [
    "# get how many unique values are in games column of dataset\n",
    "data['games'].value_counts().head(30).plot(kind='pie',figsize =(18,6), autopct = '%1.1f%%')"
   ]
  },
  {
   "cell_type": "code",
   "execution_count": 12,
   "id": "5177b71a",
   "metadata": {},
   "outputs": [
    {
     "data": {
      "text/plain": [
       "purchase    129510\n",
       "play         70489\n",
       "Name: Status, dtype: int64"
      ]
     },
     "execution_count": 12,
     "metadata": {},
     "output_type": "execute_result"
    }
   ],
   "source": [
    "# get the total count of play and total count of purchase\n",
    "data['Status'].value_counts()"
   ]
  },
  {
   "cell_type": "code",
   "execution_count": 13,
   "id": "2eed34d3",
   "metadata": {},
   "outputs": [
    {
     "data": {
      "text/html": [
       "<style type=\"text/css\">\n",
       "#T_1df17_row0_col0, #T_1df17_row1_col1, #T_1df17_row2_col1, #T_1df17_row3_col0, #T_1df17_row3_col1, #T_1df17_row4_col1, #T_1df17_row5_col1, #T_1df17_row6_col1 {\n",
       "  background-color: #fff5f0;\n",
       "  color: #000000;\n",
       "}\n",
       "#T_1df17_row0_col1, #T_1df17_row7_col0 {\n",
       "  background-color: #67000d;\n",
       "  color: #f1f1f1;\n",
       "}\n",
       "#T_1df17_row1_col0 {\n",
       "  background-color: #fca082;\n",
       "  color: #000000;\n",
       "}\n",
       "#T_1df17_row2_col0 {\n",
       "  background-color: #fcc1a8;\n",
       "  color: #000000;\n",
       "}\n",
       "#T_1df17_row4_col0 {\n",
       "  background-color: #fed8c7;\n",
       "  color: #000000;\n",
       "}\n",
       "#T_1df17_row5_col0 {\n",
       "  background-color: #fcb296;\n",
       "  color: #000000;\n",
       "}\n",
       "#T_1df17_row6_col0 {\n",
       "  background-color: #fb6b4b;\n",
       "  color: #f1f1f1;\n",
       "}\n",
       "#T_1df17_row7_col1 {\n",
       "  background-color: #ffebe2;\n",
       "  color: #000000;\n",
       "}\n",
       "</style>\n",
       "<table id=\"T_1df17\">\n",
       "  <thead>\n",
       "    <tr>\n",
       "      <th class=\"blank level0\" >&nbsp;</th>\n",
       "      <th id=\"T_1df17_level0_col0\" class=\"col_heading level0 col0\" >user_id</th>\n",
       "      <th id=\"T_1df17_level0_col1\" class=\"col_heading level0 col1\" >hoursplay</th>\n",
       "    </tr>\n",
       "  </thead>\n",
       "  <tbody>\n",
       "    <tr>\n",
       "      <th id=\"T_1df17_level0_row0\" class=\"row_heading level0 row0\" >count</th>\n",
       "      <td id=\"T_1df17_row0_col0\" class=\"data row0 col0\" >199999.000000</td>\n",
       "      <td id=\"T_1df17_row0_col1\" class=\"data row0 col1\" >199999.000000</td>\n",
       "    </tr>\n",
       "    <tr>\n",
       "      <th id=\"T_1df17_level0_row1\" class=\"row_heading level0 row1\" >mean</th>\n",
       "      <td id=\"T_1df17_row1_col0\" class=\"data row1 col0\" >103655626.206211</td>\n",
       "      <td id=\"T_1df17_row1_col1\" class=\"data row1 col1\" >17.874468</td>\n",
       "    </tr>\n",
       "    <tr>\n",
       "      <th id=\"T_1df17_level0_row2\" class=\"row_heading level0 row2\" >std</th>\n",
       "      <td id=\"T_1df17_row2_col0\" class=\"data row2 col0\" >72080835.594681</td>\n",
       "      <td id=\"T_1df17_row2_col1\" class=\"data row2 col1\" >138.057292</td>\n",
       "    </tr>\n",
       "    <tr>\n",
       "      <th id=\"T_1df17_level0_row3\" class=\"row_heading level0 row3\" >min</th>\n",
       "      <td id=\"T_1df17_row3_col0\" class=\"data row3 col0\" >5250.000000</td>\n",
       "      <td id=\"T_1df17_row3_col1\" class=\"data row3 col1\" >0.100000</td>\n",
       "    </tr>\n",
       "    <tr>\n",
       "      <th id=\"T_1df17_level0_row4\" class=\"row_heading level0 row4\" >25%</th>\n",
       "      <td id=\"T_1df17_row4_col0\" class=\"data row4 col0\" >47384202.000000</td>\n",
       "      <td id=\"T_1df17_row4_col1\" class=\"data row4 col1\" >1.000000</td>\n",
       "    </tr>\n",
       "    <tr>\n",
       "      <th id=\"T_1df17_level0_row5\" class=\"row_heading level0 row5\" >50%</th>\n",
       "      <td id=\"T_1df17_row5_col0\" class=\"data row5 col0\" >86912006.000000</td>\n",
       "      <td id=\"T_1df17_row5_col1\" class=\"data row5 col1\" >1.000000</td>\n",
       "    </tr>\n",
       "    <tr>\n",
       "      <th id=\"T_1df17_level0_row6\" class=\"row_heading level0 row6\" >75%</th>\n",
       "      <td id=\"T_1df17_row6_col0\" class=\"data row6 col0\" >154230933.000000</td>\n",
       "      <td id=\"T_1df17_row6_col1\" class=\"data row6 col1\" >1.300000</td>\n",
       "    </tr>\n",
       "    <tr>\n",
       "      <th id=\"T_1df17_level0_row7\" class=\"row_heading level0 row7\" >max</th>\n",
       "      <td id=\"T_1df17_row7_col0\" class=\"data row7 col0\" >309903146.000000</td>\n",
       "      <td id=\"T_1df17_row7_col1\" class=\"data row7 col1\" >11754.000000</td>\n",
       "    </tr>\n",
       "  </tbody>\n",
       "</table>\n"
      ],
      "text/plain": [
       "<pandas.io.formats.style.Styler at 0x7f96c8fe7eb0>"
      ]
     },
     "execution_count": 13,
     "metadata": {},
     "output_type": "execute_result"
    }
   ],
   "source": [
    "# For more information on the dataset like the total count in all the columns\n",
    "# min, max values and more information of the respective columns  \n",
    "data.describe().style.background_gradient(cmap='Reds')"
   ]
  },
  {
   "cell_type": "markdown",
   "id": "82f910b5",
   "metadata": {},
   "source": [
    "## visualizing data"
   ]
  },
  {
   "cell_type": "code",
   "execution_count": 14,
   "id": "07edcd5b",
   "metadata": {},
   "outputs": [
    {
     "data": {
      "text/plain": [
       "array([[<AxesSubplot:title={'center':'user_id'}>,\n",
       "        <AxesSubplot:title={'center':'hoursplay'}>]], dtype=object)"
      ]
     },
     "execution_count": 14,
     "metadata": {},
     "output_type": "execute_result"
    },
    {
     "data": {
      "image/png": "[encoded data removed]",
      "text/plain": [
       "<Figure size 1152x360 with 2 Axes>"
      ]
     },
     "metadata": {
      "needs_background": "light"
     },
     "output_type": "display_data"
    }
   ],
   "source": [
    "# Histogram using pandas\n",
    "data.hist(figsize=(16,5))"
   ]
  },
  {
   "cell_type": "code",
   "execution_count": 15,
   "id": "8b0c4d1b",
   "metadata": {},
   "outputs": [
    {
     "data": {
      "text/plain": [
       "<AxesSubplot:>"
      ]
     },
     "execution_count": 15,
     "metadata": {},
     "output_type": "execute_result"
    },
    {
     "data": {
      "image/png": "[encoded data removed]",
      "text/plain": [
       "<Figure size 1152x360 with 1 Axes>"
      ]
     },
     "metadata": {
      "needs_background": "light"
     },
     "output_type": "display_data"
    }
   ],
   "source": [
    "# plot a horizontal bar plot of column status\n",
    "data['Status'].value_counts().plot(kind='barh',figsize=(16,5))"
   ]
  },
  {
   "cell_type": "code",
   "execution_count": 16,
   "id": "618ee1c5",
   "metadata": {},
   "outputs": [
    {
     "data": {
      "text/plain": [
       "1.0       130568\n",
       "0.2         3016\n",
       "0.3         2517\n",
       "0.4         2129\n",
       "0.5         1813\n",
       "           ...  \n",
       "724.0          1\n",
       "737.0          1\n",
       "3503.0         1\n",
       "1397.0         1\n",
       "1310.0         1\n",
       "Name: hoursplay, Length: 1593, dtype: int64"
      ]
     },
     "execution_count": 16,
     "metadata": {},
     "output_type": "execute_result"
    }
   ],
   "source": [
    "#plot a count plot of hoursplay column\n",
    "data['hoursplay'].value_counts()"
   ]
  },
  {
   "cell_type": "code",
   "execution_count": 17,
   "id": "b9c3fbac",
   "metadata": {},
   "outputs": [
    {
     "data": {
      "text/plain": [
       "<AxesSubplot:>"
      ]
     },
     "execution_count": 17,
     "metadata": {},
     "output_type": "execute_result"
    },
    {
     "data": {
      "image/png": "[encoded data removed]",
      "text/plain": [
       "<Figure size 432x288 with 1 Axes>"
      ]
     },
     "metadata": {
      "needs_background": "light"
     },
     "output_type": "display_data"
    }
   ],
   "source": [
    "# plot a horizontal bar plot of games column for top 30 games\n",
    "data['games'].value_counts().head(30).plot(kind='barh')"
   ]
  },
  {
   "cell_type": "code",
   "execution_count": 18,
   "id": "df8205ec",
   "metadata": {},
   "outputs": [
    {
     "data": {
      "text/plain": [
       "<AxesSubplot:title={'center':'hoursplay'}, xlabel='Status'>"
      ]
     },
     "execution_count": 18,
     "metadata": {},
     "output_type": "execute_result"
    },
    {
     "data": {
      "image/png": "[encoded data removed]",
      "text/plain": [
       "<Figure size 1080x720 with 1 Axes>"
      ]
     },
     "metadata": {
      "needs_background": "light"
     },
     "output_type": "display_data"
    }
   ],
   "source": [
    "# plot a boxplot of status as x-axis and hoursplay as y-axis\n",
    "data.boxplot(column='hoursplay',figsize=(15,10),by='Status')"
   ]
  },
  {
   "cell_type": "markdown",
   "id": "1754fbfc",
   "metadata": {},
   "source": [
    "# converting hours to rating"
   ]
  },
  {
   "cell_type": "code",
   "execution_count": 19,
   "id": "c24f4fee",
   "metadata": {},
   "outputs": [],
   "source": [
    "data= data[(data['hoursplay']>=2) & (data['Status']=='play')]\n",
    "data = data[data.groupby('games').user_id.transform(len)>=20]"
   ]
  },
  {
   "cell_type": "code",
   "execution_count": 20,
   "id": "62a79d71",
   "metadata": {},
   "outputs": [],
   "source": [
    "#print the average\n",
    "average = data.groupby(['games'],as_index = False).hoursplay.mean()"
   ]
  },
  {
   "cell_type": "code",
   "execution_count": 21,
   "id": "3ac25a1e",
   "metadata": {},
   "outputs": [
    {
     "data": {
      "text/html": [
       "<div>\n",
       "<style scoped>\n",
       "    .dataframe tbody tr th:only-of-type {\n",
       "        vertical-align: middle;\n",
       "    }\n",
       "\n",
       "    .dataframe tbody tr th {\n",
       "        vertical-align: top;\n",
       "    }\n",
       "\n",
       "    .dataframe thead th {\n",
       "        text-align: right;\n",
       "    }\n",
       "</style>\n",
       "<table border=\"1\" class=\"dataframe\">\n",
       "  <thead>\n",
       "    <tr style=\"text-align: right;\">\n",
       "      <th></th>\n",
       "      <th>games</th>\n",
       "      <th>avg_Hoursplay</th>\n",
       "    </tr>\n",
       "  </thead>\n",
       "  <tbody>\n",
       "    <tr>\n",
       "      <th>0</th>\n",
       "      <td>7 Days to Die</td>\n",
       "      <td>50.777500</td>\n",
       "    </tr>\n",
       "    <tr>\n",
       "      <th>1</th>\n",
       "      <td>APB Reloaded</td>\n",
       "      <td>113.377778</td>\n",
       "    </tr>\n",
       "    <tr>\n",
       "      <th>2</th>\n",
       "      <td>ARK Survival Evolved</td>\n",
       "      <td>105.982812</td>\n",
       "    </tr>\n",
       "    <tr>\n",
       "      <th>3</th>\n",
       "      <td>Ace of Spades</td>\n",
       "      <td>10.971739</td>\n",
       "    </tr>\n",
       "    <tr>\n",
       "      <th>4</th>\n",
       "      <td>AdVenture Capitalist</td>\n",
       "      <td>67.760674</td>\n",
       "    </tr>\n",
       "  </tbody>\n",
       "</table>\n",
       "</div>"
      ],
      "text/plain": [
       "                  games  avg_Hoursplay\n",
       "0         7 Days to Die      50.777500\n",
       "1          APB Reloaded     113.377778\n",
       "2  ARK Survival Evolved     105.982812\n",
       "3         Ace of Spades      10.971739\n",
       "4  AdVenture Capitalist      67.760674"
      ]
     },
     "execution_count": 21,
     "metadata": {},
     "output_type": "execute_result"
    }
   ],
   "source": [
    "# comvert the hoursplay into rating\n",
    "average['avg_Hoursplay']=average['hoursplay']\n",
    "average.drop(columns ='hoursplay',inplace = True )\n",
    "average.head()"
   ]
  },
  {
   "cell_type": "code",
   "execution_count": 22,
   "id": "b5e95929",
   "metadata": {},
   "outputs": [
    {
     "data": {
      "text/html": [
       "<div>\n",
       "<style scoped>\n",
       "    .dataframe tbody tr th:only-of-type {\n",
       "        vertical-align: middle;\n",
       "    }\n",
       "\n",
       "    .dataframe tbody tr th {\n",
       "        vertical-align: top;\n",
       "    }\n",
       "\n",
       "    .dataframe thead th {\n",
       "        text-align: right;\n",
       "    }\n",
       "</style>\n",
       "<table border=\"1\" class=\"dataframe\">\n",
       "  <thead>\n",
       "    <tr style=\"text-align: right;\">\n",
       "      <th></th>\n",
       "      <th>user_id</th>\n",
       "      <th>games</th>\n",
       "      <th>Status</th>\n",
       "      <th>hoursplay</th>\n",
       "      <th>avg_Hoursplay</th>\n",
       "    </tr>\n",
       "  </thead>\n",
       "  <tbody>\n",
       "    <tr>\n",
       "      <th>0</th>\n",
       "      <td>151603712</td>\n",
       "      <td>The Elder Scrolls V Skyrim</td>\n",
       "      <td>play</td>\n",
       "      <td>273.0</td>\n",
       "      <td>115.351792</td>\n",
       "    </tr>\n",
       "    <tr>\n",
       "      <th>1</th>\n",
       "      <td>59945701</td>\n",
       "      <td>The Elder Scrolls V Skyrim</td>\n",
       "      <td>play</td>\n",
       "      <td>58.0</td>\n",
       "      <td>115.351792</td>\n",
       "    </tr>\n",
       "    <tr>\n",
       "      <th>2</th>\n",
       "      <td>92107940</td>\n",
       "      <td>The Elder Scrolls V Skyrim</td>\n",
       "      <td>play</td>\n",
       "      <td>110.0</td>\n",
       "      <td>115.351792</td>\n",
       "    </tr>\n",
       "    <tr>\n",
       "      <th>3</th>\n",
       "      <td>250006052</td>\n",
       "      <td>The Elder Scrolls V Skyrim</td>\n",
       "      <td>play</td>\n",
       "      <td>465.0</td>\n",
       "      <td>115.351792</td>\n",
       "    </tr>\n",
       "    <tr>\n",
       "      <th>4</th>\n",
       "      <td>11373749</td>\n",
       "      <td>The Elder Scrolls V Skyrim</td>\n",
       "      <td>play</td>\n",
       "      <td>220.0</td>\n",
       "      <td>115.351792</td>\n",
       "    </tr>\n",
       "  </tbody>\n",
       "</table>\n",
       "</div>"
      ],
      "text/plain": [
       "     user_id                       games Status  hoursplay  avg_Hoursplay\n",
       "0  151603712  The Elder Scrolls V Skyrim   play      273.0     115.351792\n",
       "1   59945701  The Elder Scrolls V Skyrim   play       58.0     115.351792\n",
       "2   92107940  The Elder Scrolls V Skyrim   play      110.0     115.351792\n",
       "3  250006052  The Elder Scrolls V Skyrim   play      465.0     115.351792\n",
       "4   11373749  The Elder Scrolls V Skyrim   play      220.0     115.351792"
      ]
     },
     "execution_count": 22,
     "metadata": {},
     "output_type": "execute_result"
    }
   ],
   "source": [
    "data = data.merge(average,on = 'games')\n",
    "data.head()"
   ]
  },
  {
   "cell_type": "code",
   "execution_count": 23,
   "id": "a99455b9",
   "metadata": {},
   "outputs": [],
   "source": [
    "condition = [\n",
    "    data['hoursplay']>= (0.8*data['avg_Hoursplay']),\n",
    "   (data['hoursplay']>=0.6*data['avg_Hoursplay'])&(data['hoursplay']<0.8*data['hoursplay']),\n",
    "   (data['hoursplay']>=0.4*data['avg_Hoursplay'])&(data['hoursplay']<0.6*data['hoursplay']),\n",
    "   (data['hoursplay']>=0.2*data['avg_Hoursplay'])&(data['hoursplay']<0.4*data['hoursplay']),\n",
    "    data['hoursplay']>=0\n",
    "    \n",
    "]\n",
    "values = [5,4,3,2,1]\n",
    "data['rating'] = np.select(condition,values)"
   ]
  },
  {
   "cell_type": "code",
   "execution_count": 24,
   "id": "80a2bd6a",
   "metadata": {},
   "outputs": [
    {
     "data": {
      "text/html": [
       "<div>\n",
       "<style scoped>\n",
       "    .dataframe tbody tr th:only-of-type {\n",
       "        vertical-align: middle;\n",
       "    }\n",
       "\n",
       "    .dataframe tbody tr th {\n",
       "        vertical-align: top;\n",
       "    }\n",
       "\n",
       "    .dataframe thead th {\n",
       "        text-align: right;\n",
       "    }\n",
       "</style>\n",
       "<table border=\"1\" class=\"dataframe\">\n",
       "  <thead>\n",
       "    <tr style=\"text-align: right;\">\n",
       "      <th></th>\n",
       "      <th>user_id</th>\n",
       "      <th>games</th>\n",
       "      <th>Status</th>\n",
       "      <th>hoursplay</th>\n",
       "      <th>avg_Hoursplay</th>\n",
       "      <th>rating</th>\n",
       "    </tr>\n",
       "  </thead>\n",
       "  <tbody>\n",
       "    <tr>\n",
       "      <th>0</th>\n",
       "      <td>151603712</td>\n",
       "      <td>The Elder Scrolls V Skyrim</td>\n",
       "      <td>play</td>\n",
       "      <td>273.0</td>\n",
       "      <td>115.351792</td>\n",
       "      <td>5</td>\n",
       "    </tr>\n",
       "    <tr>\n",
       "      <th>1</th>\n",
       "      <td>59945701</td>\n",
       "      <td>The Elder Scrolls V Skyrim</td>\n",
       "      <td>play</td>\n",
       "      <td>58.0</td>\n",
       "      <td>115.351792</td>\n",
       "      <td>1</td>\n",
       "    </tr>\n",
       "    <tr>\n",
       "      <th>2</th>\n",
       "      <td>92107940</td>\n",
       "      <td>The Elder Scrolls V Skyrim</td>\n",
       "      <td>play</td>\n",
       "      <td>110.0</td>\n",
       "      <td>115.351792</td>\n",
       "      <td>5</td>\n",
       "    </tr>\n",
       "    <tr>\n",
       "      <th>3</th>\n",
       "      <td>250006052</td>\n",
       "      <td>The Elder Scrolls V Skyrim</td>\n",
       "      <td>play</td>\n",
       "      <td>465.0</td>\n",
       "      <td>115.351792</td>\n",
       "      <td>5</td>\n",
       "    </tr>\n",
       "    <tr>\n",
       "      <th>4</th>\n",
       "      <td>11373749</td>\n",
       "      <td>The Elder Scrolls V Skyrim</td>\n",
       "      <td>play</td>\n",
       "      <td>220.0</td>\n",
       "      <td>115.351792</td>\n",
       "      <td>5</td>\n",
       "    </tr>\n",
       "  </tbody>\n",
       "</table>\n",
       "</div>"
      ],
      "text/plain": [
       "     user_id                       games Status  hoursplay  avg_Hoursplay  \\\n",
       "0  151603712  The Elder Scrolls V Skyrim   play      273.0     115.351792   \n",
       "1   59945701  The Elder Scrolls V Skyrim   play       58.0     115.351792   \n",
       "2   92107940  The Elder Scrolls V Skyrim   play      110.0     115.351792   \n",
       "3  250006052  The Elder Scrolls V Skyrim   play      465.0     115.351792   \n",
       "4   11373749  The Elder Scrolls V Skyrim   play      220.0     115.351792   \n",
       "\n",
       "   rating  \n",
       "0       5  \n",
       "1       1  \n",
       "2       5  \n",
       "3       5  \n",
       "4       5  "
      ]
     },
     "execution_count": 24,
     "metadata": {},
     "output_type": "execute_result"
    }
   ],
   "source": [
    "data.head()"
   ]
  },
  {
   "cell_type": "code",
   "execution_count": 25,
   "id": "3fb35dab",
   "metadata": {},
   "outputs": [
    {
     "data": {
      "text/html": [
       "<div>\n",
       "<style scoped>\n",
       "    .dataframe tbody tr th:only-of-type {\n",
       "        vertical-align: middle;\n",
       "    }\n",
       "\n",
       "    .dataframe tbody tr th {\n",
       "        vertical-align: top;\n",
       "    }\n",
       "\n",
       "    .dataframe thead th {\n",
       "        text-align: right;\n",
       "    }\n",
       "</style>\n",
       "<table border=\"1\" class=\"dataframe\">\n",
       "  <thead>\n",
       "    <tr style=\"text-align: right;\">\n",
       "      <th></th>\n",
       "      <th>user_id</th>\n",
       "      <th>games</th>\n",
       "      <th>rating</th>\n",
       "    </tr>\n",
       "  </thead>\n",
       "  <tbody>\n",
       "    <tr>\n",
       "      <th>0</th>\n",
       "      <td>151603712</td>\n",
       "      <td>The Elder Scrolls V Skyrim</td>\n",
       "      <td>5</td>\n",
       "    </tr>\n",
       "    <tr>\n",
       "      <th>1</th>\n",
       "      <td>59945701</td>\n",
       "      <td>The Elder Scrolls V Skyrim</td>\n",
       "      <td>1</td>\n",
       "    </tr>\n",
       "    <tr>\n",
       "      <th>2</th>\n",
       "      <td>92107940</td>\n",
       "      <td>The Elder Scrolls V Skyrim</td>\n",
       "      <td>5</td>\n",
       "    </tr>\n",
       "    <tr>\n",
       "      <th>3</th>\n",
       "      <td>250006052</td>\n",
       "      <td>The Elder Scrolls V Skyrim</td>\n",
       "      <td>5</td>\n",
       "    </tr>\n",
       "    <tr>\n",
       "      <th>4</th>\n",
       "      <td>11373749</td>\n",
       "      <td>The Elder Scrolls V Skyrim</td>\n",
       "      <td>5</td>\n",
       "    </tr>\n",
       "  </tbody>\n",
       "</table>\n",
       "</div>"
      ],
      "text/plain": [
       "     user_id                       games  rating\n",
       "0  151603712  The Elder Scrolls V Skyrim       5\n",
       "1   59945701  The Elder Scrolls V Skyrim       1\n",
       "2   92107940  The Elder Scrolls V Skyrim       5\n",
       "3  250006052  The Elder Scrolls V Skyrim       5\n",
       "4   11373749  The Elder Scrolls V Skyrim       5"
      ]
     },
     "execution_count": 25,
     "metadata": {},
     "output_type": "execute_result"
    }
   ],
   "source": [
    "# keep only important columns( user_id, games,rating ) drop everthing else \n",
    "data.drop(['Status','hoursplay','avg_Hoursplay'],axis=1,inplace=True)\n",
    "data.head()"
   ]
  },
  {
   "cell_type": "markdown",
   "id": "80e9184b",
   "metadata": {},
   "source": [
    "# MEMORY BASED COLLABORATIVE FILTERING\n",
    "\n",
    "Memory-based algorithms approach the collaborative filtering problem by using the entire database.It tries to find users that are similar to the active user (i.e. the users we want to make predictions for), and uses their preferences to predict ratings for the active user."
   ]
  },
  {
   "cell_type": "code",
   "execution_count": 26,
   "id": "8f87fed2",
   "metadata": {},
   "outputs": [],
   "source": [
    "#import pairwise_distances, cosine, corelation\n",
    "from sklearn.metrics.pairwise import pairwise_distances,cosine_similarity\n",
    "from scipy.spatial.distance import cosine,correlation"
   ]
  },
  {
   "cell_type": "code",
   "execution_count": 27,
   "id": "ec3efa37",
   "metadata": {},
   "outputs": [
    {
     "data": {
      "text/html": [
       "<div>\n",
       "<style scoped>\n",
       "    .dataframe tbody tr th:only-of-type {\n",
       "        vertical-align: middle;\n",
       "    }\n",
       "\n",
       "    .dataframe tbody tr th {\n",
       "        vertical-align: top;\n",
       "    }\n",
       "\n",
       "    .dataframe thead th {\n",
       "        text-align: right;\n",
       "    }\n",
       "</style>\n",
       "<table border=\"1\" class=\"dataframe\">\n",
       "  <thead>\n",
       "    <tr style=\"text-align: right;\">\n",
       "      <th>games</th>\n",
       "      <th>7 Days to Die</th>\n",
       "      <th>APB Reloaded</th>\n",
       "      <th>ARK Survival Evolved</th>\n",
       "      <th>Ace of Spades</th>\n",
       "      <th>AdVenture Capitalist</th>\n",
       "      <th>Aftermath</th>\n",
       "      <th>Age of Chivalry</th>\n",
       "      <th>Age of Empires II HD Edition</th>\n",
       "      <th>Age of Empires III Complete Collection</th>\n",
       "      <th>Age of Mythology Extended Edition</th>\n",
       "      <th>...</th>\n",
       "      <th>Warhammer 40,000 Dawn of War II - Chaos Rising</th>\n",
       "      <th>Warhammer 40,000 Space Marine</th>\n",
       "      <th>Wasteland 2</th>\n",
       "      <th>Watch_Dogs</th>\n",
       "      <th>Wolfenstein The New Order</th>\n",
       "      <th>Worms Reloaded</th>\n",
       "      <th>Worms Revolution</th>\n",
       "      <th>XCOM Enemy Unknown</th>\n",
       "      <th>Zombie Panic Source</th>\n",
       "      <th>theHunter</th>\n",
       "    </tr>\n",
       "    <tr>\n",
       "      <th>user_id</th>\n",
       "      <th></th>\n",
       "      <th></th>\n",
       "      <th></th>\n",
       "      <th></th>\n",
       "      <th></th>\n",
       "      <th></th>\n",
       "      <th></th>\n",
       "      <th></th>\n",
       "      <th></th>\n",
       "      <th></th>\n",
       "      <th></th>\n",
       "      <th></th>\n",
       "      <th></th>\n",
       "      <th></th>\n",
       "      <th></th>\n",
       "      <th></th>\n",
       "      <th></th>\n",
       "      <th></th>\n",
       "      <th></th>\n",
       "      <th></th>\n",
       "      <th></th>\n",
       "    </tr>\n",
       "  </thead>\n",
       "  <tbody>\n",
       "    <tr>\n",
       "      <th>5250</th>\n",
       "      <td>NaN</td>\n",
       "      <td>NaN</td>\n",
       "      <td>NaN</td>\n",
       "      <td>NaN</td>\n",
       "      <td>NaN</td>\n",
       "      <td>NaN</td>\n",
       "      <td>NaN</td>\n",
       "      <td>NaN</td>\n",
       "      <td>NaN</td>\n",
       "      <td>NaN</td>\n",
       "      <td>...</td>\n",
       "      <td>NaN</td>\n",
       "      <td>NaN</td>\n",
       "      <td>NaN</td>\n",
       "      <td>NaN</td>\n",
       "      <td>NaN</td>\n",
       "      <td>NaN</td>\n",
       "      <td>NaN</td>\n",
       "      <td>NaN</td>\n",
       "      <td>NaN</td>\n",
       "      <td>NaN</td>\n",
       "    </tr>\n",
       "    <tr>\n",
       "      <th>76767</th>\n",
       "      <td>NaN</td>\n",
       "      <td>NaN</td>\n",
       "      <td>NaN</td>\n",
       "      <td>NaN</td>\n",
       "      <td>NaN</td>\n",
       "      <td>NaN</td>\n",
       "      <td>NaN</td>\n",
       "      <td>1.0</td>\n",
       "      <td>NaN</td>\n",
       "      <td>NaN</td>\n",
       "      <td>...</td>\n",
       "      <td>NaN</td>\n",
       "      <td>NaN</td>\n",
       "      <td>NaN</td>\n",
       "      <td>NaN</td>\n",
       "      <td>NaN</td>\n",
       "      <td>NaN</td>\n",
       "      <td>NaN</td>\n",
       "      <td>NaN</td>\n",
       "      <td>NaN</td>\n",
       "      <td>NaN</td>\n",
       "    </tr>\n",
       "    <tr>\n",
       "      <th>86540</th>\n",
       "      <td>NaN</td>\n",
       "      <td>NaN</td>\n",
       "      <td>NaN</td>\n",
       "      <td>NaN</td>\n",
       "      <td>NaN</td>\n",
       "      <td>NaN</td>\n",
       "      <td>NaN</td>\n",
       "      <td>NaN</td>\n",
       "      <td>NaN</td>\n",
       "      <td>NaN</td>\n",
       "      <td>...</td>\n",
       "      <td>NaN</td>\n",
       "      <td>NaN</td>\n",
       "      <td>NaN</td>\n",
       "      <td>NaN</td>\n",
       "      <td>NaN</td>\n",
       "      <td>NaN</td>\n",
       "      <td>NaN</td>\n",
       "      <td>1.0</td>\n",
       "      <td>NaN</td>\n",
       "      <td>NaN</td>\n",
       "    </tr>\n",
       "    <tr>\n",
       "      <th>229911</th>\n",
       "      <td>NaN</td>\n",
       "      <td>NaN</td>\n",
       "      <td>NaN</td>\n",
       "      <td>NaN</td>\n",
       "      <td>NaN</td>\n",
       "      <td>NaN</td>\n",
       "      <td>NaN</td>\n",
       "      <td>NaN</td>\n",
       "      <td>NaN</td>\n",
       "      <td>NaN</td>\n",
       "      <td>...</td>\n",
       "      <td>NaN</td>\n",
       "      <td>NaN</td>\n",
       "      <td>NaN</td>\n",
       "      <td>NaN</td>\n",
       "      <td>NaN</td>\n",
       "      <td>1.0</td>\n",
       "      <td>NaN</td>\n",
       "      <td>NaN</td>\n",
       "      <td>NaN</td>\n",
       "      <td>NaN</td>\n",
       "    </tr>\n",
       "    <tr>\n",
       "      <th>298950</th>\n",
       "      <td>1.0</td>\n",
       "      <td>NaN</td>\n",
       "      <td>1.0</td>\n",
       "      <td>NaN</td>\n",
       "      <td>NaN</td>\n",
       "      <td>NaN</td>\n",
       "      <td>NaN</td>\n",
       "      <td>NaN</td>\n",
       "      <td>NaN</td>\n",
       "      <td>NaN</td>\n",
       "      <td>...</td>\n",
       "      <td>NaN</td>\n",
       "      <td>NaN</td>\n",
       "      <td>1.0</td>\n",
       "      <td>NaN</td>\n",
       "      <td>NaN</td>\n",
       "      <td>NaN</td>\n",
       "      <td>NaN</td>\n",
       "      <td>1.0</td>\n",
       "      <td>NaN</td>\n",
       "      <td>NaN</td>\n",
       "    </tr>\n",
       "    <tr>\n",
       "      <th>...</th>\n",
       "      <td>...</td>\n",
       "      <td>...</td>\n",
       "      <td>...</td>\n",
       "      <td>...</td>\n",
       "      <td>...</td>\n",
       "      <td>...</td>\n",
       "      <td>...</td>\n",
       "      <td>...</td>\n",
       "      <td>...</td>\n",
       "      <td>...</td>\n",
       "      <td>...</td>\n",
       "      <td>...</td>\n",
       "      <td>...</td>\n",
       "      <td>...</td>\n",
       "      <td>...</td>\n",
       "      <td>...</td>\n",
       "      <td>...</td>\n",
       "      <td>...</td>\n",
       "      <td>...</td>\n",
       "      <td>...</td>\n",
       "      <td>...</td>\n",
       "    </tr>\n",
       "    <tr>\n",
       "      <th>309255941</th>\n",
       "      <td>NaN</td>\n",
       "      <td>NaN</td>\n",
       "      <td>NaN</td>\n",
       "      <td>NaN</td>\n",
       "      <td>NaN</td>\n",
       "      <td>NaN</td>\n",
       "      <td>NaN</td>\n",
       "      <td>NaN</td>\n",
       "      <td>NaN</td>\n",
       "      <td>NaN</td>\n",
       "      <td>...</td>\n",
       "      <td>NaN</td>\n",
       "      <td>NaN</td>\n",
       "      <td>NaN</td>\n",
       "      <td>NaN</td>\n",
       "      <td>NaN</td>\n",
       "      <td>NaN</td>\n",
       "      <td>NaN</td>\n",
       "      <td>NaN</td>\n",
       "      <td>NaN</td>\n",
       "      <td>NaN</td>\n",
       "    </tr>\n",
       "    <tr>\n",
       "      <th>309265377</th>\n",
       "      <td>NaN</td>\n",
       "      <td>NaN</td>\n",
       "      <td>NaN</td>\n",
       "      <td>NaN</td>\n",
       "      <td>NaN</td>\n",
       "      <td>NaN</td>\n",
       "      <td>NaN</td>\n",
       "      <td>NaN</td>\n",
       "      <td>NaN</td>\n",
       "      <td>NaN</td>\n",
       "      <td>...</td>\n",
       "      <td>NaN</td>\n",
       "      <td>NaN</td>\n",
       "      <td>NaN</td>\n",
       "      <td>NaN</td>\n",
       "      <td>NaN</td>\n",
       "      <td>NaN</td>\n",
       "      <td>NaN</td>\n",
       "      <td>NaN</td>\n",
       "      <td>NaN</td>\n",
       "      <td>NaN</td>\n",
       "    </tr>\n",
       "    <tr>\n",
       "      <th>309404240</th>\n",
       "      <td>NaN</td>\n",
       "      <td>NaN</td>\n",
       "      <td>NaN</td>\n",
       "      <td>NaN</td>\n",
       "      <td>NaN</td>\n",
       "      <td>NaN</td>\n",
       "      <td>NaN</td>\n",
       "      <td>NaN</td>\n",
       "      <td>NaN</td>\n",
       "      <td>NaN</td>\n",
       "      <td>...</td>\n",
       "      <td>NaN</td>\n",
       "      <td>NaN</td>\n",
       "      <td>NaN</td>\n",
       "      <td>NaN</td>\n",
       "      <td>NaN</td>\n",
       "      <td>NaN</td>\n",
       "      <td>NaN</td>\n",
       "      <td>NaN</td>\n",
       "      <td>NaN</td>\n",
       "      <td>NaN</td>\n",
       "    </tr>\n",
       "    <tr>\n",
       "      <th>309554670</th>\n",
       "      <td>NaN</td>\n",
       "      <td>NaN</td>\n",
       "      <td>NaN</td>\n",
       "      <td>NaN</td>\n",
       "      <td>NaN</td>\n",
       "      <td>NaN</td>\n",
       "      <td>NaN</td>\n",
       "      <td>NaN</td>\n",
       "      <td>NaN</td>\n",
       "      <td>NaN</td>\n",
       "      <td>...</td>\n",
       "      <td>NaN</td>\n",
       "      <td>NaN</td>\n",
       "      <td>NaN</td>\n",
       "      <td>NaN</td>\n",
       "      <td>NaN</td>\n",
       "      <td>NaN</td>\n",
       "      <td>NaN</td>\n",
       "      <td>NaN</td>\n",
       "      <td>NaN</td>\n",
       "      <td>NaN</td>\n",
       "    </tr>\n",
       "    <tr>\n",
       "      <th>309626088</th>\n",
       "      <td>NaN</td>\n",
       "      <td>NaN</td>\n",
       "      <td>NaN</td>\n",
       "      <td>NaN</td>\n",
       "      <td>NaN</td>\n",
       "      <td>NaN</td>\n",
       "      <td>NaN</td>\n",
       "      <td>1.0</td>\n",
       "      <td>NaN</td>\n",
       "      <td>NaN</td>\n",
       "      <td>...</td>\n",
       "      <td>NaN</td>\n",
       "      <td>NaN</td>\n",
       "      <td>NaN</td>\n",
       "      <td>NaN</td>\n",
       "      <td>NaN</td>\n",
       "      <td>NaN</td>\n",
       "      <td>NaN</td>\n",
       "      <td>NaN</td>\n",
       "      <td>NaN</td>\n",
       "      <td>NaN</td>\n",
       "    </tr>\n",
       "  </tbody>\n",
       "</table>\n",
       "<p>8315 rows × 431 columns</p>\n",
       "</div>"
      ],
      "text/plain": [
       "games      7 Days to Die  APB Reloaded  ARK Survival Evolved  Ace of Spades  \\\n",
       "user_id                                                                       \n",
       "5250                 NaN           NaN                   NaN            NaN   \n",
       "76767                NaN           NaN                   NaN            NaN   \n",
       "86540                NaN           NaN                   NaN            NaN   \n",
       "229911               NaN           NaN                   NaN            NaN   \n",
       "298950               1.0           NaN                   1.0            NaN   \n",
       "...                  ...           ...                   ...            ...   \n",
       "309255941            NaN           NaN                   NaN            NaN   \n",
       "309265377            NaN           NaN                   NaN            NaN   \n",
       "309404240            NaN           NaN                   NaN            NaN   \n",
       "309554670            NaN           NaN                   NaN            NaN   \n",
       "309626088            NaN           NaN                   NaN            NaN   \n",
       "\n",
       "games      AdVenture Capitalist  Aftermath  Age of Chivalry  \\\n",
       "user_id                                                       \n",
       "5250                        NaN        NaN              NaN   \n",
       "76767                       NaN        NaN              NaN   \n",
       "86540                       NaN        NaN              NaN   \n",
       "229911                      NaN        NaN              NaN   \n",
       "298950                      NaN        NaN              NaN   \n",
       "...                         ...        ...              ...   \n",
       "309255941                   NaN        NaN              NaN   \n",
       "309265377                   NaN        NaN              NaN   \n",
       "309404240                   NaN        NaN              NaN   \n",
       "309554670                   NaN        NaN              NaN   \n",
       "309626088                   NaN        NaN              NaN   \n",
       "\n",
       "games      Age of Empires II HD Edition  \\\n",
       "user_id                                   \n",
       "5250                                NaN   \n",
       "76767                               1.0   \n",
       "86540                               NaN   \n",
       "229911                              NaN   \n",
       "298950                              NaN   \n",
       "...                                 ...   \n",
       "309255941                           NaN   \n",
       "309265377                           NaN   \n",
       "309404240                           NaN   \n",
       "309554670                           NaN   \n",
       "309626088                           1.0   \n",
       "\n",
       "games      Age of Empires III Complete Collection  \\\n",
       "user_id                                             \n",
       "5250                                          NaN   \n",
       "76767                                         NaN   \n",
       "86540                                         NaN   \n",
       "229911                                        NaN   \n",
       "298950                                        NaN   \n",
       "...                                           ...   \n",
       "309255941                                     NaN   \n",
       "309265377                                     NaN   \n",
       "309404240                                     NaN   \n",
       "309554670                                     NaN   \n",
       "309626088                                     NaN   \n",
       "\n",
       "games      Age of Mythology Extended Edition  ...  \\\n",
       "user_id                                       ...   \n",
       "5250                                     NaN  ...   \n",
       "76767                                    NaN  ...   \n",
       "86540                                    NaN  ...   \n",
       "229911                                   NaN  ...   \n",
       "298950                                   NaN  ...   \n",
       "...                                      ...  ...   \n",
       "309255941                                NaN  ...   \n",
       "309265377                                NaN  ...   \n",
       "309404240                                NaN  ...   \n",
       "309554670                                NaN  ...   \n",
       "309626088                                NaN  ...   \n",
       "\n",
       "games      Warhammer 40,000 Dawn of War II - Chaos Rising  \\\n",
       "user_id                                                     \n",
       "5250                                                  NaN   \n",
       "76767                                                 NaN   \n",
       "86540                                                 NaN   \n",
       "229911                                                NaN   \n",
       "298950                                                NaN   \n",
       "...                                                   ...   \n",
       "309255941                                             NaN   \n",
       "309265377                                             NaN   \n",
       "309404240                                             NaN   \n",
       "309554670                                             NaN   \n",
       "309626088                                             NaN   \n",
       "\n",
       "games      Warhammer 40,000 Space Marine  Wasteland 2  Watch_Dogs  \\\n",
       "user_id                                                             \n",
       "5250                                 NaN          NaN         NaN   \n",
       "76767                                NaN          NaN         NaN   \n",
       "86540                                NaN          NaN         NaN   \n",
       "229911                               NaN          NaN         NaN   \n",
       "298950                               NaN          1.0         NaN   \n",
       "...                                  ...          ...         ...   \n",
       "309255941                            NaN          NaN         NaN   \n",
       "309265377                            NaN          NaN         NaN   \n",
       "309404240                            NaN          NaN         NaN   \n",
       "309554670                            NaN          NaN         NaN   \n",
       "309626088                            NaN          NaN         NaN   \n",
       "\n",
       "games      Wolfenstein The New Order  Worms Reloaded  Worms Revolution  \\\n",
       "user_id                                                                  \n",
       "5250                             NaN             NaN               NaN   \n",
       "76767                            NaN             NaN               NaN   \n",
       "86540                            NaN             NaN               NaN   \n",
       "229911                           NaN             1.0               NaN   \n",
       "298950                           NaN             NaN               NaN   \n",
       "...                              ...             ...               ...   \n",
       "309255941                        NaN             NaN               NaN   \n",
       "309265377                        NaN             NaN               NaN   \n",
       "309404240                        NaN             NaN               NaN   \n",
       "309554670                        NaN             NaN               NaN   \n",
       "309626088                        NaN             NaN               NaN   \n",
       "\n",
       "games      XCOM Enemy Unknown  Zombie Panic Source  theHunter  \n",
       "user_id                                                        \n",
       "5250                      NaN                  NaN        NaN  \n",
       "76767                     NaN                  NaN        NaN  \n",
       "86540                     1.0                  NaN        NaN  \n",
       "229911                    NaN                  NaN        NaN  \n",
       "298950                    1.0                  NaN        NaN  \n",
       "...                       ...                  ...        ...  \n",
       "309255941                 NaN                  NaN        NaN  \n",
       "309265377                 NaN                  NaN        NaN  \n",
       "309404240                 NaN                  NaN        NaN  \n",
       "309554670                 NaN                  NaN        NaN  \n",
       "309626088                 NaN                  NaN        NaN  \n",
       "\n",
       "[8315 rows x 431 columns]"
      ]
     },
     "execution_count": 27,
     "metadata": {},
     "output_type": "execute_result"
    }
   ],
   "source": [
    "# create pivot table containing user_id as index, games as columns, ratings as values\n",
    "pivot_tabel = data.pivot_table(index=['user_id'],columns=['games'],values = 'rating')\n",
    "pivot_tabel"
   ]
  },
  {
   "cell_type": "code",
   "execution_count": 28,
   "id": "e840f722",
   "metadata": {},
   "outputs": [],
   "source": [
    "## Note: As we are subtracting the mean from each rating to standardize\n",
    "##all users with only one rating or who had rated everything the same will be dropped\n",
    "# Normalize the values in pivot table\n",
    "\n",
    "data=pivot_tabel.apply(lambda x: (x-np.mean(x))/(np.max(x)-np.min(x)),axis=1)\n",
    "data = data.fillna(0)\n",
    "data = data.T\n",
    "data = data.loc[:,(data != 0).any(axis=0)]\n",
    "\n",
    "# Drop all columns containing only zeros representing users who did not rate"
   ]
  },
  {
   "cell_type": "code",
   "execution_count": 29,
   "id": "0b5fad38",
   "metadata": {},
   "outputs": [
    {
     "data": {
      "text/html": [
       "<div>\n",
       "<style scoped>\n",
       "    .dataframe tbody tr th:only-of-type {\n",
       "        vertical-align: middle;\n",
       "    }\n",
       "\n",
       "    .dataframe tbody tr th {\n",
       "        vertical-align: top;\n",
       "    }\n",
       "\n",
       "    .dataframe thead th {\n",
       "        text-align: right;\n",
       "    }\n",
       "</style>\n",
       "<table border=\"1\" class=\"dataframe\">\n",
       "  <thead>\n",
       "    <tr style=\"text-align: right;\">\n",
       "      <th>user_id</th>\n",
       "      <th>5250</th>\n",
       "      <th>76767</th>\n",
       "      <th>86540</th>\n",
       "      <th>229911</th>\n",
       "      <th>298950</th>\n",
       "      <th>547685</th>\n",
       "      <th>554278</th>\n",
       "      <th>561758</th>\n",
       "      <th>748719</th>\n",
       "      <th>975449</th>\n",
       "      <th>...</th>\n",
       "      <th>295981434</th>\n",
       "      <th>297517705</th>\n",
       "      <th>297690673</th>\n",
       "      <th>298178235</th>\n",
       "      <th>298222970</th>\n",
       "      <th>298389371</th>\n",
       "      <th>298547051</th>\n",
       "      <th>298890193</th>\n",
       "      <th>300620379</th>\n",
       "      <th>302228798</th>\n",
       "    </tr>\n",
       "    <tr>\n",
       "      <th>games</th>\n",
       "      <th></th>\n",
       "      <th></th>\n",
       "      <th></th>\n",
       "      <th></th>\n",
       "      <th></th>\n",
       "      <th></th>\n",
       "      <th></th>\n",
       "      <th></th>\n",
       "      <th></th>\n",
       "      <th></th>\n",
       "      <th></th>\n",
       "      <th></th>\n",
       "      <th></th>\n",
       "      <th></th>\n",
       "      <th></th>\n",
       "      <th></th>\n",
       "      <th></th>\n",
       "      <th></th>\n",
       "      <th></th>\n",
       "      <th></th>\n",
       "      <th></th>\n",
       "    </tr>\n",
       "  </thead>\n",
       "  <tbody>\n",
       "    <tr>\n",
       "      <th>7 Days to Die</th>\n",
       "      <td>0.0</td>\n",
       "      <td>0.0</td>\n",
       "      <td>0.0</td>\n",
       "      <td>0.0</td>\n",
       "      <td>-0.37037</td>\n",
       "      <td>0.0</td>\n",
       "      <td>0.0</td>\n",
       "      <td>0.0</td>\n",
       "      <td>0.0</td>\n",
       "      <td>0.0</td>\n",
       "      <td>...</td>\n",
       "      <td>0.0</td>\n",
       "      <td>0.0</td>\n",
       "      <td>0.0</td>\n",
       "      <td>0.0</td>\n",
       "      <td>0.0</td>\n",
       "      <td>0.0</td>\n",
       "      <td>0.0</td>\n",
       "      <td>0.0</td>\n",
       "      <td>0.0</td>\n",
       "      <td>0.0</td>\n",
       "    </tr>\n",
       "    <tr>\n",
       "      <th>APB Reloaded</th>\n",
       "      <td>0.0</td>\n",
       "      <td>0.0</td>\n",
       "      <td>0.0</td>\n",
       "      <td>0.0</td>\n",
       "      <td>0.00000</td>\n",
       "      <td>0.0</td>\n",
       "      <td>0.0</td>\n",
       "      <td>0.0</td>\n",
       "      <td>0.0</td>\n",
       "      <td>0.0</td>\n",
       "      <td>...</td>\n",
       "      <td>0.0</td>\n",
       "      <td>0.0</td>\n",
       "      <td>0.0</td>\n",
       "      <td>0.0</td>\n",
       "      <td>0.0</td>\n",
       "      <td>0.0</td>\n",
       "      <td>0.0</td>\n",
       "      <td>0.0</td>\n",
       "      <td>0.0</td>\n",
       "      <td>0.0</td>\n",
       "    </tr>\n",
       "    <tr>\n",
       "      <th>ARK Survival Evolved</th>\n",
       "      <td>0.0</td>\n",
       "      <td>0.0</td>\n",
       "      <td>0.0</td>\n",
       "      <td>0.0</td>\n",
       "      <td>-0.37037</td>\n",
       "      <td>0.0</td>\n",
       "      <td>0.0</td>\n",
       "      <td>0.0</td>\n",
       "      <td>0.0</td>\n",
       "      <td>0.0</td>\n",
       "      <td>...</td>\n",
       "      <td>0.0</td>\n",
       "      <td>0.0</td>\n",
       "      <td>0.0</td>\n",
       "      <td>0.0</td>\n",
       "      <td>0.0</td>\n",
       "      <td>0.0</td>\n",
       "      <td>0.0</td>\n",
       "      <td>0.0</td>\n",
       "      <td>0.0</td>\n",
       "      <td>0.0</td>\n",
       "    </tr>\n",
       "    <tr>\n",
       "      <th>Ace of Spades</th>\n",
       "      <td>0.0</td>\n",
       "      <td>0.0</td>\n",
       "      <td>0.0</td>\n",
       "      <td>0.0</td>\n",
       "      <td>0.00000</td>\n",
       "      <td>0.0</td>\n",
       "      <td>0.0</td>\n",
       "      <td>0.0</td>\n",
       "      <td>0.0</td>\n",
       "      <td>0.0</td>\n",
       "      <td>...</td>\n",
       "      <td>0.0</td>\n",
       "      <td>0.0</td>\n",
       "      <td>0.0</td>\n",
       "      <td>0.0</td>\n",
       "      <td>0.0</td>\n",
       "      <td>0.0</td>\n",
       "      <td>0.0</td>\n",
       "      <td>0.0</td>\n",
       "      <td>0.0</td>\n",
       "      <td>0.0</td>\n",
       "    </tr>\n",
       "    <tr>\n",
       "      <th>AdVenture Capitalist</th>\n",
       "      <td>0.0</td>\n",
       "      <td>0.0</td>\n",
       "      <td>0.0</td>\n",
       "      <td>0.0</td>\n",
       "      <td>0.00000</td>\n",
       "      <td>0.0</td>\n",
       "      <td>0.0</td>\n",
       "      <td>0.0</td>\n",
       "      <td>0.0</td>\n",
       "      <td>0.0</td>\n",
       "      <td>...</td>\n",
       "      <td>0.0</td>\n",
       "      <td>0.0</td>\n",
       "      <td>0.0</td>\n",
       "      <td>0.0</td>\n",
       "      <td>0.0</td>\n",
       "      <td>0.0</td>\n",
       "      <td>0.0</td>\n",
       "      <td>0.0</td>\n",
       "      <td>0.0</td>\n",
       "      <td>0.0</td>\n",
       "    </tr>\n",
       "  </tbody>\n",
       "</table>\n",
       "<p>5 rows × 2437 columns</p>\n",
       "</div>"
      ],
      "text/plain": [
       "user_id               5250       76767      86540      229911     298950     \\\n",
       "games                                                                         \n",
       "7 Days to Die               0.0        0.0        0.0        0.0   -0.37037   \n",
       "APB Reloaded                0.0        0.0        0.0        0.0    0.00000   \n",
       "ARK Survival Evolved        0.0        0.0        0.0        0.0   -0.37037   \n",
       "Ace of Spades               0.0        0.0        0.0        0.0    0.00000   \n",
       "AdVenture Capitalist        0.0        0.0        0.0        0.0    0.00000   \n",
       "\n",
       "user_id               547685     554278     561758     748719     975449     \\\n",
       "games                                                                         \n",
       "7 Days to Die               0.0        0.0        0.0        0.0        0.0   \n",
       "APB Reloaded                0.0        0.0        0.0        0.0        0.0   \n",
       "ARK Survival Evolved        0.0        0.0        0.0        0.0        0.0   \n",
       "Ace of Spades               0.0        0.0        0.0        0.0        0.0   \n",
       "AdVenture Capitalist        0.0        0.0        0.0        0.0        0.0   \n",
       "\n",
       "user_id               ...  295981434  297517705  297690673  298178235  \\\n",
       "games                 ...                                               \n",
       "7 Days to Die         ...        0.0        0.0        0.0        0.0   \n",
       "APB Reloaded          ...        0.0        0.0        0.0        0.0   \n",
       "ARK Survival Evolved  ...        0.0        0.0        0.0        0.0   \n",
       "Ace of Spades         ...        0.0        0.0        0.0        0.0   \n",
       "AdVenture Capitalist  ...        0.0        0.0        0.0        0.0   \n",
       "\n",
       "user_id               298222970  298389371  298547051  298890193  300620379  \\\n",
       "games                                                                         \n",
       "7 Days to Die               0.0        0.0        0.0        0.0        0.0   \n",
       "APB Reloaded                0.0        0.0        0.0        0.0        0.0   \n",
       "ARK Survival Evolved        0.0        0.0        0.0        0.0        0.0   \n",
       "Ace of Spades               0.0        0.0        0.0        0.0        0.0   \n",
       "AdVenture Capitalist        0.0        0.0        0.0        0.0        0.0   \n",
       "\n",
       "user_id               302228798  \n",
       "games                            \n",
       "7 Days to Die               0.0  \n",
       "APB Reloaded                0.0  \n",
       "ARK Survival Evolved        0.0  \n",
       "Ace of Spades               0.0  \n",
       "AdVenture Capitalist        0.0  \n",
       "\n",
       "[5 rows x 2437 columns]"
      ]
     },
     "execution_count": 29,
     "metadata": {},
     "output_type": "execute_result"
    }
   ],
   "source": [
    "data.head()"
   ]
  },
  {
   "cell_type": "code",
   "execution_count": 30,
   "id": "f5da08d4",
   "metadata": {},
   "outputs": [],
   "source": [
    "# import scipy, operator\n",
    "import scipy as sp\n",
    "import operator"
   ]
  },
  {
   "cell_type": "code",
   "execution_count": 31,
   "id": "2ac55d9b",
   "metadata": {},
   "outputs": [
    {
     "data": {
      "text/plain": [
       "<431x2437 sparse matrix of type '<class 'numpy.float64'>'\n",
       "\twith 28662 stored elements in Compressed Sparse Row format>"
      ]
     },
     "execution_count": 31,
     "metadata": {},
     "output_type": "execute_result"
    }
   ],
   "source": [
    "# convert the data into sparse matrix format to be read by the following functions\n",
    "matrix=sp.sparse.csr_matrix(data.values)\n",
    "matrix"
   ]
  },
  {
   "cell_type": "code",
   "execution_count": 32,
   "id": "548d61e8",
   "metadata": {},
   "outputs": [],
   "source": [
    "# create matrices to show the computed cosine similarity values between each user/user array pair and item/item array pair.\n",
    "item_similarity=cosine_similarity(matrix)\n",
    "user_similarity=cosine_similarity(matrix.T)"
   ]
  },
  {
   "cell_type": "code",
   "execution_count": 33,
   "id": "17e84594",
   "metadata": {},
   "outputs": [],
   "source": [
    "# Inserting the similarity matricies into dataframe objects\n",
    "\n",
    "#item similarity dataframe\n",
    "data_item = pd.DataFrame(item_similarity,index = data.index ,columns = data.index)\n",
    "# User_similarity dataframe\n",
    "data_user = pd.DataFrame(user_similarity , index= data.columns,columns=data.columns)"
   ]
  },
  {
   "cell_type": "code",
   "execution_count": 34,
   "id": "c234322c",
   "metadata": {},
   "outputs": [],
   "source": [
    "# write a function which will return the top 10 games with the highest cosine similarity value\n",
    "def top_games(games):\n",
    "    count=1\n",
    "    print('The similarity games of {}/n'.format(games))\n",
    "    for item in data_item.sort_values(ascending=False,by=games).index[1:6]:\n",
    "        print('No.{}={}'.format(count,item))\n",
    "        count+=1"
   ]
  },
  {
   "cell_type": "code",
   "execution_count": 35,
   "id": "d1f0cb61",
   "metadata": {},
   "outputs": [
    {
     "name": "stdout",
     "output_type": "stream",
     "text": [
      "The similarity games of Spore/n\n",
      "No.1=Mortal Kombat X\n",
      "No.2=Sid Meier's Civilization Beyond Earth\n",
      "No.3=Space Engineers\n",
      "No.4=Watch_Dogs\n",
      "No.5=Medieval II Total War\n"
     ]
    }
   ],
   "source": [
    "top_games('Spore')"
   ]
  },
  {
   "cell_type": "code",
   "execution_count": 36,
   "id": "3e5a9100",
   "metadata": {},
   "outputs": [
    {
     "data": {
      "text/plain": [
       "Int64Index([     5250,     76767,     86540,    229911,    298950,    547685,\n",
       "               554278,    561758,    748719,    975449,\n",
       "            ...\n",
       "            295981434, 297517705, 297690673, 298178235, 298222970, 298389371,\n",
       "            298547051, 298890193, 300620379, 302228798],\n",
       "           dtype='int64', name='user_id', length=2437)"
      ]
     },
     "execution_count": 36,
     "metadata": {},
     "output_type": "execute_result"
    }
   ],
   "source": [
    "# check the column of pivot table\n",
    "data.columns"
   ]
  },
  {
   "cell_type": "code",
   "execution_count": 37,
   "id": "892dfcbe",
   "metadata": {},
   "outputs": [],
   "source": [
    "# write a function which will return the top 5 users with the highest similarity value \n",
    "def user_id(user):\n",
    "    if user not in data.columns:\n",
    "        print('No data available for this user {}'.format(user))\n",
    "    sim_val = data_user.sort_values(by =user,ascending=False).loc[:,user].tolist()[1:6]\n",
    "    sim_user = data_user.sort_values(by = user,ascending=False).index[1:6]\n",
    "    zipped = zip(sim_user,sim_val)\n",
    "    for user, sim in zipped:\n",
    "        print('user #{0},similarity values :{1:.2f}'.format(user,sim))"
   ]
  },
  {
   "cell_type": "code",
   "execution_count": 38,
   "id": "4ab0faed",
   "metadata": {},
   "outputs": [
    {
     "name": "stdout",
     "output_type": "stream",
     "text": [
      "user #205058166,similarity values :0.61\n",
      "user #247065555,similarity values :0.50\n",
      "user #215721461,similarity values :0.50\n",
      "user #29764828,similarity values :0.50\n",
      "user #38436635,similarity values :0.35\n"
     ]
    }
   ],
   "source": [
    "user_id(295981434)"
   ]
  },
  {
   "cell_type": "code",
   "execution_count": 39,
   "id": "dbb48306",
   "metadata": {},
   "outputs": [],
   "source": [
    "# write a function which constructs a list of lists containing the highest rated games per similar user\n",
    "# and returns the name of the game along with the frequency it appears in the list\n",
    "def simi_user_recs(user):\n",
    "    if user not in data.columns:\n",
    "        print('No data available for this user {}'.format(user))\n",
    "    sim_user = data_user.sort_values(by = user,ascending=False).index[1:11]\n",
    "    best = []\n",
    "    most_common = {}\n",
    "    for i in sim_user:\n",
    "        max_scorce = data.loc[:,i].max()\n",
    "        best.append(data[data.loc[:,i] == max_scorce].index.tolist())\n",
    "    for i in range(len(best)):\n",
    "        for j in best[i]:\n",
    "                   if j in most_common:\n",
    "                       most_common[j] =+1\n",
    "                   else :\n",
    "                       most_common[j] =1\n",
    "    sorted_item = sorted(most_common.items(),key=operator.itemgetter(1),reverse=True)\n",
    "    return sorted_item[:6]"
   ]
  },
  {
   "cell_type": "code",
   "execution_count": 40,
   "id": "4b48894d",
   "metadata": {},
   "outputs": [
    {
     "data": {
      "text/plain": [
       "[('Call of Duty Black Ops', 1),\n",
       " ('Call of Duty Modern Warfare 2', 1),\n",
       " ('Call of Duty Modern Warfare 2 - Multiplayer', 1),\n",
       " ('H1Z1', 1),\n",
       " ('Worms Revolution', 1),\n",
       " ('Counter-Strike', 1)]"
      ]
     },
     "execution_count": 40,
     "metadata": {},
     "output_type": "execute_result"
    }
   ],
   "source": [
    "simi_user_recs(76767)"
   ]
  },
  {
   "cell_type": "markdown",
   "id": "62ffb0c9",
   "metadata": {},
   "source": [
    "# COLLABORATIVE FILTERING USING KNN\n",
    "\n",
    "Collaborative Filtering Using k-Nearest Neighbors (kNN). kNN is a machine learning algorithm to find clusters of similar users based on common ratings, and make predictions using the average rating of top-k nearest neighbors.\n",
    "\n",
    "https://datascienceplus.com/building-a-book-recommender-system-the-basics-knn-and-matrix-factorization/"
   ]
  },
  {
   "cell_type": "code",
   "execution_count": 41,
   "id": "23a600df",
   "metadata": {},
   "outputs": [
    {
     "data": {
      "text/plain": [
       "NearestNeighbors(algorithm='brute', metric='cosine', n_jobs=-1, n_neighbors=20,\n",
       "                 radius=1)"
      ]
     },
     "execution_count": 41,
     "metadata": {},
     "output_type": "execute_result"
    }
   ],
   "source": [
    "# import NearestNeighbors\n",
    "from sklearn.neighbors import NearestNeighbors\n",
    "#make an object for the NearestNeighbors Class.\n",
    "knn = NearestNeighbors(algorithm='brute',leaf_size=30,metric='cosine',metric_params=None,n_jobs=-1,n_neighbors=20,p=2,radius=1)\n",
    "# fit the dataset\n",
    "knn.fit(data)"
   ]
  },
  {
   "cell_type": "markdown",
   "id": "bf6c0535",
   "metadata": {},
   "source": [
    "\n",
    "Test model and make some recommendations:"
   ]
  },
  {
   "cell_type": "code",
   "execution_count": 42,
   "id": "df529c2c",
   "metadata": {},
   "outputs": [
    {
     "name": "stdout",
     "output_type": "stream",
     "text": [
      "The random game is =  Empire Total War\n",
      "Recommendation for Empire Total War \n",
      "\n",
      "1 : Total War SHOGUN 2 with distance of 0.8061520812055977\n",
      "2 : Total War ROME II - Emperor Edition with distance of 0.8595179092271809\n",
      "3 : Medieval II Total War Kingdoms with distance of 0.9014385647373818\n",
      "4 : Mount & Blade Warband with distance of 0.9041741708622512\n",
      "5 : Resident Evil 5 / Biohazard 5 with distance of 0.9128352266282411\n"
     ]
    }
   ],
   "source": [
    "# choose random game\n",
    "random=np.random.choice(data.shape[0])\n",
    "# print the name of random game\n",
    "print(\"The random game is = \",data.index[random])\n",
    "\n",
    "# use kNN algorithm to measures distance to determine the closeness of instances.\n",
    "distance , indices =knn.kneighbors(data.iloc[random,:].values.reshape(1,-1),n_neighbors=6)\n",
    "\n",
    "# pick most popular games among the neighbors and print their names\n",
    "for i in range(0,len(distance.flatten())):\n",
    "    if i == 0:\n",
    "        print('Recommendation for {0} \\n'.format(data.index[random]))\n",
    "    else:\n",
    "        print('{0} : {1} with distance of {2}'.format(i,data.index[indices.flatten()[i]], distance.flatten()[i]))"
   ]
  },
  {
   "cell_type": "markdown",
   "id": "2cd52a9d",
   "metadata": {},
   "source": [
    "# Conclusion\n",
    "\n",
    "We can use different different methods based on our problem statement and dataset. Here we used collaborative filtering technique to recommend games.We can use this method to recommend alot of other things as well such as music, movies, books, news etc. "
   ]
  },
  {
   "cell_type": "code",
   "execution_count": null,
   "id": "1d89130d",
   "metadata": {},
   "outputs": [],
   "source": []
  }
 ],
 "metadata": {
  "kernelspec": {
   "display_name": "Python 3 (ipykernel)",
   "language": "python",
   "name": "python3"
  },
  "language_info": {
   "codemirror_mode": {
    "name": "ipython",
    "version": 3
   },
   "file_extension": ".py",
   "mimetype": "text/x-python",
   "name": "python",
   "nbconvert_exporter": "python",
   "pygments_lexer": "ipython3",
   "version": "3.9.12"
  }
 },
 "nbformat": 4,
 "nbformat_minor": 5
}
