{
  "nbformat": 4,
  "nbformat_minor": 5,
  "metadata": {
    "kernelspec": {
      "display_name": "Python 3",
      "language": "python",
      "name": "python3"
    },
    "language_info": {
      "codemirror_mode": {
        "name": "ipython",
        "version": 3
      },
      "file_extension": ".py",
      "mimetype": "text/x-python",
      "name": "python",
      "nbconvert_exporter": "python",
      "pygments_lexer": "ipython3",
      "version": "3.7.6"
    },
    "colab": {
      "name": "Data_Structure (1).ipynb",
      "provenance": []
    }
  },
  "cells": [
    {
      "cell_type": "markdown",
      "metadata": {
        "id": "f8pItHtgkpbz"
      },
      "source": [
        "# <center> <u>Data Structures <u> </center>"
      ],
      "id": "f8pItHtgkpbz"
    },
    {
      "cell_type": "markdown",
      "metadata": {
        "id": "MWx_0nS8kpb4"
      },
      "source": [
        "## 1. Lists\n",
        "\n",
        "Reference:- https://www.youtube.com/watch?v=b3O9qI5dcHE&list=PLsR_0x6BuM-GCc3iD6OQuEZHCAtYPmZfx&index=10\n",
        "\n"
      ],
      "id": "MWx_0nS8kpb4"
    },
    {
      "cell_type": "markdown",
      "metadata": {
        "id": "UtGdnSPmkpb5"
      },
      "source": [
        "<p style='text-align: right;'> 1+1+1 = 3 points</p>\n"
      ],
      "id": "UtGdnSPmkpb5"
    },
    {
      "cell_type": "markdown",
      "metadata": {
        "id": "WAhL2Oo-kpb6"
      },
      "source": [
        "#### 1.1 Create an empty list with the name ‘a’, print the value of a and type(a).\n"
      ],
      "id": "WAhL2Oo-kpb6"
    },
    {
      "cell_type": "code",
      "metadata": {
        "id": "urx8RrG0kpb6"
      },
      "source": [
        "# create empty list, name it 'a'\n",
        "a=[]\n"
      ],
      "id": "urx8RrG0kpb6",
      "execution_count": null,
      "outputs": []
    },
    {
      "cell_type": "code",
      "metadata": {
        "id": "kfqiZLuKkpb8",
        "outputId": "7e66c5f4-9755-4e8b-893a-962498cbc518",
        "colab": {
          "base_uri": "https://localhost:8080/",
          "height": 183
        }
      },
      "source": [
        "# print the value of a\n",
        "print(a)\n"
      ],
      "id": "kfqiZLuKkpb8",
      "execution_count": 1,
      "outputs": [
        {
          "output_type": "error",
          "ename": "NameError",
          "evalue": "ignored",
          "traceback": [
            "\u001b[0;31m---------------------------------------------------------------------------\u001b[0m",
            "\u001b[0;31mNameError\u001b[0m                                 Traceback (most recent call last)",
            "\u001b[0;32m<ipython-input-1-c786e1bfc47a>\u001b[0m in \u001b[0;36m<module>\u001b[0;34m()\u001b[0m\n\u001b[1;32m      1\u001b[0m \u001b[0;31m# print the value of a\u001b[0m\u001b[0;34m\u001b[0m\u001b[0;34m\u001b[0m\u001b[0;34m\u001b[0m\u001b[0m\n\u001b[0;32m----> 2\u001b[0;31m \u001b[0mprint\u001b[0m\u001b[0;34m(\u001b[0m\u001b[0ma\u001b[0m\u001b[0;34m)\u001b[0m\u001b[0;34m\u001b[0m\u001b[0;34m\u001b[0m\u001b[0m\n\u001b[0m",
            "\u001b[0;31mNameError\u001b[0m: name 'a' is not defined"
          ]
        }
      ]
    },
    {
      "cell_type": "code",
      "metadata": {
        "id": "eWwP4exrkpb9"
      },
      "source": [
        "# print the type of a\n",
        "print(type(a))\n"
      ],
      "id": "eWwP4exrkpb9",
      "execution_count": null,
      "outputs": []
    },
    {
      "cell_type": "markdown",
      "metadata": {
        "id": "32ysMWS-kpb-"
      },
      "source": [
        "#### 1.2.Create a list , languages = ['R','Python', 'SAS', 'Scala', 42], "
      ],
      "id": "32ysMWS-kpb-"
    },
    {
      "cell_type": "markdown",
      "metadata": {
        "id": "c0kXpcXjkpb-"
      },
      "source": [
        "<p style='text-align: right;'> 1+1+1+1+1+1+1+1 = 7 points</p>\n"
      ],
      "id": "c0kXpcXjkpb-"
    },
    {
      "cell_type": "code",
      "metadata": {
        "id": "g-AO-p4Dkpb_",
        "colab": {
          "base_uri": "https://localhost:8080/"
        },
        "outputId": "7ae9e694-5bc0-45d7-af7b-a9424a32b6d4"
      },
      "source": [
        "#code here\n",
        "list=['R','Python', 'SAS', 'Scala', 42]\n",
        "print(list)"
      ],
      "id": "g-AO-p4Dkpb_",
      "execution_count": 4,
      "outputs": [
        {
          "output_type": "stream",
          "name": "stdout",
          "text": [
            "['R', 'Python', 'SAS', 'Scala', 42]\n"
          ]
        }
      ]
    },
    {
      "cell_type": "markdown",
      "metadata": {
        "id": "8PF67_8SkpcA"
      },
      "source": [
        "Print the number of elements in the list"
      ],
      "id": "8PF67_8SkpcA"
    },
    {
      "cell_type": "code",
      "metadata": {
        "id": "iQGAQq9VkpcA",
        "outputId": "7cdd9676-944a-49b3-b41b-549ead0d76fe",
        "colab": {
          "base_uri": "https://localhost:8080/"
        }
      },
      "source": [
        "#code here\n",
        "print(len(list))"
      ],
      "id": "iQGAQq9VkpcA",
      "execution_count": 5,
      "outputs": [
        {
          "output_type": "stream",
          "name": "stdout",
          "text": [
            "5\n"
          ]
        }
      ]
    },
    {
      "cell_type": "markdown",
      "metadata": {
        "id": "_9sgh2mmkpcA"
      },
      "source": [
        "Using for loop iterate and print all the elements in the list"
      ],
      "id": "_9sgh2mmkpcA"
    },
    {
      "cell_type": "code",
      "metadata": {
        "id": "-LcM7OzqkpcB",
        "outputId": "50eaea98-7574-482a-aaf8-9e7a7c68d740",
        "colab": {
          "base_uri": "https://localhost:8080/"
        }
      },
      "source": [
        "#code here\n",
        "for ele in list:\n",
        "  print(ele)\n",
        "\n"
      ],
      "id": "-LcM7OzqkpcB",
      "execution_count": 7,
      "outputs": [
        {
          "output_type": "stream",
          "name": "stdout",
          "text": [
            "R\n",
            "Python\n",
            "SAS\n",
            "Scala\n",
            "42\n"
          ]
        }
      ]
    },
    {
      "cell_type": "markdown",
      "metadata": {
        "id": "jpjlH5l3kpcB"
      },
      "source": [
        "Select the second item, 'Python' and store it in a new variable named 'temp'"
      ],
      "id": "jpjlH5l3kpcB"
    },
    {
      "cell_type": "code",
      "metadata": {
        "id": "IQit1VGkkpcC"
      },
      "source": [
        "#code here\n",
        "temp='Python'"
      ],
      "id": "IQit1VGkkpcC",
      "execution_count": 9,
      "outputs": []
    },
    {
      "cell_type": "markdown",
      "metadata": {
        "id": "Ps13-taZkpcC"
      },
      "source": [
        "Print the value of temp and type(temp)"
      ],
      "id": "Ps13-taZkpcC"
    },
    {
      "cell_type": "code",
      "metadata": {
        "id": "897kqIj0kpcC",
        "outputId": "7d345735-2add-449e-d0ea-7df159319813",
        "colab": {
          "base_uri": "https://localhost:8080/"
        }
      },
      "source": [
        "#code here\n",
        "print(temp)\n",
        "print(type(temp))\n"
      ],
      "id": "897kqIj0kpcC",
      "execution_count": 10,
      "outputs": [
        {
          "output_type": "stream",
          "name": "stdout",
          "text": [
            "Python\n",
            "<class 'str'>\n"
          ]
        }
      ]
    },
    {
      "cell_type": "markdown",
      "metadata": {
        "id": "V9f0P9zTkpcC"
      },
      "source": [
        "Using list comprehension, print the last two elemets of list"
      ],
      "id": "V9f0P9zTkpcC"
    },
    {
      "cell_type": "code",
      "metadata": {
        "id": "rZzWEtGakpcD",
        "outputId": "35cc7b97-8fac-48fd-90d0-06a10a6219b4",
        "colab": {
          "base_uri": "https://localhost:8080/"
        }
      },
      "source": [
        "# code here\n",
        "list=['Scala',42]\n",
        "print(list)"
      ],
      "id": "rZzWEtGakpcD",
      "execution_count": 11,
      "outputs": [
        {
          "output_type": "stream",
          "name": "stdout",
          "text": [
            "['Scala', 42]\n"
          ]
        }
      ]
    },
    {
      "cell_type": "markdown",
      "metadata": {
        "id": "wWY8wHfjkpcD"
      },
      "source": [
        "Append the element 'Java' in the list"
      ],
      "id": "wWY8wHfjkpcD"
    },
    {
      "cell_type": "code",
      "metadata": {
        "id": "ig5OP9J3kpcD",
        "colab": {
          "base_uri": "https://localhost:8080/"
        },
        "outputId": "8df7e08b-3fc4-4c12-bf25-96ba68e4259f"
      },
      "source": [
        "#code here\n",
        "list.append('Java')\n",
        "list"
      ],
      "id": "ig5OP9J3kpcD",
      "execution_count": 15,
      "outputs": [
        {
          "output_type": "execute_result",
          "data": {
            "text/plain": [
              "['Scala', 42, 'Java', 'Java', 'Java']"
            ]
          },
          "metadata": {},
          "execution_count": 15
        }
      ]
    },
    {
      "cell_type": "markdown",
      "metadata": {
        "id": "JZF8zdS9kpcE"
      },
      "source": [
        "Remove the element 42 from the list and print the list"
      ],
      "id": "JZF8zdS9kpcE"
    },
    {
      "cell_type": "code",
      "metadata": {
        "id": "eNtarY6pkpcE",
        "outputId": "ba058967-e2ba-4479-b0a4-f112633b3aa5",
        "colab": {
          "base_uri": "https://localhost:8080/"
        }
      },
      "source": [
        "#code here\n",
        "list.remove(42)\n",
        "list"
      ],
      "id": "eNtarY6pkpcE",
      "execution_count": 16,
      "outputs": [
        {
          "output_type": "execute_result",
          "data": {
            "text/plain": [
              "['Scala', 'Java', 'Java', 'Java']"
            ]
          },
          "metadata": {},
          "execution_count": 16
        }
      ]
    },
    {
      "cell_type": "markdown",
      "metadata": {
        "id": "BtIptPlokpcF"
      },
      "source": [
        "#### 1.3. Create a list, colors = [‘Red’, ‘Blue’, ‘White’]"
      ],
      "id": "BtIptPlokpcF"
    },
    {
      "cell_type": "markdown",
      "metadata": {
        "id": "_zlfG-a3kpcF"
      },
      "source": [
        "<p style='text-align: right;'> 1+1+1+1+1+1+1 = 6 points</p>\n"
      ],
      "id": "_zlfG-a3kpcF"
    },
    {
      "cell_type": "code",
      "metadata": {
        "id": "SgKuIBIGkpcF",
        "colab": {
          "base_uri": "https://localhost:8080/"
        },
        "outputId": "48c29e37-33d3-462a-a80d-e16336467e71"
      },
      "source": [
        "#code here\n",
        "colors = ['Red', 'Blue', 'White']\n",
        "colors"
      ],
      "id": "SgKuIBIGkpcF",
      "execution_count": 18,
      "outputs": [
        {
          "output_type": "execute_result",
          "data": {
            "text/plain": [
              "['Red', 'Blue', 'White']"
            ]
          },
          "metadata": {},
          "execution_count": 18
        }
      ]
    },
    {
      "cell_type": "markdown",
      "metadata": {
        "id": "MF0M4NlqkpcF"
      },
      "source": [
        "Append the element 'Black' to colors"
      ],
      "id": "MF0M4NlqkpcF"
    },
    {
      "cell_type": "code",
      "metadata": {
        "id": "rqwFPHBOkpcF",
        "colab": {
          "base_uri": "https://localhost:8080/"
        },
        "outputId": "28da86fd-0d47-43d5-e652-c596e3d9f39a"
      },
      "source": [
        "#code here\n",
        "colors.append('Black')\n",
        "colors"
      ],
      "id": "rqwFPHBOkpcF",
      "execution_count": 20,
      "outputs": [
        {
          "output_type": "execute_result",
          "data": {
            "text/plain": [
              "['Red', 'Blue', 'White', 'Black', 'Black']"
            ]
          },
          "metadata": {},
          "execution_count": 20
        }
      ]
    },
    {
      "cell_type": "markdown",
      "metadata": {
        "id": "fyBKDowJkpcG"
      },
      "source": [
        "Append the color 'Orange' to second position (index=1) and print the list"
      ],
      "id": "fyBKDowJkpcG"
    },
    {
      "cell_type": "code",
      "metadata": {
        "id": "Uu-VWRHLkpcG"
      },
      "source": [
        "# code here\n",
        "list.insert(1,'Orange')"
      ],
      "id": "Uu-VWRHLkpcG",
      "execution_count": 22,
      "outputs": []
    },
    {
      "cell_type": "markdown",
      "metadata": {
        "id": "uwSMx8qGkpcG"
      },
      "source": [
        "Print the list\n"
      ],
      "id": "uwSMx8qGkpcG"
    },
    {
      "cell_type": "code",
      "metadata": {
        "id": "Pgi-1ValkpcG",
        "outputId": "b2f826ee-1ff4-47db-f5dc-f2b289f6919f",
        "colab": {
          "base_uri": "https://localhost:8080/"
        }
      },
      "source": [
        "# code here\n",
        "print(list)"
      ],
      "id": "Pgi-1ValkpcG",
      "execution_count": 23,
      "outputs": [
        {
          "output_type": "stream",
          "name": "stdout",
          "text": [
            "['Scala', 'Orange', 'Java', 'Java', 'Java']\n"
          ]
        }
      ]
    },
    {
      "cell_type": "markdown",
      "metadata": {
        "id": "hpe93njnkpcG"
      },
      "source": [
        "Create another list, colors2 = [‘Grey’, ‘Sky Blue’]"
      ],
      "id": "hpe93njnkpcG"
    },
    {
      "cell_type": "code",
      "metadata": {
        "id": "9oSBcKnOkpcG"
      },
      "source": [
        "# code here\n",
        "colors2 = ['Grey', 'Sky Blue']"
      ],
      "id": "9oSBcKnOkpcG",
      "execution_count": 25,
      "outputs": []
    },
    {
      "cell_type": "markdown",
      "metadata": {
        "id": "DS86K9h5kpcH"
      },
      "source": [
        "Add the elements of colors2 to colors using extend function in the list"
      ],
      "id": "DS86K9h5kpcH"
    },
    {
      "cell_type": "code",
      "metadata": {
        "id": "YHcLi8sXkpcH"
      },
      "source": [
        "#code here\n",
        "colors.extend(colors2)"
      ],
      "id": "YHcLi8sXkpcH",
      "execution_count": 27,
      "outputs": []
    },
    {
      "cell_type": "markdown",
      "metadata": {
        "id": "9b4UNCk2kpcH"
      },
      "source": [
        "Print len of colors and its elements"
      ],
      "id": "9b4UNCk2kpcH"
    },
    {
      "cell_type": "code",
      "metadata": {
        "id": "9CpE1EdkkpcH",
        "outputId": "52b00ec2-1846-4f2f-ef7f-f4c6b4ee9ab9",
        "colab": {
          "base_uri": "https://localhost:8080/"
        }
      },
      "source": [
        "# code here\n",
        "print(colors)\n",
        "print(len(colors))\n"
      ],
      "id": "9CpE1EdkkpcH",
      "execution_count": 29,
      "outputs": [
        {
          "output_type": "stream",
          "name": "stdout",
          "text": [
            "['Red', 'Blue', 'White', 'Black', 'Black', 'Grey', 'Sky Blue', 'Grey', 'Sky Blue']\n",
            "9\n"
          ]
        }
      ]
    },
    {
      "cell_type": "markdown",
      "metadata": {
        "id": "JyoPvYVDkpcI"
      },
      "source": [
        "Sort the list and print it."
      ],
      "id": "JyoPvYVDkpcI"
    },
    {
      "cell_type": "code",
      "metadata": {
        "id": "5O6F7CQskpcI",
        "outputId": "52f541c1-af6c-4f6b-914a-439a488226fc",
        "colab": {
          "base_uri": "https://localhost:8080/"
        }
      },
      "source": [
        "# code here\n",
        "colors.sort()\n",
        "colors\n"
      ],
      "id": "5O6F7CQskpcI",
      "execution_count": 31,
      "outputs": [
        {
          "output_type": "execute_result",
          "data": {
            "text/plain": [
              "['Black',\n",
              " 'Black',\n",
              " 'Blue',\n",
              " 'Grey',\n",
              " 'Grey',\n",
              " 'Red',\n",
              " 'Sky Blue',\n",
              " 'Sky Blue',\n",
              " 'White']"
            ]
          },
          "metadata": {},
          "execution_count": 31
        }
      ]
    },
    {
      "cell_type": "markdown",
      "metadata": {
        "id": "KisfdajdkpcI"
      },
      "source": [
        "#### 1.4. Create a string, sent = ‘Coronavirus Caused Lockdowns Around The World.”"
      ],
      "id": "KisfdajdkpcI"
    },
    {
      "cell_type": "markdown",
      "metadata": {
        "id": "CJkrVqh8kpcI"
      },
      "source": [
        "<p style='text-align: right;'> 7 points</p>\n"
      ],
      "id": "CJkrVqh8kpcI"
    },
    {
      "cell_type": "code",
      "metadata": {
        "id": "brkLITSLkpcI",
        "colab": {
          "base_uri": "https://localhost:8080/"
        },
        "outputId": "e1dd1b53-1c78-46dc-9c93-9d54534a8413"
      },
      "source": [
        "# code here\n",
        "s=\"Coronavirus Caused Lockdowns Around the World\"\n",
        "s.split()"
      ],
      "id": "brkLITSLkpcI",
      "execution_count": 33,
      "outputs": [
        {
          "output_type": "execute_result",
          "data": {
            "text/plain": [
              "['Coronavirus', 'Caused', 'Lockdowns', 'Around', 'the', 'World']"
            ]
          },
          "metadata": {},
          "execution_count": 33
        }
      ]
    },
    {
      "cell_type": "markdown",
      "metadata": {
        "id": "th_r4MyCkpcJ"
      },
      "source": [
        "Use split function to convert the string into a list of words and save it in variable words and print the same"
      ],
      "id": "th_r4MyCkpcJ"
    },
    {
      "cell_type": "code",
      "metadata": {
        "id": "DiLl93wrkpcJ",
        "outputId": "7cf50fa1-b027-4f9d-ee1c-06f5daf204b6",
        "colab": {
          "base_uri": "https://localhost:8080/"
        }
      },
      "source": [
        "# code here\n",
        "s.split()"
      ],
      "id": "DiLl93wrkpcJ",
      "execution_count": 34,
      "outputs": [
        {
          "output_type": "execute_result",
          "data": {
            "text/plain": [
              "['Coronavirus', 'Caused', 'Lockdowns', 'Around', 'the', 'World']"
            ]
          },
          "metadata": {},
          "execution_count": 34
        }
      ]
    },
    {
      "cell_type": "markdown",
      "metadata": {
        "id": "c-EXQ-3YkpcJ"
      },
      "source": [
        "Using list comprehensions, convert each word in the list to lower case and store it in variable words_lower. \n",
        "Print words_lower"
      ],
      "id": "c-EXQ-3YkpcJ"
    },
    {
      "cell_type": "code",
      "metadata": {
        "id": "qu9Wy0ORkpcJ",
        "outputId": "6c400a49-2e39-4d28-f7e0-f6b2fb28daa3",
        "colab": {
          "base_uri": "https://localhost:8080/",
          "height": 35
        }
      },
      "source": [
        "# code here\n",
        "s.lower()"
      ],
      "id": "qu9Wy0ORkpcJ",
      "execution_count": 35,
      "outputs": [
        {
          "output_type": "execute_result",
          "data": {
            "text/plain": [
              "'coronavirus caused lockdowns around the world'"
            ],
            "application/vnd.google.colaboratory.intrinsic+json": {
              "type": "string"
            }
          },
          "metadata": {},
          "execution_count": 35
        }
      ]
    },
    {
      "cell_type": "markdown",
      "metadata": {
        "id": "6QbDnP8-kpcJ"
      },
      "source": [
        "Check whether ‘country’ is in the list"
      ],
      "id": "6QbDnP8-kpcJ"
    },
    {
      "cell_type": "code",
      "metadata": {
        "id": "pbj4S06jkpcJ",
        "outputId": "3715fdb8-6b7c-48ce-8182-197c038eece2",
        "colab": {
          "base_uri": "https://localhost:8080/"
        }
      },
      "source": [
        "# code here\n",
        "a='country'\n",
        "a in s"
      ],
      "id": "pbj4S06jkpcJ",
      "execution_count": 38,
      "outputs": [
        {
          "output_type": "execute_result",
          "data": {
            "text/plain": [
              "False"
            ]
          },
          "metadata": {},
          "execution_count": 38
        }
      ]
    },
    {
      "cell_type": "markdown",
      "metadata": {
        "id": "-5bXQCY-kpcK"
      },
      "source": [
        "Remove the element ‘the’ from the list and print the list."
      ],
      "id": "-5bXQCY-kpcK"
    },
    {
      "cell_type": "code",
      "metadata": {
        "id": "TZ3w3rTNkpcK",
        "outputId": "96626fbc-58b6-4584-8423-3540bfb69975"
      },
      "source": [
        "# code here"
      ],
      "id": "TZ3w3rTNkpcK",
      "execution_count": null,
      "outputs": [
        {
          "name": "stdout",
          "output_type": "stream",
          "text": [
            "['coronavirus', 'caused', 'lockdowns', 'around', 'world.']\n"
          ]
        }
      ]
    },
    {
      "cell_type": "markdown",
      "metadata": {
        "id": "K2urIMaHkpcK"
      },
      "source": [
        "Select the first 4 words from the list words_lower using slicing and store them in a new variable x4"
      ],
      "id": "K2urIMaHkpcK"
    },
    {
      "cell_type": "code",
      "metadata": {
        "id": "hl9uTlnHkpcK",
        "colab": {
          "base_uri": "https://localhost:8080/"
        },
        "outputId": "862eadd8-52d2-4531-c608-3bcb98ced7ed"
      },
      "source": [
        "#code here\n",
        "a=s.split()\n",
        "a.remove('the')\n",
        "a"
      ],
      "id": "hl9uTlnHkpcK",
      "execution_count": 40,
      "outputs": [
        {
          "output_type": "execute_result",
          "data": {
            "text/plain": [
              "['Coronavirus', 'Caused', 'Lockdowns', 'Around', 'World']"
            ]
          },
          "metadata": {},
          "execution_count": 40
        }
      ]
    },
    {
      "cell_type": "code",
      "metadata": {
        "id": "ATxw84QokpcK",
        "outputId": "b4823521-285e-479e-8b1c-031393e8f7ad",
        "colab": {
          "base_uri": "https://localhost:8080/"
        }
      },
      "source": [
        "# print x4\n",
        "print(a[0:4])"
      ],
      "id": "ATxw84QokpcK",
      "execution_count": 42,
      "outputs": [
        {
          "output_type": "stream",
          "name": "stdout",
          "text": [
            "['Coronavirus', 'Caused', 'Lockdowns', 'Around']\n"
          ]
        }
      ]
    },
    {
      "cell_type": "markdown",
      "metadata": {
        "id": "40lbSur2kpcL"
      },
      "source": [
        "Convert the list of elements to single string using join function and print it"
      ],
      "id": "40lbSur2kpcL"
    },
    {
      "cell_type": "code",
      "metadata": {
        "id": "oeN_Eyb1kpcL",
        "outputId": "331dfc5e-2d30-44c0-9cd6-6c25020a19a1",
        "colab": {
          "base_uri": "https://localhost:8080/",
          "height": 35
        }
      },
      "source": [
        "#code here\n",
        "str(s)"
      ],
      "id": "oeN_Eyb1kpcL",
      "execution_count": 43,
      "outputs": [
        {
          "output_type": "execute_result",
          "data": {
            "text/plain": [
              "'Coronavirus Caused Lockdowns Around the World'"
            ],
            "application/vnd.google.colaboratory.intrinsic+json": {
              "type": "string"
            }
          },
          "metadata": {},
          "execution_count": 43
        }
      ]
    },
    {
      "cell_type": "markdown",
      "metadata": {
        "id": "XlViORgBkpcL"
      },
      "source": [
        "## 2. Sets\n",
        "\n",
        "Reference:-https://www.youtube.com/watch?v=B7dPo44o5jA&list=PLsR_0x6BuM-GCc3iD6OQuEZHCAtYPmZfx&index=12\n"
      ],
      "id": "XlViORgBkpcL"
    },
    {
      "cell_type": "markdown",
      "metadata": {
        "id": "cGgxZPVhkpcL"
      },
      "source": [
        "#### 2.1. Create stud_grades = ['A','A','B','C','C','F']"
      ],
      "id": "cGgxZPVhkpcL"
    },
    {
      "cell_type": "markdown",
      "metadata": {
        "id": "vSfGcxrCkpcL"
      },
      "source": [
        "<p style='text-align: right;'> 7 points</p>\n"
      ],
      "id": "vSfGcxrCkpcL"
    },
    {
      "cell_type": "code",
      "metadata": {
        "id": "AszrelvIkpcL"
      },
      "source": [
        "#code here\n",
        "stud_grades = ['A','A','B','C','C','F']"
      ],
      "id": "AszrelvIkpcL",
      "execution_count": 45,
      "outputs": []
    },
    {
      "cell_type": "markdown",
      "metadata": {
        "id": "JbdWSm2EkpcM"
      },
      "source": [
        "Print the len of stud_grades"
      ],
      "id": "JbdWSm2EkpcM"
    },
    {
      "cell_type": "code",
      "metadata": {
        "id": "FJwWPNlckpcM",
        "outputId": "6852587a-875b-412b-dff7-235d18628435",
        "colab": {
          "base_uri": "https://localhost:8080/"
        }
      },
      "source": [
        "#code here\n",
        "print(len(stud_grades))"
      ],
      "id": "FJwWPNlckpcM",
      "execution_count": 46,
      "outputs": [
        {
          "output_type": "stream",
          "name": "stdout",
          "text": [
            "6\n"
          ]
        }
      ]
    },
    {
      "cell_type": "markdown",
      "metadata": {
        "id": "syIycmhykpcM"
      },
      "source": [
        "Create a new variable, stud_grades_set = set(stud_grades)"
      ],
      "id": "syIycmhykpcM"
    },
    {
      "cell_type": "code",
      "metadata": {
        "id": "h49VnI1MkpcM"
      },
      "source": [
        "#code here\n",
        "stud_grades_set = set(stud_grades)"
      ],
      "id": "h49VnI1MkpcM",
      "execution_count": 49,
      "outputs": []
    },
    {
      "cell_type": "markdown",
      "metadata": {
        "id": "AHG7h5i3kpcM"
      },
      "source": [
        "Print stud_grades_set. "
      ],
      "id": "AHG7h5i3kpcM"
    },
    {
      "cell_type": "code",
      "metadata": {
        "id": "qDZaqBhKkpcN",
        "outputId": "f48af4d7-d794-4492-d842-0243bce2b402",
        "colab": {
          "base_uri": "https://localhost:8080/"
        }
      },
      "source": [
        "#code here\n",
        "print(stud_grades_set)"
      ],
      "id": "qDZaqBhKkpcN",
      "execution_count": 50,
      "outputs": [
        {
          "output_type": "stream",
          "name": "stdout",
          "text": [
            "{'A', 'B', 'F', 'C'}\n"
          ]
        }
      ]
    },
    {
      "cell_type": "markdown",
      "metadata": {
        "id": "Sniw3TCxkpcN"
      },
      "source": [
        "print the type of stud_grades and stud_grades_set and print their corresponding elements. Try to understand the difference between them."
      ],
      "id": "Sniw3TCxkpcN"
    },
    {
      "cell_type": "code",
      "metadata": {
        "id": "Ur2RvyqykpcN",
        "outputId": "a73f4eb6-d464-4dea-c7ed-e063a51fd338",
        "colab": {
          "base_uri": "https://localhost:8080/"
        }
      },
      "source": [
        "#code here\n",
        "print(type(stud_grades))\n",
        "print(type(stud_grades_set))\n"
      ],
      "id": "Ur2RvyqykpcN",
      "execution_count": 51,
      "outputs": [
        {
          "output_type": "stream",
          "name": "stdout",
          "text": [
            "<class 'list'>\n",
            "<class 'set'>\n"
          ]
        }
      ]
    },
    {
      "cell_type": "markdown",
      "metadata": {
        "id": "Ppd3J-N1kpcN"
      },
      "source": [
        "Add a new element ‘G’ to stud_grades_set"
      ],
      "id": "Ppd3J-N1kpcN"
    },
    {
      "cell_type": "code",
      "metadata": {
        "id": "8hGYh9PEkpcN",
        "colab": {
          "base_uri": "https://localhost:8080/"
        },
        "outputId": "f94adb11-f294-4ecc-f096-e06e89bd5bce"
      },
      "source": [
        "#code here\n",
        "stud_grades_set.add('G')\n",
        "stud_grades_set"
      ],
      "id": "8hGYh9PEkpcN",
      "execution_count": 53,
      "outputs": [
        {
          "output_type": "execute_result",
          "data": {
            "text/plain": [
              "{'A', 'B', 'C', 'F', 'G'}"
            ]
          },
          "metadata": {},
          "execution_count": 53
        }
      ]
    },
    {
      "cell_type": "markdown",
      "metadata": {
        "id": "1Osvv21ekpcO"
      },
      "source": [
        "Add element 'F' to stud_grades_set. and print it."
      ],
      "id": "1Osvv21ekpcO"
    },
    {
      "cell_type": "code",
      "metadata": {
        "id": "Dd3eD4AgkpcO",
        "outputId": "fc180842-9e76-442a-da1f-c372745d233c",
        "colab": {
          "base_uri": "https://localhost:8080/"
        }
      },
      "source": [
        "#code here\n",
        "stud_grades_set.add('F')\n",
        "stud_grades_set\n",
        "\n"
      ],
      "id": "Dd3eD4AgkpcO",
      "execution_count": 54,
      "outputs": [
        {
          "output_type": "execute_result",
          "data": {
            "text/plain": [
              "{'A', 'B', 'C', 'F', 'G'}"
            ]
          },
          "metadata": {},
          "execution_count": 54
        }
      ]
    },
    {
      "cell_type": "markdown",
      "metadata": {
        "id": "XClNoELikpcO"
      },
      "source": [
        "!!Did you notice? set doesn't add an element if it's already present in it, unlike lists."
      ],
      "id": "XClNoELikpcO"
    },
    {
      "cell_type": "markdown",
      "metadata": {
        "id": "A_9hFH6mkpcO"
      },
      "source": [
        "Remove ‘F’ from stud_grades_set"
      ],
      "id": "A_9hFH6mkpcO"
    },
    {
      "cell_type": "code",
      "metadata": {
        "id": "34ybEoh0kpcO",
        "colab": {
          "base_uri": "https://localhost:8080/"
        },
        "outputId": "b351cd7d-f892-4234-b614-06dedd844761"
      },
      "source": [
        "#code here\n",
        "stud_grades_set.discard('F')\n",
        "stud_grades_set"
      ],
      "id": "34ybEoh0kpcO",
      "execution_count": 59,
      "outputs": [
        {
          "output_type": "execute_result",
          "data": {
            "text/plain": [
              "{'A', 'B', 'C', 'G'}"
            ]
          },
          "metadata": {},
          "execution_count": 59
        }
      ]
    },
    {
      "cell_type": "markdown",
      "metadata": {
        "id": "FhW3HjejkpcO"
      },
      "source": [
        "Print the elements and the length of stud_grades_set"
      ],
      "id": "FhW3HjejkpcO"
    },
    {
      "cell_type": "code",
      "metadata": {
        "id": "PXFnKWdQkpcO",
        "outputId": "bf410c2e-399c-44c0-9745-b35edbb21146",
        "colab": {
          "base_uri": "https://localhost:8080/"
        }
      },
      "source": [
        "#code here\n",
        "stud_grades_set\n",
        "print(len(stud_grades_set))\n"
      ],
      "id": "PXFnKWdQkpcO",
      "execution_count": 60,
      "outputs": [
        {
          "output_type": "stream",
          "name": "stdout",
          "text": [
            "4\n"
          ]
        }
      ]
    },
    {
      "cell_type": "markdown",
      "metadata": {
        "id": "N2f4etZWkpcP"
      },
      "source": [
        "#### 2.2. Create colors = [‘red’,’blue’,’orange’], and fruits = [‘orange’,’grapes’,’apples’] "
      ],
      "id": "N2f4etZWkpcP"
    },
    {
      "cell_type": "markdown",
      "metadata": {
        "id": "mtF1BdJ8kpcP"
      },
      "source": [
        "<p style='text-align: right;'> 6 points</p>\n"
      ],
      "id": "mtF1BdJ8kpcP"
    },
    {
      "cell_type": "code",
      "metadata": {
        "id": "58z0CT--kpcP"
      },
      "source": [
        "#code here\n",
        "colors = ['red','blue','orange']\n",
        "fruits = ['orange','grapes','apples']\n"
      ],
      "id": "58z0CT--kpcP",
      "execution_count": 62,
      "outputs": []
    },
    {
      "cell_type": "markdown",
      "metadata": {
        "id": "3uQeGFjOkpcP"
      },
      "source": [
        "Print color and fruits"
      ],
      "id": "3uQeGFjOkpcP"
    },
    {
      "cell_type": "code",
      "metadata": {
        "id": "IasMF-J8kpcP",
        "outputId": "814f3ae5-9a8a-4212-aa44-7dd99c5023d7",
        "colab": {
          "base_uri": "https://localhost:8080/"
        }
      },
      "source": [
        "#code here\n",
        "print(colors)\n",
        "print(fruits)"
      ],
      "id": "IasMF-J8kpcP",
      "execution_count": 63,
      "outputs": [
        {
          "output_type": "stream",
          "name": "stdout",
          "text": [
            "['red', 'blue', 'orange']\n",
            "['orange', 'grapes', 'apples']\n"
          ]
        }
      ]
    },
    {
      "cell_type": "markdown",
      "metadata": {
        "id": "MmbSJxhnkpcP"
      },
      "source": [
        "Create colors_set, and fruits_set. (using set() ) and print them"
      ],
      "id": "MmbSJxhnkpcP"
    },
    {
      "cell_type": "code",
      "metadata": {
        "id": "T46Fv-zGkpcP",
        "outputId": "6658db26-187f-4e32-e797-e6ca9869b54d",
        "colab": {
          "base_uri": "https://localhost:8080/"
        }
      },
      "source": [
        "#code here\n",
        "colors_set=set(colors)\n",
        "fruits_set=set(fruits)\n",
        "print(colors_set)\n",
        "print(fruits_set)"
      ],
      "id": "T46Fv-zGkpcP",
      "execution_count": 65,
      "outputs": [
        {
          "output_type": "stream",
          "name": "stdout",
          "text": [
            "{'orange', 'blue', 'red'}\n",
            "{'apples', 'grapes', 'orange'}\n"
          ]
        }
      ]
    },
    {
      "cell_type": "markdown",
      "metadata": {
        "id": "I6A0suaSkpcQ"
      },
      "source": [
        "Find the union of both the sets."
      ],
      "id": "I6A0suaSkpcQ"
    },
    {
      "cell_type": "code",
      "metadata": {
        "id": "JDt7qEwTkpcQ",
        "outputId": "7b5730e5-e588-4546-ca26-899c01db2400",
        "colab": {
          "base_uri": "https://localhost:8080/"
        }
      },
      "source": [
        "#code here\n",
        "colors_set.union(fruits_set)\n"
      ],
      "id": "JDt7qEwTkpcQ",
      "execution_count": 66,
      "outputs": [
        {
          "output_type": "execute_result",
          "data": {
            "text/plain": [
              "{'apples', 'blue', 'grapes', 'orange', 'red'}"
            ]
          },
          "metadata": {},
          "execution_count": 66
        }
      ]
    },
    {
      "cell_type": "markdown",
      "metadata": {
        "id": "bZZhTj5PkpcQ"
      },
      "source": [
        "Find the intersection of both the sets "
      ],
      "id": "bZZhTj5PkpcQ"
    },
    {
      "cell_type": "code",
      "metadata": {
        "id": "rfZTJlvKkpcQ",
        "outputId": "4f5ebd3f-9656-4c03-a1f2-12a8dd69fca9",
        "colab": {
          "base_uri": "https://localhost:8080/"
        }
      },
      "source": [
        "#code here\n",
        "colors_set.intersection(fruits_set)\n"
      ],
      "id": "rfZTJlvKkpcQ",
      "execution_count": 67,
      "outputs": [
        {
          "output_type": "execute_result",
          "data": {
            "text/plain": [
              "{'orange'}"
            ]
          },
          "metadata": {},
          "execution_count": 67
        }
      ]
    },
    {
      "cell_type": "markdown",
      "metadata": {
        "id": "vmFkc4sXkpcR"
      },
      "source": [
        "Find the elements which are Fruits but not colors (using set.difference() )"
      ],
      "id": "vmFkc4sXkpcR"
    },
    {
      "cell_type": "code",
      "metadata": {
        "id": "UAE5Flv_kpcR",
        "outputId": "776a7755-a625-47ab-8641-78c5c4fcb5a5",
        "colab": {
          "base_uri": "https://localhost:8080/"
        }
      },
      "source": [
        "#code here\n",
        "colors_set.difference(fruits_set)\n"
      ],
      "id": "UAE5Flv_kpcR",
      "execution_count": 68,
      "outputs": [
        {
          "output_type": "execute_result",
          "data": {
            "text/plain": [
              "{'blue', 'red'}"
            ]
          },
          "metadata": {},
          "execution_count": 68
        }
      ]
    },
    {
      "cell_type": "markdown",
      "metadata": {
        "id": "DivF-svekpcR"
      },
      "source": [
        "## 3. TUPLES\n",
        "\n",
        "Reference:-https://www.youtube.com/watch?v=aMGPLCzTvmE&list=PLsR_0x6BuM-GCc3iD6OQuEZHCAtYPmZfx&index=11\n"
      ],
      "id": "DivF-svekpcR"
    },
    {
      "cell_type": "markdown",
      "metadata": {
        "id": "1Amd7ICHkpcR"
      },
      "source": [
        "#### 3.1 . Create temp = [17, ’Virat’, 50.0]"
      ],
      "id": "1Amd7ICHkpcR"
    },
    {
      "cell_type": "markdown",
      "metadata": {
        "id": "dgG43IiWkpcR"
      },
      "source": [
        "<p style='text-align: right;'> 7 points</p>\n"
      ],
      "id": "dgG43IiWkpcR"
    },
    {
      "cell_type": "code",
      "metadata": {
        "id": "pCj4RYxPkpcR"
      },
      "source": [
        "#code here\n",
        "temp = [17, 'Virat', 50.0]\n",
        "\n",
        "\n"
      ],
      "id": "pCj4RYxPkpcR",
      "execution_count": 100,
      "outputs": []
    },
    {
      "cell_type": "markdown",
      "metadata": {
        "id": "vYVDWU0mkpcS"
      },
      "source": [
        "Iterate through temp and print all the items in temp"
      ],
      "id": "vYVDWU0mkpcS"
    },
    {
      "cell_type": "code",
      "metadata": {
        "id": "Abcx7FsQkpcS",
        "outputId": "fc0a996f-97ac-45a4-c00b-13603c4b66bd",
        "colab": {
          "base_uri": "https://localhost:8080/"
        }
      },
      "source": [
        "#code here\n",
        "for i in temp:\n",
        "  print(i)\n",
        "\n"
      ],
      "id": "Abcx7FsQkpcS",
      "execution_count": 101,
      "outputs": [
        {
          "output_type": "stream",
          "name": "stdout",
          "text": [
            "17\n",
            "Virat\n",
            "50.0\n"
          ]
        }
      ]
    },
    {
      "cell_type": "markdown",
      "metadata": {
        "id": "H8IYduIMkpcS"
      },
      "source": [
        "replace first element with 11 in temp"
      ],
      "id": "H8IYduIMkpcS"
    },
    {
      "cell_type": "code",
      "metadata": {
        "id": "_agIAaYokpcS",
        "colab": {
          "base_uri": "https://localhost:8080/"
        },
        "outputId": "4cc7e15a-14be-483e-d8db-42f7570a4c04"
      },
      "source": [
        "#code here\n",
        "temp.insert(1,11)\n",
        "temp"
      ],
      "id": "_agIAaYokpcS",
      "execution_count": 105,
      "outputs": [
        {
          "output_type": "execute_result",
          "data": {
            "text/plain": [
              "[17, 11, 'Virat', 50.0, 1, 1]"
            ]
          },
          "metadata": {},
          "execution_count": 105
        }
      ]
    },
    {
      "cell_type": "markdown",
      "metadata": {
        "id": "L65Zu5JOkpcS"
      },
      "source": [
        "Set temp1 = tuple(temp)"
      ],
      "id": "L65Zu5JOkpcS"
    },
    {
      "cell_type": "code",
      "metadata": {
        "id": "Lf_crs_FkpcS"
      },
      "source": [
        "#code here\n",
        "set_temp1=tuple(temp)\n"
      ],
      "id": "Lf_crs_FkpcS",
      "execution_count": 106,
      "outputs": []
    },
    {
      "cell_type": "markdown",
      "metadata": {
        "id": "W0_KvKjIkpcT"
      },
      "source": [
        "Iterate through temp1 and print all the items in temp1. "
      ],
      "id": "W0_KvKjIkpcT"
    },
    {
      "cell_type": "code",
      "metadata": {
        "id": "6GEPWeoAkpcT",
        "outputId": "0bbedf7c-f04f-42b4-a612-89662f0f8a92",
        "colab": {
          "base_uri": "https://localhost:8080/"
        }
      },
      "source": [
        "#code here\n",
        "for i in set_temp1:\n",
        "  print(i)\n"
      ],
      "id": "6GEPWeoAkpcT",
      "execution_count": 108,
      "outputs": [
        {
          "output_type": "stream",
          "name": "stdout",
          "text": [
            "17\n",
            "11\n",
            "Virat\n",
            "50.0\n",
            "1\n",
            "1\n"
          ]
        }
      ]
    },
    {
      "cell_type": "markdown",
      "metadata": {
        "id": "f9d9LXh8kpcU"
      },
      "source": [
        "replace first element with 17 in temp1"
      ],
      "id": "f9d9LXh8kpcU"
    },
    {
      "cell_type": "code",
      "metadata": {
        "id": "1IkxeChfkpcU",
        "outputId": "3ce88187-5014-4856-d925-07845f9a40e7"
      },
      "source": [
        "#code here\n",
        "\n"
      ],
      "id": "1IkxeChfkpcU",
      "execution_count": null,
      "outputs": [
        {
          "ename": "TypeError",
          "evalue": "'tuple' object does not support item assignment",
          "output_type": "error",
          "traceback": [
            "\u001b[0;31m---------------------------------------------------------------------------\u001b[0m",
            "\u001b[0;31mTypeError\u001b[0m                                 Traceback (most recent call last)",
            "\u001b[0;32m<ipython-input-107-0207b6185b0a>\u001b[0m in \u001b[0;36m<module>\u001b[0;34m\u001b[0m\n\u001b[0;32m----> 1\u001b[0;31m \u001b[0mtemp1\u001b[0m\u001b[0;34m[\u001b[0m\u001b[0;36m0\u001b[0m\u001b[0;34m]\u001b[0m \u001b[0;34m=\u001b[0m \u001b[0;36m17\u001b[0m\u001b[0;34m\u001b[0m\u001b[0;34m\u001b[0m\u001b[0m\n\u001b[0m",
            "\u001b[0;31mTypeError\u001b[0m: 'tuple' object does not support item assignment"
          ]
        }
      ]
    },
    {
      "cell_type": "markdown",
      "metadata": {
        "id": "YEFosZa1kpcV"
      },
      "source": [
        "<b>Oops!! You got an error. Hey Don't worry! Its because Once a tuple is created, you cannot change its values unlike list.</b>"
      ],
      "id": "YEFosZa1kpcV"
    },
    {
      "cell_type": "markdown",
      "metadata": {
        "id": "ykhpKlS8kpcV"
      },
      "source": [
        "#### 3.2 . Create city = (\"Bangalore\", 28.9949521, 72)"
      ],
      "id": "ykhpKlS8kpcV"
    },
    {
      "cell_type": "markdown",
      "metadata": {
        "id": "ODAigBgXkpcV"
      },
      "source": [
        "<p style='text-align: right;'> 6 points</p>\n"
      ],
      "id": "ODAigBgXkpcV"
    },
    {
      "cell_type": "code",
      "metadata": {
        "id": "WgGXPbe1kpcW"
      },
      "source": [
        "#code here\n",
        "\n",
        "Create_city = (\"Bangalore\", 28.9949521, 72)"
      ],
      "id": "WgGXPbe1kpcW",
      "execution_count": 110,
      "outputs": []
    },
    {
      "cell_type": "markdown",
      "metadata": {
        "id": "DWPnWxz5kpcW"
      },
      "source": [
        "Print first element of city"
      ],
      "id": "DWPnWxz5kpcW"
    },
    {
      "cell_type": "code",
      "metadata": {
        "id": "dA6KeViMkpcW",
        "outputId": "1e67a173-5b75-4042-ef19-c83e778035ec",
        "colab": {
          "base_uri": "https://localhost:8080/",
          "height": 35
        }
      },
      "source": [
        "#code here\n",
        "Create_city[0]\n"
      ],
      "id": "dA6KeViMkpcW",
      "execution_count": 111,
      "outputs": [
        {
          "output_type": "execute_result",
          "data": {
            "text/plain": [
              "'Bangalore'"
            ],
            "application/vnd.google.colaboratory.intrinsic+json": {
              "type": "string"
            }
          },
          "metadata": {},
          "execution_count": 111
        }
      ]
    },
    {
      "cell_type": "markdown",
      "metadata": {
        "id": "pbsNXIF8kpcW"
      },
      "source": [
        "Create city2 = (‘Chennai’, 30.01, 74)"
      ],
      "id": "pbsNXIF8kpcW"
    },
    {
      "cell_type": "code",
      "metadata": {
        "id": "WUTjcdxJkpcW"
      },
      "source": [
        "#code here\n",
        "Create_city2 = (\"chennai\", 30.01, 74)\n"
      ],
      "id": "WUTjcdxJkpcW",
      "execution_count": 112,
      "outputs": []
    },
    {
      "cell_type": "markdown",
      "metadata": {
        "id": "3Dj0etmhkpcX"
      },
      "source": [
        "Create cities which consist of city and city2"
      ],
      "id": "3Dj0etmhkpcX"
    },
    {
      "cell_type": "code",
      "metadata": {
        "id": "fRwK84MzkpcX"
      },
      "source": [
        "#code here\n",
        "cities=((Create_city),(Create_city2))\n",
        "\n"
      ],
      "id": "fRwK84MzkpcX",
      "execution_count": 113,
      "outputs": []
    },
    {
      "cell_type": "markdown",
      "metadata": {
        "id": "zS4zixR5kpcX"
      },
      "source": [
        "Print cities"
      ],
      "id": "zS4zixR5kpcX"
    },
    {
      "cell_type": "code",
      "metadata": {
        "id": "i7VaAI5SkpcX",
        "outputId": "847f14dd-3801-49c9-98ad-3a411de38cdf",
        "colab": {
          "base_uri": "https://localhost:8080/"
        }
      },
      "source": [
        "#code here\n",
        "print(cities)\n"
      ],
      "id": "i7VaAI5SkpcX",
      "execution_count": 114,
      "outputs": [
        {
          "output_type": "stream",
          "name": "stdout",
          "text": [
            "(('Bangalore', 28.9949521, 72), ('chennai', 30.01, 74))\n"
          ]
        }
      ]
    },
    {
      "cell_type": "markdown",
      "metadata": {
        "id": "oXs492EmkpcX"
      },
      "source": [
        "Print type of first element in cities"
      ],
      "id": "oXs492EmkpcX"
    },
    {
      "cell_type": "code",
      "metadata": {
        "id": "09lrtqAvkpcX",
        "outputId": "e61a2911-18ad-4678-a5bc-e996eca0134d",
        "colab": {
          "base_uri": "https://localhost:8080/"
        }
      },
      "source": [
        "#code here\n",
        "type(cities[1])\n"
      ],
      "id": "09lrtqAvkpcX",
      "execution_count": 117,
      "outputs": [
        {
          "output_type": "execute_result",
          "data": {
            "text/plain": [
              "tuple"
            ]
          },
          "metadata": {},
          "execution_count": 117
        }
      ]
    },
    {
      "cell_type": "markdown",
      "metadata": {
        "id": "na1P70SGkpcY"
      },
      "source": [
        "print the type of cities\n"
      ],
      "id": "na1P70SGkpcY"
    },
    {
      "cell_type": "code",
      "metadata": {
        "id": "3l0lToaXkpcY",
        "outputId": "1cdc7ec5-7598-47ec-c22c-48aea330300a",
        "colab": {
          "base_uri": "https://localhost:8080/"
        }
      },
      "source": [
        "#code here\n",
        "print(type(cities))\n"
      ],
      "id": "3l0lToaXkpcY",
      "execution_count": 118,
      "outputs": [
        {
          "output_type": "stream",
          "name": "stdout",
          "text": [
            "<class 'tuple'>\n"
          ]
        }
      ]
    },
    {
      "cell_type": "markdown",
      "metadata": {
        "id": "66u3kIwvkpcY"
      },
      "source": [
        "Hey that implies you made a nested tuples!!"
      ],
      "id": "66u3kIwvkpcY"
    },
    {
      "cell_type": "markdown",
      "metadata": {
        "id": "9IPo71RPkpcY"
      },
      "source": [
        "## 4. DICT\n",
        "\n",
        "Reference:-https://www.youtube.com/watch?v=U3e-L1WSSzQ&list=PLsR_0x6BuM-GCc3iD6OQuEZHCAtYPmZfx&index=13\n"
      ],
      "id": "9IPo71RPkpcY"
    },
    {
      "cell_type": "markdown",
      "metadata": {
        "id": "nOnQGy06kpcY"
      },
      "source": [
        "<p style='text-align: right;'> 11 points</p>\n"
      ],
      "id": "nOnQGy06kpcY"
    },
    {
      "cell_type": "markdown",
      "metadata": {
        "id": "_D3WHJsMkpcZ"
      },
      "source": [
        "#### 4.1 Create a dictionary d = {\"actor\":\"amir\",\"animal\":\"cat\",\"earth\":2,\"list\":[23,32,12]}"
      ],
      "id": "_D3WHJsMkpcZ"
    },
    {
      "cell_type": "code",
      "metadata": {
        "id": "nQV3F4cTkpcZ"
      },
      "source": [
        "#code here\n",
        "d = {\"actor\":\"amir\",\"animal\":\"cat\",\"earth\":2,\"list\":[23,32,12]}\n"
      ],
      "id": "nQV3F4cTkpcZ",
      "execution_count": 70,
      "outputs": []
    },
    {
      "cell_type": "markdown",
      "metadata": {
        "id": "9XZ9f0amkpcZ"
      },
      "source": [
        "Print the value of d[0]"
      ],
      "id": "9XZ9f0amkpcZ"
    },
    {
      "cell_type": "code",
      "metadata": {
        "id": "VdZOj0bVkpcZ",
        "outputId": "95cfa6eb-7599-420a-869a-3e94b7355f21",
        "colab": {
          "base_uri": "https://localhost:8080/",
          "height": 35
        }
      },
      "source": [
        "#code here\n",
        "d['actor']"
      ],
      "id": "VdZOj0bVkpcZ",
      "execution_count": 74,
      "outputs": [
        {
          "output_type": "execute_result",
          "data": {
            "text/plain": [
              "'amir'"
            ],
            "application/vnd.google.colaboratory.intrinsic+json": {
              "type": "string"
            }
          },
          "metadata": {},
          "execution_count": 74
        }
      ]
    },
    {
      "cell_type": "markdown",
      "metadata": {
        "id": "YnzshYWfkpcZ"
      },
      "source": [
        "<b>Oops!! again an error. again a fun fact. Dictionary return the value for key if key is in the dictionary, else throws KeyError\n",
        "and we don't have key 0 here :( </b>"
      ],
      "id": "YnzshYWfkpcZ"
    },
    {
      "cell_type": "markdown",
      "metadata": {
        "id": "seqtJ3HOkpca"
      },
      "source": [
        "Store the value of d[‘actor’] to a new variable actor."
      ],
      "id": "seqtJ3HOkpca"
    },
    {
      "cell_type": "code",
      "metadata": {
        "id": "Iy-ibjR-kpca",
        "colab": {
          "base_uri": "https://localhost:8080/",
          "height": 35
        },
        "outputId": "478c773c-0389-4bcc-b768-daa7f7343d03"
      },
      "source": [
        "#code here\n",
        "d['actor']\n"
      ],
      "id": "Iy-ibjR-kpca",
      "execution_count": 77,
      "outputs": [
        {
          "output_type": "execute_result",
          "data": {
            "text/plain": [
              "'amir'"
            ],
            "application/vnd.google.colaboratory.intrinsic+json": {
              "type": "string"
            }
          },
          "metadata": {},
          "execution_count": 77
        }
      ]
    },
    {
      "cell_type": "markdown",
      "metadata": {
        "id": "3XspSdnykpca"
      },
      "source": [
        "Print the type of actor"
      ],
      "id": "3XspSdnykpca"
    },
    {
      "cell_type": "code",
      "metadata": {
        "id": "PeRcMuYHkpca",
        "outputId": "849f968a-2cd0-482a-d1cd-c4a246f690c0",
        "colab": {
          "base_uri": "https://localhost:8080/"
        }
      },
      "source": [
        "#code here\n",
        "print(type('actor'))\n"
      ],
      "id": "PeRcMuYHkpca",
      "execution_count": 79,
      "outputs": [
        {
          "output_type": "stream",
          "name": "stdout",
          "text": [
            "<class 'str'>\n"
          ]
        }
      ]
    },
    {
      "cell_type": "markdown",
      "metadata": {
        "id": "MeAKu0Y1kpca"
      },
      "source": [
        "Store the value of d[‘list’] in new variable l. "
      ],
      "id": "MeAKu0Y1kpca"
    },
    {
      "cell_type": "code",
      "metadata": {
        "id": "Z1PS0784kpca"
      },
      "source": [
        "#code here\n",
        "i=d['list']\n"
      ],
      "id": "Z1PS0784kpca",
      "execution_count": 80,
      "outputs": []
    },
    {
      "cell_type": "markdown",
      "metadata": {
        "id": "2-TgaLwtkpca"
      },
      "source": [
        "Print the type of l. "
      ],
      "id": "2-TgaLwtkpca"
    },
    {
      "cell_type": "code",
      "metadata": {
        "id": "D1LQcCj-kpcb",
        "outputId": "93ee748d-256b-4564-b56c-a24f703c8db0",
        "colab": {
          "base_uri": "https://localhost:8080/"
        }
      },
      "source": [
        "#code here\n",
        "\n",
        "print(i)"
      ],
      "id": "D1LQcCj-kpcb",
      "execution_count": 81,
      "outputs": [
        {
          "output_type": "stream",
          "name": "stdout",
          "text": [
            "[23, 32, 12]\n"
          ]
        }
      ]
    },
    {
      "cell_type": "markdown",
      "metadata": {
        "id": "YxRwuHH6kpcb"
      },
      "source": [
        "Create d1 = { ‘singer’ : ‘Kr$na’ , ‘album’: ‘Still here’, ‘genre’ : ‘hip-hop’}"
      ],
      "id": "YxRwuHH6kpcb"
    },
    {
      "cell_type": "code",
      "metadata": {
        "id": "VZBmqqDvkpcb"
      },
      "source": [
        "#code here\n",
        "d1 = { 'singer' : 'Kr$na', 'album’: ‘Still here’, ‘genre' : 'hip-hop'}"
      ],
      "id": "VZBmqqDvkpcb",
      "execution_count": 83,
      "outputs": []
    },
    {
      "cell_type": "markdown",
      "metadata": {
        "id": "tZ2jSPPRkpcb"
      },
      "source": [
        "Merge d1 into d."
      ],
      "id": "tZ2jSPPRkpcb"
    },
    {
      "cell_type": "code",
      "metadata": {
        "id": "ydfvA3s4kpcb",
        "colab": {
          "base_uri": "https://localhost:8080/"
        },
        "outputId": "c80749d3-d89d-4b62-d105-5b6e5b78e72a"
      },
      "source": [
        "#code here\n",
        "def Merge(d1,d):\n",
        "  return (d,d1)\n",
        "print(Merge(d1,d))\n",
        "print(d1)"
      ],
      "id": "ydfvA3s4kpcb",
      "execution_count": 90,
      "outputs": [
        {
          "output_type": "stream",
          "name": "stdout",
          "text": [
            "({'actor': 'amir', 'animal': 'cat', 'earth': 2, 'list': [23, 32, 12]}, {'singer': 'Kr$na', 'album’: ‘Still here’, ‘genre': 'hip-hop'})\n",
            "{'singer': 'Kr$na', 'album’: ‘Still here’, ‘genre': 'hip-hop'}\n"
          ]
        }
      ]
    },
    {
      "cell_type": "markdown",
      "metadata": {
        "id": "GNNBXz-Pkpcb"
      },
      "source": [
        "print d"
      ],
      "id": "GNNBXz-Pkpcb"
    },
    {
      "cell_type": "code",
      "metadata": {
        "id": "fZ_SizwPkpcc",
        "outputId": "8e910b27-fdd7-4cd0-ecaa-18598b2fbe93",
        "colab": {
          "base_uri": "https://localhost:8080/"
        }
      },
      "source": [
        "#code here\n",
        "print(d)\n"
      ],
      "id": "fZ_SizwPkpcc",
      "execution_count": 91,
      "outputs": [
        {
          "output_type": "stream",
          "name": "stdout",
          "text": [
            "{'actor': 'amir', 'animal': 'cat', 'earth': 2, 'list': [23, 32, 12]}\n"
          ]
        }
      ]
    },
    {
      "cell_type": "markdown",
      "metadata": {
        "id": "bkjF0mNckpcc"
      },
      "source": [
        "Print all the keys in d"
      ],
      "id": "bkjF0mNckpcc"
    },
    {
      "cell_type": "code",
      "metadata": {
        "id": "RgTiM-1Gkpcc",
        "outputId": "c1b14b96-0894-4120-eeb7-d7ebf7c58aa4",
        "colab": {
          "base_uri": "https://localhost:8080/"
        }
      },
      "source": [
        "#code here\n",
        "d.keys()"
      ],
      "id": "RgTiM-1Gkpcc",
      "execution_count": 92,
      "outputs": [
        {
          "output_type": "execute_result",
          "data": {
            "text/plain": [
              "dict_keys(['actor', 'animal', 'earth', 'list'])"
            ]
          },
          "metadata": {},
          "execution_count": 92
        }
      ]
    },
    {
      "cell_type": "markdown",
      "metadata": {
        "id": "HeqJs6sfkpcc"
      },
      "source": [
        "Print all the values in d"
      ],
      "id": "HeqJs6sfkpcc"
    },
    {
      "cell_type": "code",
      "metadata": {
        "id": "lS9DRpPZkpcc",
        "outputId": "c01c1941-b529-49e2-8ee9-b65ddfcde715",
        "colab": {
          "base_uri": "https://localhost:8080/"
        }
      },
      "source": [
        "#code here\n",
        "\n",
        "d.values()"
      ],
      "id": "lS9DRpPZkpcc",
      "execution_count": 93,
      "outputs": [
        {
          "output_type": "execute_result",
          "data": {
            "text/plain": [
              "dict_values(['amir', 'cat', 2, [23, 32, 12]])"
            ]
          },
          "metadata": {},
          "execution_count": 93
        }
      ]
    },
    {
      "cell_type": "markdown",
      "metadata": {
        "id": "AvMDYUh2kpcc"
      },
      "source": [
        "Iterate over d, and print each key, value pair as given in output"
      ],
      "id": "AvMDYUh2kpcc"
    },
    {
      "cell_type": "code",
      "metadata": {
        "id": "UIGPHLApkpcd",
        "outputId": "0cf1be29-9a11-4184-c684-23cb660b3be8",
        "colab": {
          "base_uri": "https://localhost:8080/"
        }
      },
      "source": [
        "#code here\n",
        "d\n",
        "for i in d:\n",
        "  print(d)"
      ],
      "id": "UIGPHLApkpcd",
      "execution_count": 98,
      "outputs": [
        {
          "output_type": "stream",
          "name": "stdout",
          "text": [
            "{'actor': 'amir', 'animal': 'cat', 'earth': 2, 'list': [23, 32, 12]}\n",
            "{'actor': 'amir', 'animal': 'cat', 'earth': 2, 'list': [23, 32, 12]}\n",
            "{'actor': 'amir', 'animal': 'cat', 'earth': 2, 'list': [23, 32, 12]}\n",
            "{'actor': 'amir', 'animal': 'cat', 'earth': 2, 'list': [23, 32, 12]}\n"
          ]
        }
      ]
    },
    {
      "cell_type": "markdown",
      "metadata": {
        "id": "sHcM8rF0kpcd"
      },
      "source": [
        "\n",
        "Create a string, sent = ‘Coronavirus Caused Lockdowns Around The World.”\n",
        "\n",
        "Count the number of occurences of charachters in string named \"sent\" using dictionary and print the same.\n"
      ],
      "id": "sHcM8rF0kpcd"
    },
    {
      "cell_type": "code",
      "metadata": {
        "id": "DmpLDa2vkpcd",
        "outputId": "a03bcc54-2a22-4c04-d888-6185f5139033",
        "colab": {
          "base_uri": "https://localhost:8080/"
        }
      },
      "source": [
        "#code here\n",
        "sent = \"Coronavirus Caused Lockdowns Around The World.\"\n",
        "for i in sent:\n",
        "  print(i)\n",
        "i=i.count(sent)\n",
        "print(sent)\n",
        "\n",
        "\n",
        "\n",
        "\n"
      ],
      "id": "DmpLDa2vkpcd",
      "execution_count": 122,
      "outputs": [
        {
          "output_type": "stream",
          "name": "stdout",
          "text": [
            "C\n",
            "o\n",
            "r\n",
            "o\n",
            "n\n",
            "a\n",
            "v\n",
            "i\n",
            "r\n",
            "u\n",
            "s\n",
            " \n",
            "C\n",
            "a\n",
            "u\n",
            "s\n",
            "e\n",
            "d\n",
            " \n",
            "L\n",
            "o\n",
            "c\n",
            "k\n",
            "d\n",
            "o\n",
            "w\n",
            "n\n",
            "s\n",
            " \n",
            "A\n",
            "r\n",
            "o\n",
            "u\n",
            "n\n",
            "d\n",
            " \n",
            "T\n",
            "h\n",
            "e\n",
            " \n",
            "W\n",
            "o\n",
            "r\n",
            "l\n",
            "d\n",
            ".\n",
            "Coronavirus Caused Lockdowns Around The World.\n"
          ]
        }
      ]
    },
    {
      "cell_type": "markdown",
      "metadata": {
        "id": "b-ESQmrKkpcd"
      },
      "source": [
        "# --------------------------------------------------------------------"
      ],
      "id": "b-ESQmrKkpcd"
    },
    {
      "cell_type": "markdown",
      "metadata": {
        "id": "dxIz_yvZkpcd"
      },
      "source": [
        "# Hurray!! Second milestone completed. The next challenge is waiting for you :)\n",
        "\n",
        "# --------------------------------------------------------------------\n",
        "\n",
        "-----------------\n",
        "# FeedBack\n",
        "We hope you’ve enjoyed this course so far. We’re committed to help you use \"AI for All\" course to its full potential, so that you have a great learning experience. And that’s why we need your help in form of a feedback here.\n",
        "\n",
        "Please fill this feedback form  https://zfrmz.in/MtRG5oWXBdesm6rmSM7N"
      ],
      "id": "dxIz_yvZkpcd"
    }
  ]
}