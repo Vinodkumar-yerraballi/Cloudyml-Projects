{
  "cells": [
    {
      "cell_type": "markdown",
      "source": [
        "<center><h1> Python Basics</h1></center>\n"
      ],
      "metadata": {
        "id": "X01f_sPwOnmX"
      }
    },
    {
      "cell_type": "markdown",
      "source": [
        "![image.png](https://pythonawesome.com/content/images/2019/09/Edward2.jpg)"
      ],
      "metadata": {
        "id": "sAxrb2-DOwQ2"
      }
    },
    {
      "cell_type": "code",
      "execution_count": 2,
      "source": [
        "from IPython.display import YouTubeVideo\n",
        "YouTubeVideo('https://www.youtube.com/watch?v=izgBmCnp1Oc&list=PLsR_0x6BuM-HJZT6Xzj-088N4hN3KsDME&index=1',width=600,height=300)"
      ],
      "outputs": [
        {
          "output_type": "execute_result",
          "data": {
            "text/plain": [
              "<IPython.lib.display.YouTubeVideo at 0x7f332a4771d0>"
            ],
            "text/html": [
              "\n",
              "        <iframe\n",
              "            width=\"600\"\n",
              "            height=\"300\"\n",
              "            src=\"https://www.youtube.com/embed/https://www.youtube.com/watch?v=izgBmCnp1Oc&list=PLsR_0x6BuM-HJZT6Xzj-088N4hN3KsDME&index=1\"\n",
              "            frameborder=\"0\"\n",
              "            allowfullscreen\n",
              "        ></iframe>\n",
              "        "
            ]
          },
          "metadata": {},
          "execution_count": 2
        }
      ],
      "metadata": {
        "id": "j6_2OG08Onmh",
        "colab": {
          "base_uri": "https://localhost:8080/",
          "height": 321
        },
        "outputId": "b4a61020-7b5a-4f2a-f4d9-c3b3243a1ce9"
      }
    },
    {
      "cell_type": "markdown",
      "source": [
        "Python is emerging as the popular language used more in data science applications.\n",
        "\n",
        "Take the case of the tech giant Google that has created the deep learning framework called tensorflow – Python is the primary language used for creating this framework. Its footprint has continued to increase in the environment promoted by Netflix. Production engineers at Facebook and Khan Academy have for long been using it as a prominent language in their environment.\n",
        "\n",
        "Python became the most popular language in the data science world.\n",
        "So what are you waiting for? Lets start learning python basic as your first assignment.\n",
        "\n",
        "\n",
        "Add-on Reference: https://youtu.be/HGOBQPFzWKo\n",
        "\n",
        "Add-on reference: https://youtu.be/8DvywoWv6fI\n",
        "\n",
        "\n",
        "## Variable declaration"
      ],
      "metadata": {
        "id": "rw6fWHMFOnmj"
      }
    },
    {
      "cell_type": "markdown",
      "source": [
        "Covers the topic of variable declaration and type of variables\n",
        "\n",
        "<p style='text-align: right;'> 1+1+1+1+1 = 5 points</p>\n"
      ],
      "metadata": {
        "id": "_B2hCySwOnmm"
      }
    },
    {
      "cell_type": "code",
      "source": [
        "#1 Variables\n",
        "\n",
        "a=YouTubeVideo('https://www.youtube.com/watch?v=YdDfEbaUPJs&list=PLsR_0x6BuM-HJZT6Xzj-088N4hN3KsDME&index=2',width=600,height=300)\n",
        "print(a)"
      ],
      "metadata": {
        "id": "ixKyik4SQj1y",
        "colab": {
          "base_uri": "https://localhost:8080/"
        },
        "outputId": "3bacc045-86f5-459e-8e97-110f4f7bda52"
      },
      "execution_count": 4,
      "outputs": [
        {
          "output_type": "stream",
          "name": "stdout",
          "text": [
            "<IPython.lib.display.YouTubeVideo object at 0x7f3325f50a50>\n"
          ]
        }
      ]
    },
    {
      "cell_type": "code",
      "source": [
        "#2 Variables\n",
        "\n",
        "b=YouTubeVideo('https://www.youtube.com/watch?v=gOcRxdGovhc&list=PLsR_0x6BuM-HJZT6Xzj-088N4hN3KsDME&index=3',width=600,height=300)\n",
        "print(b)"
      ],
      "metadata": {
        "id": "UlSqi2TSQvgw",
        "colab": {
          "base_uri": "https://localhost:8080/"
        },
        "outputId": "1db5d6c2-40f3-4f07-d464-190799fe9fd2"
      },
      "execution_count": 5,
      "outputs": [
        {
          "output_type": "stream",
          "name": "stdout",
          "text": [
            "<IPython.lib.display.YouTubeVideo object at 0x7f3325ed3190>\n"
          ]
        }
      ]
    },
    {
      "cell_type": "code",
      "execution_count": null,
      "source": [
        "# declare two variables, a = 5, b = 'city'\n",
        "a =5 # your code here\n",
        "b ='city' # your code here"
      ],
      "outputs": [],
      "metadata": {
        "id": "XgolDndUOnmn"
      }
    },
    {
      "cell_type": "code",
      "execution_count": null,
      "source": [
        "# print type of a\n",
        "print(type(a))"
      ],
      "outputs": [],
      "metadata": {
        "id": "0UNQOo-QOnmo"
      }
    },
    {
      "cell_type": "code",
      "execution_count": null,
      "source": [
        "# print type of b\n",
        "print(type(b))"
      ],
      "outputs": [],
      "metadata": {
        "id": "HvaV3dnoOnms"
      }
    },
    {
      "cell_type": "code",
      "execution_count": 6,
      "source": [
        "# swap the values of a and b\n",
        "# hint, if a = 3 and b = \"cloudyML\" then u can swap values like this\n",
        "\n",
        "a = 3\n",
        "b = \"cloudyML\"\n",
        "temp = a # defined a temporary variable and store value of a in temp\n",
        "a = b # swap\n",
        "b = temp # give value of a stored in temp to b\n"
      ],
      "outputs": [],
      "metadata": {
        "id": "8fnWzilIOnmu"
      }
    },
    {
      "cell_type": "code",
      "execution_count": 7,
      "source": [
        "# run this to confirm \n",
        "print('The value a after swapping: {}'.format(a))\n",
        "print('The value  b after swapping: {}'.format(b))"
      ],
      "outputs": [
        {
          "output_type": "stream",
          "name": "stdout",
          "text": [
            "The value a after swapping: cloudyML\n",
            "The value  b after swapping: 3\n"
          ]
        }
      ],
      "metadata": {
        "id": "SWd_9g8YOnmv",
        "colab": {
          "base_uri": "https://localhost:8080/"
        },
        "outputId": "4aa175f0-d11c-474a-cabb-8859283a8c20"
      }
    },
    {
      "cell_type": "markdown",
      "source": [
        "Cool! so variable declaration and getting it's type was easy."
      ],
      "metadata": {
        "id": "jZxcxXV2Onmx"
      }
    },
    {
      "cell_type": "code",
      "source": [
        "#3 Data Structure\n",
        "\n",
        "a=YouTubeVideo('https://www.youtube.com/watch?v=R0yDN07Jw_c&list=PLsR_0x6BuM-HJZT6Xzj-088N4hN3KsDME&index=4',width=600,height=300)\n",
        "print(a)"
      ],
      "metadata": {
        "id": "iGEGIEOsRG4N",
        "colab": {
          "base_uri": "https://localhost:8080/"
        },
        "outputId": "1293f745-1a29-4709-deea-7e2fc1b70612"
      },
      "execution_count": 8,
      "outputs": [
        {
          "output_type": "stream",
          "name": "stdout",
          "text": [
            "<IPython.lib.display.YouTubeVideo object at 0x7f331d5c63d0>\n"
          ]
        }
      ]
    },
    {
      "cell_type": "markdown",
      "source": [
        "## Arithmetic Operations"
      ],
      "metadata": {
        "id": "pDfT0V3IOnmx"
      }
    },
    {
      "cell_type": "markdown",
      "source": [
        "Hey novice! this will be easy for you until you know basic arithmetic symbols like +, -, /, * etc.\n",
        "\n",
        "\n",
        "<p style='text-align: right;'> 1 + 7 = 8 points </p>\n"
      ],
      "metadata": {
        "id": "s7I8ndJiOnmy"
      }
    },
    {
      "cell_type": "code",
      "source": [
        "#4 Operators\n",
        "a=YouTubeVideo('https://www.youtube.com/watch?v=kj-UnITecRE&list=PLsR_0x6BuM-HJZT6Xzj-088N4hN3KsDME&index=10',width=600,height=300)\n",
        "print(a)"
      ],
      "metadata": {
        "id": "Gty2GGCgRXTF",
        "colab": {
          "base_uri": "https://localhost:8080/"
        },
        "outputId": "378eef3d-93dc-4e86-e910-1e3037700f9d"
      },
      "execution_count": 9,
      "outputs": [
        {
          "output_type": "stream",
          "name": "stdout",
          "text": [
            "<IPython.lib.display.YouTubeVideo object at 0x7f331e979a90>\n"
          ]
        }
      ]
    },
    {
      "cell_type": "code",
      "execution_count": 10,
      "source": [
        "# declare two variables, a = 24, b = 3\n",
        "\n",
        "a =24 # your code here\n",
        "b =3 # your code here\n",
        "print('a = {}, b = {}'.format(a,b))"
      ],
      "outputs": [
        {
          "output_type": "stream",
          "name": "stdout",
          "text": [
            "a = 24, b = 3\n"
          ]
        }
      ],
      "metadata": {
        "id": "GrGEajK2Onmz",
        "colab": {
          "base_uri": "https://localhost:8080/"
        },
        "outputId": "8b4a573e-1872-4105-b8ef-829ed520af0d"
      }
    },
    {
      "cell_type": "code",
      "execution_count": 11,
      "source": [
        "print(a+b)"
      ],
      "outputs": [
        {
          "output_type": "stream",
          "name": "stdout",
          "text": [
            "27\n"
          ]
        }
      ],
      "metadata": {
        "id": "diniCQx5Onm0",
        "colab": {
          "base_uri": "https://localhost:8080/"
        },
        "outputId": "f0b90ad7-75ea-457b-b4d0-846b8fa00348"
      }
    },
    {
      "cell_type": "code",
      "execution_count": 12,
      "source": [
        "# calculate and print all the possible numerical operations on a and b (There are total 7 operations)\n",
        "# You can use string formatting to get the exact output like ours.\n",
        "# hint: print(\"a + b = {}\".format(a+b))\n",
        "print(\"a+b={}\",format(a-b))"
      ],
      "outputs": [
        {
          "output_type": "stream",
          "name": "stdout",
          "text": [
            "a+b={} 21\n"
          ]
        }
      ],
      "metadata": {
        "id": "N_GYfccYOnm0",
        "colab": {
          "base_uri": "https://localhost:8080/"
        },
        "outputId": "677dc685-e031-4cfd-9696-755a34bb9d2f"
      }
    },
    {
      "cell_type": "markdown",
      "source": [
        "## Math Functions"
      ],
      "metadata": {
        "id": "SnON_Kw9Onm1"
      }
    },
    {
      "cell_type": "markdown",
      "source": [
        "Lets do some simple mathematical operations by using math module. Math module contains various mathematical functions. So here we go!\n",
        "\n",
        "Additional Reference:- https://youtu.be/gktjNyV0xks\n",
        "\n",
        "Reference document: https://docs.python.org/3/library/math.html\n",
        "<p style='text-align: right;'> 10 points </p>\n",
        "\n",
        "\n"
      ],
      "metadata": {
        "id": "1hTzZGrsOnm2"
      }
    },
    {
      "cell_type": "code",
      "execution_count": 13,
      "source": [
        "import math"
      ],
      "outputs": [],
      "metadata": {
        "id": "Y3odgoqgOnm2"
      }
    },
    {
      "cell_type": "code",
      "execution_count": 19,
      "source": [
        "# declare a variable x = 2 and y=5.32167\n",
        "x=2\n",
        "y=5.32167"
      ],
      "outputs": [],
      "metadata": {
        "id": "vVALGHwCOnm3"
      }
    },
    {
      "cell_type": "code",
      "execution_count": null,
      "source": [
        "# Print the maximum value between x and y\n",
        "max(x,y)"
      ],
      "outputs": [],
      "metadata": {
        "id": "h9xFqnF7Onm3"
      }
    },
    {
      "cell_type": "code",
      "execution_count": null,
      "source": [
        "# Print the minimum value between x and y\n",
        "min(x,y)"
      ],
      "outputs": [],
      "metadata": {
        "id": "Ek-Wrhb6Onm3"
      }
    },
    {
      "cell_type": "code",
      "execution_count": 20,
      "source": [
        "# Print square and cube of x and store in a and b variable\n",
        "a=math.sqrt(x)\n",
        "b=(x**3)\n",
        "print(a)\n",
        "print(b)"
      ],
      "outputs": [
        {
          "output_type": "stream",
          "name": "stdout",
          "text": [
            "1.4142135623730951\n",
            "8\n"
          ]
        }
      ],
      "metadata": {
        "id": "NHK3kCGAOnm4",
        "colab": {
          "base_uri": "https://localhost:8080/"
        },
        "outputId": "6186284a-4a86-46e6-899a-ee88fb123be2"
      }
    },
    {
      "cell_type": "code",
      "execution_count": 17,
      "source": [
        "#print log of x and store it in variable c\n",
        "c=print(math.log(x))"
      ],
      "outputs": [
        {
          "output_type": "stream",
          "name": "stdout",
          "text": [
            "0.6931471805599453\n"
          ]
        }
      ],
      "metadata": {
        "id": "ARYINv9AOnm4",
        "colab": {
          "base_uri": "https://localhost:8080/"
        },
        "outputId": "041c3449-10fc-44ab-efeb-3aecb1e742ea"
      }
    },
    {
      "cell_type": "code",
      "execution_count": 14,
      "source": [
        ""
      ],
      "outputs": [],
      "metadata": {
        "id": "xGbjPCVfOnm5"
      }
    },
    {
      "cell_type": "code",
      "execution_count": 21,
      "source": [
        "#print maximum value between x,y,a, b and c\n",
        "x=2\n",
        "y=5.32167\n",
        "a=1.4142135623730951\n",
        "b=8\n",
        "c=0.6931471805599453\n",
        "print(max(x,y,a,b,c))"
      ],
      "outputs": [
        {
          "output_type": "stream",
          "name": "stdout",
          "text": [
            "8\n"
          ]
        }
      ],
      "metadata": {
        "id": "Cr2aOwOYOnm5",
        "colab": {
          "base_uri": "https://localhost:8080/"
        },
        "outputId": "d7c3eb8e-bfed-4cfb-874a-c0ce4f7c1138"
      }
    },
    {
      "cell_type": "code",
      "execution_count": 26,
      "source": [
        "\n",
        "#print the largest integer that is smaller than or equal to c. ie.round down\n",
        "\n",
        "\n",
        "\n",
        "print(math.floor(c))"
      ],
      "outputs": [
        {
          "output_type": "stream",
          "name": "stdout",
          "text": [
            "0\n"
          ]
        }
      ],
      "metadata": {
        "id": "cdTE9jHJOnm5",
        "colab": {
          "base_uri": "https://localhost:8080/"
        },
        "outputId": "723c2a38-8716-48e3-bc10-98e413a30824"
      }
    },
    {
      "cell_type": "code",
      "execution_count": 27,
      "source": [
        "#print the smallest integer that is greater than or equal to c ie. round up\n",
        "print(math.ceil(c))"
      ],
      "outputs": [
        {
          "output_type": "stream",
          "name": "stdout",
          "text": [
            "1\n"
          ]
        }
      ],
      "metadata": {
        "id": "YuQFq6iTOnm6",
        "colab": {
          "base_uri": "https://localhost:8080/"
        },
        "outputId": "3efab85e-5ae0-4080-b16c-ff6f6e8bd75b"
      }
    },
    {
      "cell_type": "markdown",
      "source": [
        "## Logical operations\n",
        "\n",
        "You must be aware of some logical operations you did in college, like 'and', 'or', 'not' etc. These operations becomes even more easy to implement when you have friend like python.\n",
        "\n",
        "<p style='text-align: right;'> 1 + 1 + 1 + 6 = 9 points </p>\n"
      ],
      "metadata": {
        "id": "7ywGXy77Onm6"
      }
    },
    {
      "cell_type": "code",
      "execution_count": null,
      "source": [
        "# declare two variables, a = True, b = False\n",
        "a = True #your code here\n",
        "b = False#your code here\n",
        "print(a)\n",
        "print(b)\n"
      ],
      "outputs": [],
      "metadata": {
        "id": "qD67cRQJOnm7"
      }
    },
    {
      "cell_type": "code",
      "execution_count": null,
      "source": [
        "# print type of a and type of b\n",
        "print(type(a))\n",
        "print(type(b))"
      ],
      "outputs": [],
      "metadata": {
        "id": "f5Vs8qzjOnm7"
      }
    },
    {
      "cell_type": "markdown",
      "source": [
        "A fun fact for you !\n",
        "The Python Boolean type is one of Python's built-in data types. It's used to represent the truth value of an expression"
      ],
      "metadata": {
        "id": "c3_XIcPkOnm7"
      }
    },
    {
      "cell_type": "code",
      "execution_count": null,
      "source": [
        "# print int(a) and int(b)\n",
        "print(int(a))\n",
        "print(int(b))"
      ],
      "outputs": [],
      "metadata": {
        "id": "lCruZY6_Onm8"
      }
    },
    {
      "cell_type": "markdown",
      "source": [
        "We are sure you must have seen that, values for 'True' is 1 and for 'False' is 0."
      ],
      "metadata": {
        "id": "y2pKlWHBOnm8"
      }
    },
    {
      "cell_type": "code",
      "execution_count": null,
      "source": [
        "# Find and print the values of not a, not b, a and b, a or b, a and not b\n",
        "# Use not operator for not a and not b\n",
        "print(not(a))\n",
        "print(not(b))\n",
        "print(a and b)\n",
        "print(a or b)\n",
        "print(a and not b)"
      ],
      "outputs": [],
      "metadata": {
        "id": "IEuVTnsAOnm8"
      }
    },
    {
      "cell_type": "markdown",
      "source": [
        "We hope you tried to undertand the above output! "
      ],
      "metadata": {
        "id": "TI7-60doOnm9"
      }
    },
    {
      "cell_type": "markdown",
      "source": [
        "## List Comprehensions\n",
        "\n",
        "Hey buddy! Python has really amazing thing called list comprehension. List comprehension offers a shorter syntax when you want to create a new list based on the values of an existing list. Cool right? Let's dive into this more by doing it. \n",
        "\n",
        "<p style='text-align: right;'> 10 + 10 + 10= 30 points </p>\n",
        "\n"
      ],
      "metadata": {
        "id": "Ngtt9xc6Onm9"
      }
    },
    {
      "cell_type": "code",
      "source": [
        "# Comprehension\n",
        "YouTubeVideo=['https://www.youtube.com/watch?v=Cs8wG--s4z4&list=PLsR_0x6BuM-HJZT6Xzj-088N4hN3KsDME&index=17',width=600,height=300]\n",
        "print(YouTubeVide)\n"
      ],
      "metadata": {
        "id": "A7MBHOJVSGFV",
        "colab": {
          "base_uri": "https://localhost:8080/",
          "height": 135
        },
        "outputId": "63ef0292-575c-44f5-9780-e86abed945e5"
      },
      "execution_count": 29,
      "outputs": [
        {
          "output_type": "error",
          "ename": "SyntaxError",
          "evalue": "ignored",
          "traceback": [
            "\u001b[0;36m  File \u001b[0;32m\"<ipython-input-29-577bf0ad2b97>\"\u001b[0;36m, line \u001b[0;32m2\u001b[0m\n\u001b[0;31m    YouTubeVideo=['https://www.youtube.com/watch?v=Cs8wG--s4z4&list=PLsR_0x6BuM-HJZT6Xzj-088N4hN3KsDME&index=17',width=600,height=300]\u001b[0m\n\u001b[0m                                                                                                                      ^\u001b[0m\n\u001b[0;31mSyntaxError\u001b[0m\u001b[0;31m:\u001b[0m invalid syntax\n"
          ]
        }
      ]
    },
    {
      "cell_type": "code",
      "execution_count": null,
      "source": [
        "# Using list comprehension, create a list containing numbers from 1 to 20. \n",
        "# Hint: You can use range function of python to do this.\n",
        "for i in range(1,20):\n",
        "  print(i)"
      ],
      "outputs": [],
      "metadata": {
        "id": "EFQZLhkDOnm9"
      }
    },
    {
      "cell_type": "code",
      "execution_count": null,
      "source": [
        "# Using list comprehension, create a list containing numbers from 1 to 20 that are even\n",
        "a=[ele for ele in range(20) if ele%2==0]\n",
        "print(a)\n"
      ],
      "outputs": [],
      "metadata": {
        "id": "3fZ8aOSyOnm9"
      }
    },
    {
      "cell_type": "markdown",
      "source": [
        "Create a list of all the fruits you like. Using list comprehension, create another list which contains the total number of charachters for each corresponding fruits.\n",
        "- Eg. fruits = [‘apple’,’kiwi’,’orange’], then output would be - [5,4,6]\n"
      ],
      "metadata": {
        "id": "Nom_UZdsOnm-"
      }
    },
    {
      "cell_type": "code",
      "execution_count": null,
      "source": [
        "fruits =['mango','apple','banana','vimal','orange'] # your code here (create a list of your favourite fruits)\n",
        "len_fruits =[5,5,6,5,6] # your code here\n",
        "\n",
        "print(fruits)\n",
        "print(len_fruits)\n"
      ],
      "outputs": [],
      "metadata": {
        "id": "qgTZeieSOnm-"
      }
    },
    {
      "cell_type": "markdown",
      "source": [
        "The above output is shown if fruits = ['apple','kiwi,'orange'], it can vary for different values of fruits\n",
        "\n",
        "Amazing right?\n"
      ],
      "metadata": {
        "id": "EmUChdf-Onm-"
      }
    },
    {
      "cell_type": "markdown",
      "source": [
        "## String value and operators\n",
        "\n",
        "<p style='text-align: right;'> 1 + 1 + 1 + 1 + 1 = 5 points </p>\n"
      ],
      "metadata": {
        "id": "wPzfKH4vOnm_"
      }
    },
    {
      "cell_type": "code",
      "execution_count": null,
      "source": [
        "# string manipulation\n",
        "a=YouTubeVideo('https://www.youtube.com/watch?v=I6UH_prRboE&list=PLsR_0x6BuM-HJZT6Xzj-088N4hN3KsDME&index=9',width=600,height=300)\n",
        "print(a)"
      ],
      "outputs": [],
      "metadata": {
        "id": "JkGT52I9Onm_"
      }
    },
    {
      "cell_type": "markdown",
      "source": [
        "### Characters in strings\n",
        "\n",
        "\n",
        "Reference:- https://www.programiz.com/python-programming/string\n",
        "\n"
      ],
      "metadata": {
        "id": "Ee_vso2gOnm_"
      }
    },
    {
      "cell_type": "code",
      "execution_count": null,
      "source": [
        "# declare the variables x = cat and y = dog and print it\n",
        "x = 'cat' #your code here\n",
        "y ='dog' #your code here\n",
        "\n",
        "print(x)\n",
        "print(y)"
      ],
      "outputs": [],
      "metadata": {
        "id": "3SeJY_uNOnm_"
      }
    },
    {
      "cell_type": "code",
      "execution_count": null,
      "source": [
        "#Print first character of both x and y. \n",
        "print(\"First ch of x:\",x[0])\n",
        "print(\"First ch of y:\",y[0])"
      ],
      "outputs": [],
      "metadata": {
        "id": "J6WM2PYhOnm_"
      }
    },
    {
      "cell_type": "code",
      "execution_count": null,
      "source": [
        "#Print last character of both x and y.\n",
        "print(\"last ch of x:\",x[2])\n",
        "print(\"last ch of y:\",y[2])"
      ],
      "outputs": [],
      "metadata": {
        "id": "T4cyd2QJOnnA"
      }
    },
    {
      "cell_type": "code",
      "execution_count": null,
      "source": [
        "#Print len of both x and y\n",
        "print(\"Length of x is\",len(x))\n",
        "print(\"Length of y is\",len(y))"
      ],
      "outputs": [],
      "metadata": {
        "id": "jWHyH2o7OnnA"
      }
    },
    {
      "cell_type": "code",
      "execution_count": null,
      "source": [
        "#concatenate both x and y and store it in variable z and print z\n",
        "z=x+y\n",
        "print(z)"
      ],
      "outputs": [],
      "metadata": {
        "id": "wcu4u4ZdOnnA"
      }
    },
    {
      "cell_type": "code",
      "execution_count": null,
      "source": [
        "#check if x is part of z \n",
        "x in z"
      ],
      "outputs": [],
      "metadata": {
        "id": "gfbQ0ahAOnnA"
      }
    },
    {
      "cell_type": "markdown",
      "source": [
        "### String slicing\n",
        "\n",
        "\n",
        "\n",
        "Hey coder, do you know? Python slicing is about obtaining a sub-string from the given string by slicing it respectively from start to end\n",
        "\n",
        "So be ready to implement it today!\n",
        "<p style='text-align: right;'> 2 points </p>"
      ],
      "metadata": {
        "id": "lVchUi7YOnnB"
      }
    },
    {
      "cell_type": "code",
      "execution_count": null,
      "source": [
        "#Create variable a = “pineapple”\n",
        "a =\"pineapple\" # your code here\n",
        "print(a)"
      ],
      "outputs": [],
      "metadata": {
        "id": "VPiDEDDTOnnB"
      }
    },
    {
      "cell_type": "code",
      "execution_count": null,
      "source": [
        "# Using index slicing, print the words ‘pine’ and “apple”.\n",
        "# HINT - a[:]\n",
        "a[0:3]\n",
        "a[ 4:9 ]"
      ],
      "outputs": [],
      "metadata": {
        "id": "eCNFSjIROnnB"
      }
    },
    {
      "cell_type": "code",
      "execution_count": null,
      "source": [
        "#Convert a into upper case\n",
        "a.upper()"
      ],
      "outputs": [],
      "metadata": {
        "id": "Z6881zT0OnnB"
      }
    },
    {
      "cell_type": "markdown",
      "source": [
        "## Dealing with Sentences\n",
        "\n",
        "<p style='text-align: right;'> 1+1+1+1+1+1 = 6 points </p>\n"
      ],
      "metadata": {
        "id": "mEw9dmM2OnnC"
      }
    },
    {
      "cell_type": "code",
      "execution_count": null,
      "source": [
        "# Declare a sentence of ‘I am flying to London’ and print it\n",
        "a='I am flying to London'\n",
        "print(a)"
      ],
      "outputs": [],
      "metadata": {
        "id": "O-eulzDKOnnC"
      }
    },
    {
      "cell_type": "code",
      "execution_count": null,
      "source": [
        "#Print length of the sentence\n",
        "print(len(a))"
      ],
      "outputs": [],
      "metadata": {
        "id": "6YqhY71aOnnC"
      }
    },
    {
      "cell_type": "code",
      "execution_count": null,
      "source": [
        "#Using list indexing, to print the word London\n",
        "a[15:21]"
      ],
      "outputs": [],
      "metadata": {
        "id": "ueh0avBIOnnC"
      }
    },
    {
      "cell_type": "code",
      "execution_count": null,
      "source": [
        "# Use .split to get list of individual words in the sentence\n",
        "a.split()"
      ],
      "outputs": [],
      "metadata": {
        "id": "XxWpC9-pOnnC"
      }
    },
    {
      "cell_type": "code",
      "execution_count": null,
      "source": [
        "# Convert sentence in lower case \n",
        "a.lower()"
      ],
      "outputs": [],
      "metadata": {
        "id": "cv-iS9BrOnnD"
      }
    },
    {
      "cell_type": "code",
      "execution_count": null,
      "source": [
        "# Convert sentence in upper case .\n",
        "a.upper()"
      ],
      "outputs": [],
      "metadata": {
        "id": "Qv4XhFETOnnD"
      }
    },
    {
      "cell_type": "markdown",
      "source": [
        "Great job! Slicing is fun."
      ],
      "metadata": {
        "id": "Wz53Tr8YOnnD"
      }
    },
    {
      "cell_type": "markdown",
      "source": [
        "## Functions\n",
        "\n",
        "Declare a function named square, which takes an input as x, and returns the square of x.\n",
        "\n",
        "<p style='text-align: right;'> 5 + 3 = 8 points </p>\n"
      ],
      "metadata": {
        "id": "EpMEG_R3OnnE"
      }
    },
    {
      "cell_type": "code",
      "execution_count": null,
      "source": [
        "# Functions-1\n",
        "a= YouTubeVideo('https://www.youtube.com/watch?v=cjtAbp-Ux-w&list=PLsR_0x6BuM-HJZT6Xzj-088N4hN3KsDME&index=15',width=600,height=300)\n",
        "print(a)"
      ],
      "outputs": [],
      "metadata": {
        "id": "xrJ-Nmq7OnnE"
      }
    },
    {
      "cell_type": "code",
      "source": [
        "# Function-2\n",
        "a=YouTubeVideo('https://www.youtube.com/watch?v=cjtAbp-Ux-w&list=PLsR_0x6BuM-HJZT6Xzj-088N4hN3KsDME&index=16',width=600,height=300)\n",
        "print(a)"
      ],
      "metadata": {
        "id": "LPGhSZf_S9JU"
      },
      "execution_count": null,
      "outputs": []
    },
    {
      "cell_type": "markdown",
      "source": [
        "Call the function to find the value of square of 9."
      ],
      "metadata": {
        "id": "KX4y0IHVOnnE"
      }
    },
    {
      "cell_type": "code",
      "execution_count": 38,
      "source": [
        "# find the square of 9 using the function square you have just created.\n",
        "x=9\n",
        "def square(x):\n",
        "  x=9\n",
        "print(x*9)\n",
        "\n",
        "\n",
        "    # find the square of 9 using the function square you have just created."
      ],
      "outputs": [
        {
          "output_type": "stream",
          "name": "stdout",
          "text": [
            "81\n"
          ]
        }
      ],
      "metadata": {
        "id": "ms2A-A15OnnE",
        "colab": {
          "base_uri": "https://localhost:8080/"
        },
        "outputId": "a47c3aa1-fa57-4fe6-cf6e-c4ca61740ed4"
      }
    },
    {
      "cell_type": "markdown",
      "source": [
        "Wohoo! see, defining function was simple"
      ],
      "metadata": {
        "id": "ehBLnbH-OnnE"
      }
    },
    {
      "cell_type": "markdown",
      "source": [
        "#### Define another function which checks whether a given is number is odd or even for a given input and it should print whether the  number is odd or even as an output\n",
        "<p style='text-align: right;'> 5 + 3 = 8 points </p>\n"
      ],
      "metadata": {
        "id": "h01u89J0OnnF"
      }
    },
    {
      "cell_type": "code",
      "execution_count": 37,
      "source": [
        "# your code here\n",
        "num=int(input(\"Enter number:\"))\n",
        "def display(num):\n",
        "  if num%2==0:\n",
        "    print(\"Even\")\n",
        "  else:\n",
        "    print(\"odd\")\n",
        "obj=display(num)"
      ],
      "outputs": [
        {
          "output_type": "stream",
          "name": "stdout",
          "text": [
            "Enter number:2\n",
            "Even\n"
          ]
        }
      ],
      "metadata": {
        "id": "MNVuqrmgOnnF",
        "colab": {
          "base_uri": "https://localhost:8080/"
        },
        "outputId": "094fd46a-5f0d-4889-dc71-3e34f463c56a"
      }
    },
    {
      "cell_type": "markdown",
      "source": [
        "Hey smarty! lets use both the functions together to check whether the square of 3,6 and 21 are odd or even.\n"
      ],
      "metadata": {
        "id": "PH7VEP8eOnnF"
      }
    },
    {
      "cell_type": "code",
      "execution_count": 40,
      "source": [
        " # your code here\n",
        "num=int(input(\"Enter number:\"))\n",
        "def square(num):\n",
        "    \n",
        "    if num%2==0:\n",
        "        print(\" even\")\n",
        "    else:\n",
        "        print(\"odd\")\n",
        "print(num*num)\n",
        "obj=square(num)\n"
      ],
      "outputs": [
        {
          "output_type": "stream",
          "name": "stdout",
          "text": [
            "Enter number:3\n",
            "9\n",
            "odd\n"
          ]
        }
      ],
      "metadata": {
        "id": "lhFMpKfHOnnF",
        "colab": {
          "base_uri": "https://localhost:8080/"
        },
        "outputId": "444e578f-cc40-4695-854e-9bf38a3cc722"
      }
    },
    {
      "cell_type": "markdown",
      "source": [
        "hey hey! You did a great code. Did you see the benefit of using functions"
      ],
      "metadata": {
        "id": "aSnw4vEHOnnF"
      }
    },
    {
      "cell_type": "markdown",
      "source": [
        "# Loops and Iterations"
      ],
      "metadata": {
        "id": "7TThdIkzOnnG"
      }
    },
    {
      "cell_type": "markdown",
      "source": [
        "## If statement\n",
        "\n",
        "<p style='text-align: right;'> 1 + 2 + 3 = 6 points </p>\n"
      ],
      "metadata": {
        "id": "MyKf8rF1OnnG"
      }
    },
    {
      "cell_type": "code",
      "source": [
        "# conditions\n",
        "a=YouTubeVideo('https://www.youtube.com/watch?v=CLqw5KZZ8Dg&list=PLsR_0x6BuM-HJZT6Xzj-088N4hN3KsDME&index=11',width=600,height=300)\n",
        "print(a)"
      ],
      "metadata": {
        "id": "8jLCzSQ9Tafb",
        "colab": {
          "base_uri": "https://localhost:8080/"
        },
        "outputId": "c8d2f1b1-8cf4-44b6-e973-e316e343361a"
      },
      "execution_count": 30,
      "outputs": [
        {
          "output_type": "stream",
          "name": "stdout",
          "text": [
            "<IPython.lib.display.YouTubeVideo object at 0x7f331d4ee050>\n"
          ]
        }
      ]
    },
    {
      "cell_type": "code",
      "execution_count": null,
      "source": [
        "#Declare a variable x equal to a number of your choice.\n",
        "#your code here\n",
        "x = 5 # add a number of your choice (mine is 3 :) )\n",
        "print(x)"
      ],
      "outputs": [],
      "metadata": {
        "id": "3srU1iT1OnnG"
      }
    },
    {
      "cell_type": "code",
      "execution_count": 41,
      "source": [
        "#Using an if statement, print whether x is zero, positive or negative.\n",
        "if x!=0:\n",
        "  print(\"Positive\")\n",
        "else:\n",
        "  print(\"negative\")"
      ],
      "outputs": [
        {
          "output_type": "stream",
          "name": "stdout",
          "text": [
            "Positive\n"
          ]
        }
      ],
      "metadata": {
        "id": "qjbO3dNLOnnH",
        "colab": {
          "base_uri": "https://localhost:8080/"
        },
        "outputId": "a731b231-ac01-4b8a-e982-71e4ab4fc265"
      }
    },
    {
      "cell_type": "code",
      "execution_count": 43,
      "source": [
        "# Now Define a function, which takes input from the user and prints whether the given input is zero,positive or negative.\n",
        "check_num=int(input(\"Enter a number:\"))\n",
        "def display(): \n",
        "    if check_num >=0:\n",
        "       print(\"postive\")\n",
        "    elif check_num<=0:\n",
        "       print(\"negative\")\n",
        "    else:\n",
        "        print(\"Zero\")\n",
        "obj=display()\n",
        "\n"
      ],
      "outputs": [
        {
          "output_type": "stream",
          "name": "stdout",
          "text": [
            "Enter a number:-6\n",
            "negative\n"
          ]
        }
      ],
      "metadata": {
        "id": "Qje0Z0zLOnnH",
        "colab": {
          "base_uri": "https://localhost:8080/"
        },
        "outputId": "58c9c363-8920-4de5-b886-598efae2201f"
      }
    },
    {
      "cell_type": "markdown",
      "source": [
        "## For loop"
      ],
      "metadata": {
        "id": "8QnzejuHOnnH"
      }
    },
    {
      "cell_type": "markdown",
      "source": [
        "<p style='text-align: right;'> 2 points </p>\n"
      ],
      "metadata": {
        "id": "Nh3IHYqNOnnH"
      }
    },
    {
      "cell_type": "code",
      "source": [
        "# Loops\n",
        "A=YouTubeVideo('https://www.youtube.com/watch?v=56-IOucIwAU&list=PLsR_0x6BuM-HJZT6Xzj-088N4hN3KsDME&index=12',width=600,height=300)\n",
        "print(a)"
      ],
      "metadata": {
        "id": "5iohidqhTzVZ"
      },
      "execution_count": null,
      "outputs": []
    },
    {
      "cell_type": "code",
      "execution_count": null,
      "source": [
        "#Create a list x, such that it contains the elements - ‘India’, ‘Israel’,’Canada’.\n",
        "x=['India','Israel','canada']\n"
      ],
      "outputs": [],
      "metadata": {
        "id": "50nOGOuqOnnI"
      }
    },
    {
      "cell_type": "code",
      "execution_count": null,
      "source": [
        "#Using For loop, iterate over the list and print the elements.\n",
        "for ele in (x):\n",
        "  print(ele)"
      ],
      "outputs": [],
      "metadata": {
        "id": "VxfS6YKYOnnI"
      }
    },
    {
      "cell_type": "markdown",
      "source": [
        "<p style='text-align: right;'> 2 points </p>\n"
      ],
      "metadata": {
        "id": "jz61jhLlOnnI"
      }
    },
    {
      "cell_type": "code",
      "execution_count": null,
      "source": [
        "# Using For loop, print the table of 2.\n",
        "num=2\n",
        "for i in range(1,11):\n",
        "    print(num, 'x',i ,'=', num*i)\n",
        "    "
      ],
      "outputs": [],
      "metadata": {
        "id": "mvqvf7OAOnnI"
      }
    },
    {
      "cell_type": "markdown",
      "source": [
        "For a given list, x = [21, ‘hello,’cream’, 20,19,’village’], using for loop to iterate over the items and using - if statement print the items that are of type int"
      ],
      "metadata": {
        "id": "yg4SzR4oOnnI"
      }
    },
    {
      "cell_type": "code",
      "execution_count": 44,
      "source": [
        "#code here\n",
        "# hint: use if type(i) == int: condition to print variable which are of int type\n",
        "x=[21,'hello','cream',20,19,'village']\n",
        "for i in x:\n",
        "   if type(i)==int:\n",
        "    print(i)\n",
        "    "
      ],
      "outputs": [
        {
          "output_type": "error",
          "ename": "NameError",
          "evalue": "ignored",
          "traceback": [
            "\u001b[0;31m---------------------------------------------------------------------------\u001b[0m",
            "\u001b[0;31mNameError\u001b[0m                                 Traceback (most recent call last)",
            "\u001b[0;32m<ipython-input-44-099f0c2951a1>\u001b[0m in \u001b[0;36m<module>\u001b[0;34m()\u001b[0m\n\u001b[1;32m      2\u001b[0m \u001b[0;31m# hint: use if type(i) == int: condition to print variable which are of int type\u001b[0m\u001b[0;34m\u001b[0m\u001b[0;34m\u001b[0m\u001b[0;34m\u001b[0m\u001b[0m\n\u001b[1;32m      3\u001b[0m \u001b[0mx\u001b[0m\u001b[0;34m=\u001b[0m\u001b[0;34m[\u001b[0m\u001b[0;36m21\u001b[0m\u001b[0;34m,\u001b[0m\u001b[0;34m'hello'\u001b[0m\u001b[0;34m,\u001b[0m\u001b[0;34m'cream'\u001b[0m\u001b[0;34m,\u001b[0m\u001b[0;36m20\u001b[0m\u001b[0;34m,\u001b[0m\u001b[0;36m19\u001b[0m\u001b[0;34m,\u001b[0m\u001b[0;34m'village'\u001b[0m\u001b[0;34m]\u001b[0m\u001b[0;34m\u001b[0m\u001b[0;34m\u001b[0m\u001b[0m\n\u001b[0;32m----> 4\u001b[0;31m \u001b[0;32mif\u001b[0m \u001b[0mtype\u001b[0m\u001b[0;34m(\u001b[0m\u001b[0mi\u001b[0m\u001b[0;34m)\u001b[0m\u001b[0;34m==\u001b[0m\u001b[0mint\u001b[0m\u001b[0;34m:\u001b[0m\u001b[0;34m\u001b[0m\u001b[0;34m\u001b[0m\u001b[0m\n\u001b[0m\u001b[1;32m      5\u001b[0m   \u001b[0mprint\u001b[0m\u001b[0;34m(\u001b[0m\u001b[0mx\u001b[0m\u001b[0;34m)\u001b[0m\u001b[0;34m\u001b[0m\u001b[0;34m\u001b[0m\u001b[0m\n",
            "\u001b[0;31mNameError\u001b[0m: name 'i' is not defined"
          ]
        }
      ],
      "metadata": {
        "id": "05SkQO3COnnJ",
        "colab": {
          "base_uri": "https://localhost:8080/",
          "height": 226
        },
        "outputId": "8abb6c42-85a7-422b-8dd0-14f50c298ad6"
      }
    },
    {
      "cell_type": "markdown",
      "source": [
        "Using For loop, lets create a pattern. "
      ],
      "metadata": {
        "id": "ab7bEu3xOnnJ"
      }
    },
    {
      "cell_type": "markdown",
      "source": [
        "<p style='text-align: right;'> 10 points </p>\n"
      ],
      "metadata": {
        "id": "2KNZFi5zOnnJ"
      }
    },
    {
      "cell_type": "code",
      "execution_count": null,
      "source": [
        "# print the following pattern\n",
        "for i in list():\n",
        "  print()"
      ],
      "outputs": [],
      "metadata": {
        "id": "kOZsmIiLOnnJ"
      }
    },
    {
      "cell_type": "markdown",
      "source": [
        "## While loop"
      ],
      "metadata": {
        "id": "1WYgQq4AOnnJ"
      }
    },
    {
      "cell_type": "markdown",
      "source": [
        "- Using while loop make a function that prints all the values between 1 to n. "
      ],
      "metadata": {
        "id": "jyjME3nPOnnK"
      }
    },
    {
      "cell_type": "markdown",
      "source": [
        "<p style='text-align: right;'> 10 points </p>\n"
      ],
      "metadata": {
        "id": "xbJ4Cz9gOnnK"
      }
    },
    {
      "cell_type": "code",
      "execution_count": null,
      "source": [
        "\n",
        "def count(n):\n",
        "    i=0\n",
        "    while i<n:\n",
        "        print(i)\n",
        "        i=i+1\n",
        "    \n",
        "n=int(input(\"Enter a number\"))\n",
        "count(n)  \n",
        "   "
      ],
      "outputs": [],
      "metadata": {
        "id": "2k9Aij8_OnnK"
      }
    },
    {
      "cell_type": "code",
      "execution_count": null,
      "source": [
        " def counter(n):\n",
        "    i=0\n",
        "    while i<n:\n",
        "        print(i)\n",
        "        i=i+1\n",
        " counter(10) #this should print numbers from 1 to 10\n",
        " \n",
        "   "
      ],
      "outputs": [],
      "metadata": {
        "id": "qd1VznT2OnnK"
      }
    },
    {
      "cell_type": "markdown",
      "source": [
        "### Write the code for the following, what is the output obtained?\n",
        "- Set a variable flag = True, num = 5\n",
        "- Run a while loop till flag = True\n",
        "- Inside the while loop - \n",
        "    - Increment the value of num by 5\n",
        "    - If value of num is greater then 50, set flag to be False"
      ],
      "metadata": {
        "id": "kKB5qVCxOnnL"
      }
    },
    {
      "cell_type": "code",
      "execution_count": 1,
      "source": [
        "# your code here\n",
        "flag=True\n",
        "num=5\n",
        "while num>=50:\n",
        "  print(num)\n",
        "  num=num+5"
      ],
      "outputs": [],
      "metadata": {
        "id": "RsCW8__JOnnM"
      }
    },
    {
      "cell_type": "markdown",
      "source": [
        "Awsesome! Great job so far. Hope you fell in love with python now."
      ],
      "metadata": {
        "id": "sQxbS2kzOnnM"
      }
    },
    {
      "cell_type": "markdown",
      "source": [
        "----------------------------------------------------------------------"
      ],
      "metadata": {
        "id": "zroTaOSLOnnN"
      }
    },
    {
      "cell_type": "markdown",
      "source": [
        "# Smile, you completed the first milestone :)!! "
      ],
      "metadata": {
        "id": "4ibh00DQOnnN"
      }
    },
    {
      "cell_type": "markdown",
      "source": [
        "# Its Feedback Time!\n",
        "\n",
        "We hope you’ve enjoyed this course so far. We’re committed to help you use \"AI for All\" course to its full potential, so that you have a great learning experience. And that’s why we need your help in form of a feedback here.\n",
        "\n",
        "**Please fill this feedback form**\n",
        " https://zfrmz.in/MtRG5oWXBdesm6rmSM7N\n",
        " \n",
        "-------------------------------------\n",
        " "
      ],
      "metadata": {
        "id": "erddMO8yOnnN"
      }
    }
  ],
  "metadata": {
    "kernelspec": {
      "name": "python3",
      "display_name": "Python 3.7.7 64-bit ('base': conda)"
    },
    "language_info": {
      "codemirror_mode": {
        "name": "ipython",
        "version": 3
      },
      "file_extension": ".py",
      "mimetype": "text/x-python",
      "name": "python",
      "nbconvert_exporter": "python",
      "pygments_lexer": "ipython3",
      "version": "3.7.7"
    },
    "interpreter": {
      "hash": "fb2d3f2a20add04007a107bc483b4e625069f7acb60837d887d77da2f0eec5b6"
    },
    "colab": {
      "name": "(Updated)Python_Basics_withLinks_noCode.ipynb",
      "provenance": [],
      "collapsed_sections": []
    }
  },
  "nbformat": 4,
  "nbformat_minor": 0
}