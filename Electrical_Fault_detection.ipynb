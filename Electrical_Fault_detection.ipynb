{
  "cells": [
    {
      "cell_type": "markdown",
      "metadata": {
        "id": "W3EatTY4VQ4S"
      },
      "source": [
        "# Electrical Fault detection"
      ]
    },
    {
      "cell_type": "markdown",
      "metadata": {
        "id": "yOPnc8tVVg_a"
      },
      "source": [
        "We have to predict faults in a power system."
      ]
    },
    {
      "cell_type": "markdown",
      "metadata": {
        "id": "DYUvjaFqVtKh"
      },
      "source": [
        "# Dataset Desciption\n",
        "\n",
        "The dataset contains one file \n",
        "\n",
        "detect_dataset.csv\n",
        "\n",
        "shape of the dataset is (12001, 9)\n",
        "\n",
        "# Columns in dataset\n",
        "\n",
        "there are seven columns\n",
        "\n",
        "'Output (S)',\n",
        "\n",
        "'Ia',\n",
        "\n",
        "'Ib',\n",
        "\n",
        "'Ic',\n",
        "\n",
        "'Va', \n",
        "\n",
        "'Vb', \n",
        "\n",
        "'Vc', \n",
        "\n",
        "'Unnamed: 7',\n",
        "\n",
        "'Unnamed: 8'\n",
        "\n",
        "Outputs - 0 (No-fault) or 1(Fault is present)"
      ]
    },
    {
      "cell_type": "code",
      "execution_count": 105,
      "metadata": {
        "id": "onJmI6AzieJL"
      },
      "outputs": [],
      "source": [
        "# Importing Necessary Libraries\n",
        "import  pandas as pd\n",
        "import numpy as np\n",
        "import matplotlib.pyplot as plt\n",
        "import seaborn as sns\n",
        "import warnings\n",
        "warnings.filterwarnings(\"ignore\")"
      ]
    },
    {
      "cell_type": "code",
      "execution_count": 106,
      "metadata": {
        "colab": {
          "base_uri": "https://localhost:8080/",
          "resources": {
            "http://localhost:8080/nbextensions/google.colab/files.js": {
              "data": "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",
              "ok": true,
              "headers": [
                [
                  "content-type",
                  "application/javascript"
                ]
              ],
              "status": 200,
              "status_text": ""
            }
          },
          "height": 73
        },
        "id": "iLNjmv7vlvNp",
        "outputId": "428d5c2c-7d7c-498f-b3ab-dd3cd6a12329"
      },
      "outputs": [
        {
          "output_type": "display_data",
          "data": {
            "text/plain": [
              "<IPython.core.display.HTML object>"
            ],
            "text/html": [
              "\n",
              "     <input type=\"file\" id=\"files-ac16dded-6b65-4479-b974-edd291663ceb\" name=\"files[]\" multiple disabled\n",
              "        style=\"border:none\" />\n",
              "     <output id=\"result-ac16dded-6b65-4479-b974-edd291663ceb\">\n",
              "      Upload widget is only available when the cell has been executed in the\n",
              "      current browser session. Please rerun this cell to enable.\n",
              "      </output>\n",
              "      <script src=\"/nbextensions/google.colab/files.js\"></script> "
            ]
          },
          "metadata": {}
        },
        {
          "output_type": "stream",
          "name": "stdout",
          "text": [
            "Saving detect_dataset.csv to detect_dataset (1).csv\n"
          ]
        }
      ],
      "source": [
        "from google.colab import files\n",
        " \n",
        " \n",
        "uploaded = files.upload()\n"
      ]
    },
    {
      "cell_type": "code",
      "execution_count": 107,
      "metadata": {
        "id": "t3U0ef3llvMd"
      },
      "outputs": [],
      "source": [
        "# Read csv file using pandas\n",
        "data=pd.read_csv('detect_dataset.csv')"
      ]
    },
    {
      "cell_type": "code",
      "execution_count": 108,
      "metadata": {
        "colab": {
          "base_uri": "https://localhost:8080/",
          "height": 206
        },
        "id": "yckoKHYilvJT",
        "outputId": "38e11f7d-6d0c-43de-8c1b-33cd4a0baa2c"
      },
      "outputs": [
        {
          "output_type": "execute_result",
          "data": {
            "text/plain": [
              "<pandas.io.formats.style.Styler at 0x7f6e1c845910>"
            ],
            "text/html": [
              "<style type=\"text/css\">\n",
              "#T_01b28_row0_col0, #T_01b28_row0_col1, #T_01b28_row0_col4, #T_01b28_row0_col5, #T_01b28_row1_col0, #T_01b28_row2_col0, #T_01b28_row3_col0, #T_01b28_row4_col0, #T_01b28_row4_col2, #T_01b28_row4_col3, #T_01b28_row4_col6 {\n",
              "  background-color: #0000ff;\n",
              "  color: #f1f1f1;\n",
              "}\n",
              "#T_01b28_row0_col2, #T_01b28_row0_col3, #T_01b28_row0_col6, #T_01b28_row4_col1, #T_01b28_row4_col4, #T_01b28_row4_col5 {\n",
              "  background-color: #00ff80;\n",
              "  color: #000000;\n",
              "}\n",
              "#T_01b28_row0_col7, #T_01b28_row0_col8, #T_01b28_row1_col7, #T_01b28_row1_col8, #T_01b28_row2_col7, #T_01b28_row2_col8, #T_01b28_row3_col7, #T_01b28_row3_col8, #T_01b28_row4_col7, #T_01b28_row4_col8 {\n",
              "  background-color: #000000;\n",
              "  color: #f1f1f1;\n",
              "}\n",
              "#T_01b28_row1_col1 {\n",
              "  background-color: #0073c6;\n",
              "  color: #f1f1f1;\n",
              "}\n",
              "#T_01b28_row1_col2 {\n",
              "  background-color: #00a5ac;\n",
              "  color: #f1f1f1;\n",
              "}\n",
              "#T_01b28_row1_col3 {\n",
              "  background-color: #0089bb;\n",
              "  color: #f1f1f1;\n",
              "}\n",
              "#T_01b28_row1_col4 {\n",
              "  background-color: #0060cf;\n",
              "  color: #f1f1f1;\n",
              "}\n",
              "#T_01b28_row1_col5 {\n",
              "  background-color: #0075c4;\n",
              "  color: #f1f1f1;\n",
              "}\n",
              "#T_01b28_row1_col6 {\n",
              "  background-color: #0097b3;\n",
              "  color: #f1f1f1;\n",
              "}\n",
              "#T_01b28_row2_col1 {\n",
              "  background-color: #00c09f;\n",
              "  color: #f1f1f1;\n",
              "}\n",
              "#T_01b28_row2_col2 {\n",
              "  background-color: #005fd0;\n",
              "  color: #f1f1f1;\n",
              "}\n",
              "#T_01b28_row2_col3 {\n",
              "  background-color: #003ce1;\n",
              "  color: #f1f1f1;\n",
              "}\n",
              "#T_01b28_row2_col4 {\n",
              "  background-color: #00afa8;\n",
              "  color: #f1f1f1;\n",
              "}\n",
              "#T_01b28_row2_col5 {\n",
              "  background-color: #00cc99;\n",
              "  color: #000000;\n",
              "}\n",
              "#T_01b28_row2_col6 {\n",
              "  background-color: #0046dc;\n",
              "  color: #f1f1f1;\n",
              "}\n",
              "#T_01b28_row3_col1 {\n",
              "  background-color: #00d992;\n",
              "  color: #000000;\n",
              "}\n",
              "#T_01b28_row3_col2 {\n",
              "  background-color: #0035e4;\n",
              "  color: #f1f1f1;\n",
              "}\n",
              "#T_01b28_row3_col3 {\n",
              "  background-color: #0025ec;\n",
              "  color: #f1f1f1;\n",
              "}\n",
              "#T_01b28_row3_col4 {\n",
              "  background-color: #00ce98;\n",
              "  color: #000000;\n",
              "}\n",
              "#T_01b28_row3_col5 {\n",
              "  background-color: #00d793;\n",
              "  color: #000000;\n",
              "}\n",
              "#T_01b28_row3_col6 {\n",
              "  background-color: #002de8;\n",
              "  color: #f1f1f1;\n",
              "}\n",
              "</style>\n",
              "<table id=\"T_01b28_\" class=\"dataframe\">\n",
              "  <thead>\n",
              "    <tr>\n",
              "      <th class=\"blank level0\" >&nbsp;</th>\n",
              "      <th class=\"col_heading level0 col0\" >Output (S)</th>\n",
              "      <th class=\"col_heading level0 col1\" >Ia</th>\n",
              "      <th class=\"col_heading level0 col2\" >Ib</th>\n",
              "      <th class=\"col_heading level0 col3\" >Ic</th>\n",
              "      <th class=\"col_heading level0 col4\" >Va</th>\n",
              "      <th class=\"col_heading level0 col5\" >Vb</th>\n",
              "      <th class=\"col_heading level0 col6\" >Vc</th>\n",
              "      <th class=\"col_heading level0 col7\" >Unnamed: 7</th>\n",
              "      <th class=\"col_heading level0 col8\" >Unnamed: 8</th>\n",
              "    </tr>\n",
              "  </thead>\n",
              "  <tbody>\n",
              "    <tr>\n",
              "      <th id=\"T_01b28_level0_row0\" class=\"row_heading level0 row0\" >0</th>\n",
              "      <td id=\"T_01b28_row0_col0\" class=\"data row0 col0\" >0</td>\n",
              "      <td id=\"T_01b28_row0_col1\" class=\"data row0 col1\" >-170.472196</td>\n",
              "      <td id=\"T_01b28_row0_col2\" class=\"data row0 col2\" >9.219613</td>\n",
              "      <td id=\"T_01b28_row0_col3\" class=\"data row0 col3\" >161.252583</td>\n",
              "      <td id=\"T_01b28_row0_col4\" class=\"data row0 col4\" >0.054490</td>\n",
              "      <td id=\"T_01b28_row0_col5\" class=\"data row0 col5\" >-0.659921</td>\n",
              "      <td id=\"T_01b28_row0_col6\" class=\"data row0 col6\" >0.605431</td>\n",
              "      <td id=\"T_01b28_row0_col7\" class=\"data row0 col7\" >nan</td>\n",
              "      <td id=\"T_01b28_row0_col8\" class=\"data row0 col8\" >nan</td>\n",
              "    </tr>\n",
              "    <tr>\n",
              "      <th id=\"T_01b28_level0_row1\" class=\"row_heading level0 row1\" >1</th>\n",
              "      <td id=\"T_01b28_row1_col0\" class=\"data row1 col0\" >0</td>\n",
              "      <td id=\"T_01b28_row1_col1\" class=\"data row1 col1\" >-122.235754</td>\n",
              "      <td id=\"T_01b28_row1_col2\" class=\"data row1 col2\" >6.168667</td>\n",
              "      <td id=\"T_01b28_row1_col3\" class=\"data row1 col3\" >116.067087</td>\n",
              "      <td id=\"T_01b28_row1_col4\" class=\"data row1 col4\" >0.102000</td>\n",
              "      <td id=\"T_01b28_row1_col5\" class=\"data row1 col5\" >-0.628612</td>\n",
              "      <td id=\"T_01b28_row1_col6\" class=\"data row1 col6\" >0.526202</td>\n",
              "      <td id=\"T_01b28_row1_col7\" class=\"data row1 col7\" >nan</td>\n",
              "      <td id=\"T_01b28_row1_col8\" class=\"data row1 col8\" >nan</td>\n",
              "    </tr>\n",
              "    <tr>\n",
              "      <th id=\"T_01b28_level0_row2\" class=\"row_heading level0 row2\" >2</th>\n",
              "      <td id=\"T_01b28_row2_col0\" class=\"data row2 col0\" >0</td>\n",
              "      <td id=\"T_01b28_row2_col1\" class=\"data row2 col1\" >-90.161474</td>\n",
              "      <td id=\"T_01b28_row2_col2\" class=\"data row2 col2\" >3.813632</td>\n",
              "      <td id=\"T_01b28_row2_col3\" class=\"data row2 col3\" >86.347841</td>\n",
              "      <td id=\"T_01b28_row2_col4\" class=\"data row2 col4\" >0.141026</td>\n",
              "      <td id=\"T_01b28_row2_col5\" class=\"data row2 col5\" >-0.605277</td>\n",
              "      <td id=\"T_01b28_row2_col6\" class=\"data row2 col6\" >0.464251</td>\n",
              "      <td id=\"T_01b28_row2_col7\" class=\"data row2 col7\" >nan</td>\n",
              "      <td id=\"T_01b28_row2_col8\" class=\"data row2 col8\" >nan</td>\n",
              "    </tr>\n",
              "    <tr>\n",
              "      <th id=\"T_01b28_level0_row3\" class=\"row_heading level0 row3\" >3</th>\n",
              "      <td id=\"T_01b28_row3_col0\" class=\"data row3 col0\" >0</td>\n",
              "      <td id=\"T_01b28_row3_col1\" class=\"data row3 col1\" >-79.904916</td>\n",
              "      <td id=\"T_01b28_row3_col2\" class=\"data row3 col2\" >2.398803</td>\n",
              "      <td id=\"T_01b28_row3_col3\" class=\"data row3 col3\" >77.506112</td>\n",
              "      <td id=\"T_01b28_row3_col4\" class=\"data row3 col4\" >0.156272</td>\n",
              "      <td id=\"T_01b28_row3_col5\" class=\"data row3 col5\" >-0.602235</td>\n",
              "      <td id=\"T_01b28_row3_col6\" class=\"data row3 col6\" >0.445963</td>\n",
              "      <td id=\"T_01b28_row3_col7\" class=\"data row3 col7\" >nan</td>\n",
              "      <td id=\"T_01b28_row3_col8\" class=\"data row3 col8\" >nan</td>\n",
              "    </tr>\n",
              "    <tr>\n",
              "      <th id=\"T_01b28_level0_row4\" class=\"row_heading level0 row4\" >4</th>\n",
              "      <td id=\"T_01b28_row4_col0\" class=\"data row4 col0\" >0</td>\n",
              "      <td id=\"T_01b28_row4_col1\" class=\"data row4 col1\" >-63.885255</td>\n",
              "      <td id=\"T_01b28_row4_col2\" class=\"data row4 col2\" >0.590667</td>\n",
              "      <td id=\"T_01b28_row4_col3\" class=\"data row4 col3\" >63.294587</td>\n",
              "      <td id=\"T_01b28_row4_col4\" class=\"data row4 col4\" >0.180451</td>\n",
              "      <td id=\"T_01b28_row4_col5\" class=\"data row4 col5\" >-0.591501</td>\n",
              "      <td id=\"T_01b28_row4_col6\" class=\"data row4 col6\" >0.411050</td>\n",
              "      <td id=\"T_01b28_row4_col7\" class=\"data row4 col7\" >nan</td>\n",
              "      <td id=\"T_01b28_row4_col8\" class=\"data row4 col8\" >nan</td>\n",
              "    </tr>\n",
              "  </tbody>\n",
              "</table>\n"
            ]
          },
          "metadata": {},
          "execution_count": 108
        }
      ],
      "source": [
        "data.head().style.background_gradient(cmap='winter')"
      ]
    },
    {
      "cell_type": "markdown",
      "metadata": {
        "id": "174wyWpVWXHr"
      },
      "source": [
        "# basic EDA"
      ]
    },
    {
      "cell_type": "code",
      "execution_count": 109,
      "metadata": {
        "colab": {
          "base_uri": "https://localhost:8080/"
        },
        "id": "RDwkZbfflvIK",
        "outputId": "7bf98552-6be1-4495-c724-f82433d7eaa8"
      },
      "outputs": [
        {
          "output_type": "execute_result",
          "data": {
            "text/plain": [
              "(12001, 9)"
            ]
          },
          "metadata": {},
          "execution_count": 109
        }
      ],
      "source": [
        "#check shape of the dataset\n",
        "data.shape"
      ]
    },
    {
      "cell_type": "code",
      "execution_count": 110,
      "metadata": {
        "colab": {
          "base_uri": "https://localhost:8080/"
        },
        "id": "7e8t0ue5lvEV",
        "outputId": "4caeaaa0-2af8-4f9f-c94e-6ccfc8d11245"
      },
      "outputs": [
        {
          "output_type": "execute_result",
          "data": {
            "text/plain": [
              "Index(['Output (S)', 'Ia', 'Ib', 'Ic', 'Va', 'Vb', 'Vc', 'Unnamed: 7',\n",
              "       'Unnamed: 8'],\n",
              "      dtype='object')"
            ]
          },
          "metadata": {},
          "execution_count": 110
        }
      ],
      "source": [
        "# check columns of dataset\n",
        "data.columns"
      ]
    },
    {
      "cell_type": "code",
      "execution_count": 111,
      "metadata": {
        "colab": {
          "base_uri": "https://localhost:8080/"
        },
        "id": "qmywjdE5SjwQ",
        "outputId": "e4019ef9-9a6f-494f-e194-36e4392ed761"
      },
      "outputs": [
        {
          "output_type": "stream",
          "name": "stdout",
          "text": [
            "the dataset length : 12001\n"
          ]
        }
      ],
      "source": [
        "# check length of dataset\n",
        "print(\"the dataset length :\",len(data))"
      ]
    },
    {
      "cell_type": "code",
      "execution_count": 112,
      "metadata": {
        "colab": {
          "base_uri": "https://localhost:8080/"
        },
        "id": "1bFLlxnlSgGc",
        "outputId": "b4b19a45-dadb-42d6-9f37-3822ae299357"
      },
      "outputs": [
        {
          "output_type": "stream",
          "name": "stdout",
          "text": [
            "<class 'pandas.core.frame.DataFrame'>\n",
            "RangeIndex: 12001 entries, 0 to 12000\n",
            "Data columns (total 9 columns):\n",
            " #   Column      Non-Null Count  Dtype  \n",
            "---  ------      --------------  -----  \n",
            " 0   Output (S)  12001 non-null  int64  \n",
            " 1   Ia          12001 non-null  float64\n",
            " 2   Ib          12001 non-null  float64\n",
            " 3   Ic          12001 non-null  float64\n",
            " 4   Va          12001 non-null  float64\n",
            " 5   Vb          12001 non-null  float64\n",
            " 6   Vc          12001 non-null  float64\n",
            " 7   Unnamed: 7  0 non-null      float64\n",
            " 8   Unnamed: 8  0 non-null      float64\n",
            "dtypes: float64(8), int64(1)\n",
            "memory usage: 843.9 KB\n"
          ]
        }
      ],
      "source": [
        "# Check which columns are having categorical, numerical or boolean values\n",
        "data.info()"
      ]
    },
    {
      "cell_type": "code",
      "execution_count": 113,
      "metadata": {
        "colab": {
          "base_uri": "https://localhost:8080/",
          "height": 300
        },
        "id": "WEEyYVD_lvDU",
        "outputId": "6a2022dd-aa87-4f26-cee6-a11d2ed5a72b"
      },
      "outputs": [
        {
          "output_type": "execute_result",
          "data": {
            "text/plain": [
              "<pandas.io.formats.style.Styler at 0x7f6e1c851a10>"
            ],
            "text/html": [
              "<style type=\"text/css\">\n",
              "#T_67b0a_row0_col0, #T_67b0a_row0_col1, #T_67b0a_row0_col2, #T_67b0a_row0_col3, #T_67b0a_row0_col4, #T_67b0a_row0_col5, #T_67b0a_row0_col6 {\n",
              "  background-color: #00441b;\n",
              "  color: #f1f1f1;\n",
              "}\n",
              "#T_67b0a_row0_col7, #T_67b0a_row0_col8, #T_67b0a_row1_col0, #T_67b0a_row1_col4, #T_67b0a_row1_col5, #T_67b0a_row1_col6, #T_67b0a_row1_col7, #T_67b0a_row1_col8, #T_67b0a_row2_col0, #T_67b0a_row2_col4, #T_67b0a_row2_col5, #T_67b0a_row2_col6, #T_67b0a_row2_col7, #T_67b0a_row2_col8, #T_67b0a_row3_col0, #T_67b0a_row3_col1, #T_67b0a_row3_col2, #T_67b0a_row3_col3, #T_67b0a_row3_col4, #T_67b0a_row3_col5, #T_67b0a_row3_col6, #T_67b0a_row3_col7, #T_67b0a_row3_col8, #T_67b0a_row4_col0, #T_67b0a_row4_col4, #T_67b0a_row4_col5, #T_67b0a_row4_col6, #T_67b0a_row4_col7, #T_67b0a_row4_col8, #T_67b0a_row5_col0, #T_67b0a_row5_col4, #T_67b0a_row5_col5, #T_67b0a_row5_col6, #T_67b0a_row5_col7, #T_67b0a_row5_col8, #T_67b0a_row6_col0, #T_67b0a_row6_col4, #T_67b0a_row6_col5, #T_67b0a_row6_col6, #T_67b0a_row6_col7, #T_67b0a_row6_col8, #T_67b0a_row7_col0, #T_67b0a_row7_col4, #T_67b0a_row7_col5, #T_67b0a_row7_col6, #T_67b0a_row7_col7, #T_67b0a_row7_col8 {\n",
              "  background-color: #f7fcf5;\n",
              "  color: #000000;\n",
              "}\n",
              "#T_67b0a_row1_col1, #T_67b0a_row1_col2, #T_67b0a_row1_col3, #T_67b0a_row5_col1, #T_67b0a_row5_col2, #T_67b0a_row5_col3 {\n",
              "  background-color: #edf8ea;\n",
              "  color: #000000;\n",
              "}\n",
              "#T_67b0a_row2_col1, #T_67b0a_row2_col2 {\n",
              "  background-color: #e9f7e5;\n",
              "  color: #000000;\n",
              "}\n",
              "#T_67b0a_row2_col3 {\n",
              "  background-color: #eaf7e6;\n",
              "  color: #000000;\n",
              "}\n",
              "#T_67b0a_row4_col1, #T_67b0a_row4_col2, #T_67b0a_row4_col3 {\n",
              "  background-color: #eef8ea;\n",
              "  color: #000000;\n",
              "}\n",
              "#T_67b0a_row6_col1, #T_67b0a_row6_col3 {\n",
              "  background-color: #edf8e9;\n",
              "  color: #000000;\n",
              "}\n",
              "#T_67b0a_row6_col2 {\n",
              "  background-color: #ecf8e8;\n",
              "  color: #000000;\n",
              "}\n",
              "#T_67b0a_row7_col1, #T_67b0a_row7_col2, #T_67b0a_row7_col3 {\n",
              "  background-color: #e2f4dd;\n",
              "  color: #000000;\n",
              "}\n",
              "</style>\n",
              "<table id=\"T_67b0a_\" class=\"dataframe\">\n",
              "  <thead>\n",
              "    <tr>\n",
              "      <th class=\"blank level0\" >&nbsp;</th>\n",
              "      <th class=\"col_heading level0 col0\" >Output (S)</th>\n",
              "      <th class=\"col_heading level0 col1\" >Ia</th>\n",
              "      <th class=\"col_heading level0 col2\" >Ib</th>\n",
              "      <th class=\"col_heading level0 col3\" >Ic</th>\n",
              "      <th class=\"col_heading level0 col4\" >Va</th>\n",
              "      <th class=\"col_heading level0 col5\" >Vb</th>\n",
              "      <th class=\"col_heading level0 col6\" >Vc</th>\n",
              "      <th class=\"col_heading level0 col7\" >Unnamed: 7</th>\n",
              "      <th class=\"col_heading level0 col8\" >Unnamed: 8</th>\n",
              "    </tr>\n",
              "  </thead>\n",
              "  <tbody>\n",
              "    <tr>\n",
              "      <th id=\"T_67b0a_level0_row0\" class=\"row_heading level0 row0\" >count</th>\n",
              "      <td id=\"T_67b0a_row0_col0\" class=\"data row0 col0\" >12001.000000</td>\n",
              "      <td id=\"T_67b0a_row0_col1\" class=\"data row0 col1\" >12001.000000</td>\n",
              "      <td id=\"T_67b0a_row0_col2\" class=\"data row0 col2\" >12001.000000</td>\n",
              "      <td id=\"T_67b0a_row0_col3\" class=\"data row0 col3\" >12001.000000</td>\n",
              "      <td id=\"T_67b0a_row0_col4\" class=\"data row0 col4\" >12001.000000</td>\n",
              "      <td id=\"T_67b0a_row0_col5\" class=\"data row0 col5\" >12001.000000</td>\n",
              "      <td id=\"T_67b0a_row0_col6\" class=\"data row0 col6\" >12001.000000</td>\n",
              "      <td id=\"T_67b0a_row0_col7\" class=\"data row0 col7\" >0.000000</td>\n",
              "      <td id=\"T_67b0a_row0_col8\" class=\"data row0 col8\" >0.000000</td>\n",
              "    </tr>\n",
              "    <tr>\n",
              "      <th id=\"T_67b0a_level0_row1\" class=\"row_heading level0 row1\" >mean</th>\n",
              "      <td id=\"T_67b0a_row1_col0\" class=\"data row1 col0\" >0.457962</td>\n",
              "      <td id=\"T_67b0a_row1_col1\" class=\"data row1 col1\" >6.709369</td>\n",
              "      <td id=\"T_67b0a_row1_col2\" class=\"data row1 col2\" >-26.557793</td>\n",
              "      <td id=\"T_67b0a_row1_col3\" class=\"data row1 col3\" >22.353043</td>\n",
              "      <td id=\"T_67b0a_row1_col4\" class=\"data row1 col4\" >0.010517</td>\n",
              "      <td id=\"T_67b0a_row1_col5\" class=\"data row1 col5\" >-0.015498</td>\n",
              "      <td id=\"T_67b0a_row1_col6\" class=\"data row1 col6\" >0.004980</td>\n",
              "      <td id=\"T_67b0a_row1_col7\" class=\"data row1 col7\" >nan</td>\n",
              "      <td id=\"T_67b0a_row1_col8\" class=\"data row1 col8\" >nan</td>\n",
              "    </tr>\n",
              "    <tr>\n",
              "      <th id=\"T_67b0a_level0_row2\" class=\"row_heading level0 row2\" >std</th>\n",
              "      <td id=\"T_67b0a_row2_col0\" class=\"data row2 col0\" >0.498250</td>\n",
              "      <td id=\"T_67b0a_row2_col1\" class=\"data row2 col1\" >377.158470</td>\n",
              "      <td id=\"T_67b0a_row2_col2\" class=\"data row2 col2\" >357.458613</td>\n",
              "      <td id=\"T_67b0a_row2_col3\" class=\"data row2 col3\" >302.052809</td>\n",
              "      <td id=\"T_67b0a_row2_col4\" class=\"data row2 col4\" >0.346221</td>\n",
              "      <td id=\"T_67b0a_row2_col5\" class=\"data row2 col5\" >0.357644</td>\n",
              "      <td id=\"T_67b0a_row2_col6\" class=\"data row2 col6\" >0.349272</td>\n",
              "      <td id=\"T_67b0a_row2_col7\" class=\"data row2 col7\" >nan</td>\n",
              "      <td id=\"T_67b0a_row2_col8\" class=\"data row2 col8\" >nan</td>\n",
              "    </tr>\n",
              "    <tr>\n",
              "      <th id=\"T_67b0a_level0_row3\" class=\"row_heading level0 row3\" >min</th>\n",
              "      <td id=\"T_67b0a_row3_col0\" class=\"data row3 col0\" >0.000000</td>\n",
              "      <td id=\"T_67b0a_row3_col1\" class=\"data row3 col1\" >-883.542316</td>\n",
              "      <td id=\"T_67b0a_row3_col2\" class=\"data row3 col2\" >-900.526951</td>\n",
              "      <td id=\"T_67b0a_row3_col3\" class=\"data row3 col3\" >-883.357762</td>\n",
              "      <td id=\"T_67b0a_row3_col4\" class=\"data row3 col4\" >-0.620748</td>\n",
              "      <td id=\"T_67b0a_row3_col5\" class=\"data row3 col5\" >-0.659921</td>\n",
              "      <td id=\"T_67b0a_row3_col6\" class=\"data row3 col6\" >-0.612709</td>\n",
              "      <td id=\"T_67b0a_row3_col7\" class=\"data row3 col7\" >nan</td>\n",
              "      <td id=\"T_67b0a_row3_col8\" class=\"data row3 col8\" >nan</td>\n",
              "    </tr>\n",
              "    <tr>\n",
              "      <th id=\"T_67b0a_level0_row4\" class=\"row_heading level0 row4\" >25%</th>\n",
              "      <td id=\"T_67b0a_row4_col0\" class=\"data row4 col0\" >0.000000</td>\n",
              "      <td id=\"T_67b0a_row4_col1\" class=\"data row4 col1\" >-64.348986</td>\n",
              "      <td id=\"T_67b0a_row4_col2\" class=\"data row4 col2\" >-51.421937</td>\n",
              "      <td id=\"T_67b0a_row4_col3\" class=\"data row4 col3\" >-54.562257</td>\n",
              "      <td id=\"T_67b0a_row4_col4\" class=\"data row4 col4\" >-0.237610</td>\n",
              "      <td id=\"T_67b0a_row4_col5\" class=\"data row4 col5\" >-0.313721</td>\n",
              "      <td id=\"T_67b0a_row4_col6\" class=\"data row4 col6\" >-0.278951</td>\n",
              "      <td id=\"T_67b0a_row4_col7\" class=\"data row4 col7\" >nan</td>\n",
              "      <td id=\"T_67b0a_row4_col8\" class=\"data row4 col8\" >nan</td>\n",
              "    </tr>\n",
              "    <tr>\n",
              "      <th id=\"T_67b0a_level0_row5\" class=\"row_heading level0 row5\" >50%</th>\n",
              "      <td id=\"T_67b0a_row5_col0\" class=\"data row5 col0\" >0.000000</td>\n",
              "      <td id=\"T_67b0a_row5_col1\" class=\"data row5 col1\" >-3.239788</td>\n",
              "      <td id=\"T_67b0a_row5_col2\" class=\"data row5 col2\" >4.711283</td>\n",
              "      <td id=\"T_67b0a_row5_col3\" class=\"data row5 col3\" >-0.399419</td>\n",
              "      <td id=\"T_67b0a_row5_col4\" class=\"data row5 col4\" >0.002465</td>\n",
              "      <td id=\"T_67b0a_row5_col5\" class=\"data row5 col5\" >-0.007192</td>\n",
              "      <td id=\"T_67b0a_row5_col6\" class=\"data row5 col6\" >0.008381</td>\n",
              "      <td id=\"T_67b0a_row5_col7\" class=\"data row5 col7\" >nan</td>\n",
              "      <td id=\"T_67b0a_row5_col8\" class=\"data row5 col8\" >nan</td>\n",
              "    </tr>\n",
              "    <tr>\n",
              "      <th id=\"T_67b0a_level0_row6\" class=\"row_heading level0 row6\" >75%</th>\n",
              "      <td id=\"T_67b0a_row6_col0\" class=\"data row6 col0\" >1.000000</td>\n",
              "      <td id=\"T_67b0a_row6_col1\" class=\"data row6 col1\" >53.823453</td>\n",
              "      <td id=\"T_67b0a_row6_col2\" class=\"data row6 col2\" >69.637787</td>\n",
              "      <td id=\"T_67b0a_row6_col3\" class=\"data row6 col3\" >45.274542</td>\n",
              "      <td id=\"T_67b0a_row6_col4\" class=\"data row6 col4\" >0.285078</td>\n",
              "      <td id=\"T_67b0a_row6_col5\" class=\"data row6 col5\" >0.248681</td>\n",
              "      <td id=\"T_67b0a_row6_col6\" class=\"data row6 col6\" >0.289681</td>\n",
              "      <td id=\"T_67b0a_row6_col7\" class=\"data row6 col7\" >nan</td>\n",
              "      <td id=\"T_67b0a_row6_col8\" class=\"data row6 col8\" >nan</td>\n",
              "    </tr>\n",
              "    <tr>\n",
              "      <th id=\"T_67b0a_level0_row7\" class=\"row_heading level0 row7\" >max</th>\n",
              "      <td id=\"T_67b0a_row7_col0\" class=\"data row7 col0\" >1.000000</td>\n",
              "      <td id=\"T_67b0a_row7_col1\" class=\"data row7 col1\" >885.738571</td>\n",
              "      <td id=\"T_67b0a_row7_col2\" class=\"data row7 col2\" >889.868884</td>\n",
              "      <td id=\"T_67b0a_row7_col3\" class=\"data row7 col3\" >901.274261</td>\n",
              "      <td id=\"T_67b0a_row7_col4\" class=\"data row7 col4\" >0.609864</td>\n",
              "      <td id=\"T_67b0a_row7_col5\" class=\"data row7 col5\" >0.627875</td>\n",
              "      <td id=\"T_67b0a_row7_col6\" class=\"data row7 col6\" >0.608243</td>\n",
              "      <td id=\"T_67b0a_row7_col7\" class=\"data row7 col7\" >nan</td>\n",
              "      <td id=\"T_67b0a_row7_col8\" class=\"data row7 col8\" >nan</td>\n",
              "    </tr>\n",
              "  </tbody>\n",
              "</table>\n"
            ]
          },
          "metadata": {},
          "execution_count": 113
        }
      ],
      "source": [
        "# For more information on the dataset like the total count in all the columns of train data\n",
        "# min, max values and more information of the respective columns \n",
        "data.describe().style.background_gradient(cmap='Greens')"
      ]
    },
    {
      "cell_type": "code",
      "execution_count": 114,
      "metadata": {
        "colab": {
          "base_uri": "https://localhost:8080/"
        },
        "id": "qR_KvwfZnqDh",
        "outputId": "93bb7cb6-a99d-4331-a268-c377ff33d3da"
      },
      "outputs": [
        {
          "output_type": "execute_result",
          "data": {
            "text/plain": [
              "Output (S)        0\n",
              "Ia                0\n",
              "Ib                0\n",
              "Ic                0\n",
              "Va                0\n",
              "Vb                0\n",
              "Vc                0\n",
              "Unnamed: 7    12001\n",
              "Unnamed: 8    12001\n",
              "dtype: int64"
            ]
          },
          "metadata": {},
          "execution_count": 114
        }
      ],
      "source": [
        "# Check for missing values in all the columnns of the dataset\n",
        "data.isna().sum()"
      ]
    },
    {
      "cell_type": "code",
      "execution_count": 115,
      "metadata": {
        "colab": {
          "base_uri": "https://localhost:8080/"
        },
        "id": "RHYBt6CzSn3L",
        "outputId": "ebf1733a-b401-471a-e087-e19d87c78cd5"
      },
      "outputs": [
        {
          "output_type": "execute_result",
          "data": {
            "text/plain": [
              "Output (S)        2\n",
              "Ia            12001\n",
              "Ib            12001\n",
              "Ic            12001\n",
              "Va            11996\n",
              "Vb            11813\n",
              "Vc            11987\n",
              "Unnamed: 7        0\n",
              "Unnamed: 8        0\n",
              "dtype: int64"
            ]
          },
          "metadata": {},
          "execution_count": 115
        }
      ],
      "source": [
        "# loop through datatset to find count of unique values of each column\n",
        "data.nunique()"
      ]
    },
    {
      "cell_type": "code",
      "execution_count": 116,
      "metadata": {
        "id": "kC38hVyv-fyX"
      },
      "outputs": [],
      "source": [
        "# drop 'Unnamed: 7','Unnamed: 8'\n",
        "data.drop(['Unnamed: 7','Unnamed: 8'],axis=1,inplace=True)"
      ]
    },
    {
      "cell_type": "code",
      "execution_count": 117,
      "metadata": {
        "colab": {
          "base_uri": "https://localhost:8080/",
          "height": 374
        },
        "id": "Y3VNecxg-fuS",
        "outputId": "b55fda5b-31fb-401c-8567-8c1851ce0a77"
      },
      "outputs": [
        {
          "output_type": "execute_result",
          "data": {
            "text/plain": [
              "<matplotlib.axes._subplots.AxesSubplot at 0x7f6e1c810c50>"
            ]
          },
          "metadata": {},
          "execution_count": 117
        },
        {
          "output_type": "display_data",
          "data": {
            "text/plain": [
              "<Figure size 1296x432 with 1 Axes>"
            ],
            "image/png": "[encoded data removed]"
          },
          "metadata": {}
        }
      ],
      "source": [
        "# check total number of fault and no-fault instances\n",
        "data['Output (S)'].value_counts().plot(kind='pie',figsize =(18,6), autopct = '%1.1f%%')"
      ]
    },
    {
      "cell_type": "markdown",
      "metadata": {
        "id": "2tYBYcVMTXOe"
      },
      "source": [
        "# Correlation Matrix\n",
        "\n",
        "## Why?\n",
        "#### A correlation matrix is a table showing correlation coefficients between variables.\n",
        "\n",
        "### There are three broad reasons for computing a correlation matrix:\n",
        "\n",
        "  1. To summarize a large amount of data where the goal is to see patterns. In our example above, the observable pattern is that all the variables highly correlate with each other.\n",
        "  2. To input into other analyses. For example, people commonly use correlation matrixes as inputs for exploratory factor analysis, confirmatory factor analysis, structural equation models, and linear regression when excluding missing values pairwise.\n",
        "  3. As a diagnostic when checking other analyses. For example, with linear regression, a high amount of correlations suggests that the linear regression estimates will be unreliable."
      ]
    },
    {
      "cell_type": "code",
      "execution_count": 118,
      "metadata": {
        "colab": {
          "base_uri": "https://localhost:8080/",
          "height": 269
        },
        "id": "Txt0Rpe4CS_v",
        "outputId": "5128cb86-2752-4b45-d3e7-131e0c510606"
      },
      "outputs": [
        {
          "output_type": "execute_result",
          "data": {
            "text/plain": [
              "<pandas.io.formats.style.Styler at 0x7f6e1dac6750>"
            ],
            "text/html": [
              "<style type=\"text/css\">\n",
              "#T_f1c8b_row0_col0, #T_f1c8b_row1_col1, #T_f1c8b_row2_col2, #T_f1c8b_row3_col3, #T_f1c8b_row4_col4, #T_f1c8b_row5_col5, #T_f1c8b_row6_col6 {\n",
              "  background-color: #f7fcf0;\n",
              "  color: #000000;\n",
              "}\n",
              "#T_f1c8b_row0_col1 {\n",
              "  background-color: #3a9cc7;\n",
              "  color: #f1f1f1;\n",
              "}\n",
              "#T_f1c8b_row0_col2 {\n",
              "  background-color: #2d8fbf;\n",
              "  color: #f1f1f1;\n",
              "}\n",
              "#T_f1c8b_row0_col3 {\n",
              "  background-color: #5fbdcd;\n",
              "  color: #000000;\n",
              "}\n",
              "#T_f1c8b_row0_col4 {\n",
              "  background-color: #3da0c9;\n",
              "  color: #f1f1f1;\n",
              "}\n",
              "#T_f1c8b_row0_col5 {\n",
              "  background-color: #47abcf;\n",
              "  color: #f1f1f1;\n",
              "}\n",
              "#T_f1c8b_row0_col6, #T_f1c8b_row1_col4 {\n",
              "  background-color: #49add0;\n",
              "  color: #f1f1f1;\n",
              "}\n",
              "#T_f1c8b_row1_col0 {\n",
              "  background-color: #1070b0;\n",
              "  color: #f1f1f1;\n",
              "}\n",
              "#T_f1c8b_row1_col2 {\n",
              "  background-color: #085fa3;\n",
              "  color: #f1f1f1;\n",
              "}\n",
              "#T_f1c8b_row1_col3 {\n",
              "  background-color: #1373b2;\n",
              "  color: #f1f1f1;\n",
              "}\n",
              "#T_f1c8b_row1_col5 {\n",
              "  background-color: #2788bc;\n",
              "  color: #f1f1f1;\n",
              "}\n",
              "#T_f1c8b_row1_col6 {\n",
              "  background-color: #61bdcd;\n",
              "  color: #000000;\n",
              "}\n",
              "#T_f1c8b_row2_col0, #T_f1c8b_row2_col1, #T_f1c8b_row2_col3, #T_f1c8b_row3_col2, #T_f1c8b_row5_col4, #T_f1c8b_row5_col6, #T_f1c8b_row6_col5 {\n",
              "  background-color: #084081;\n",
              "  color: #f1f1f1;\n",
              "}\n",
              "#T_f1c8b_row2_col4 {\n",
              "  background-color: #3ea1c9;\n",
              "  color: #f1f1f1;\n",
              "}\n",
              "#T_f1c8b_row2_col5 {\n",
              "  background-color: #4bb0d1;\n",
              "  color: #f1f1f1;\n",
              "}\n",
              "#T_f1c8b_row2_col6 {\n",
              "  background-color: #43a7cd;\n",
              "  color: #f1f1f1;\n",
              "}\n",
              "#T_f1c8b_row3_col0 {\n",
              "  background-color: #2484ba;\n",
              "  color: #f1f1f1;\n",
              "}\n",
              "#T_f1c8b_row3_col1 {\n",
              "  background-color: #085799;\n",
              "  color: #f1f1f1;\n",
              "}\n",
              "#T_f1c8b_row3_col4 {\n",
              "  background-color: #42a6cc;\n",
              "  color: #f1f1f1;\n",
              "}\n",
              "#T_f1c8b_row3_col5 {\n",
              "  background-color: #3395c3;\n",
              "  color: #f1f1f1;\n",
              "}\n",
              "#T_f1c8b_row3_col6 {\n",
              "  background-color: #5abacf;\n",
              "  color: #000000;\n",
              "}\n",
              "#T_f1c8b_row4_col0 {\n",
              "  background-color: #085c9f;\n",
              "  color: #f1f1f1;\n",
              "}\n",
              "#T_f1c8b_row4_col1 {\n",
              "  background-color: #379ac5;\n",
              "  color: #f1f1f1;\n",
              "}\n",
              "#T_f1c8b_row4_col2 {\n",
              "  background-color: #41a5cb;\n",
              "  color: #f1f1f1;\n",
              "}\n",
              "#T_f1c8b_row4_col3 {\n",
              "  background-color: #46aace;\n",
              "  color: #f1f1f1;\n",
              "}\n",
              "#T_f1c8b_row4_col5 {\n",
              "  background-color: #084384;\n",
              "  color: #f1f1f1;\n",
              "}\n",
              "#T_f1c8b_row4_col6 {\n",
              "  background-color: #084a8c;\n",
              "  color: #f1f1f1;\n",
              "}\n",
              "#T_f1c8b_row5_col0 {\n",
              "  background-color: #0969ad;\n",
              "  color: #f1f1f1;\n",
              "}\n",
              "#T_f1c8b_row5_col1 {\n",
              "  background-color: #1171b1;\n",
              "  color: #f1f1f1;\n",
              "}\n",
              "#T_f1c8b_row5_col2, #T_f1c8b_row6_col1 {\n",
              "  background-color: #4cb1d2;\n",
              "  color: #f1f1f1;\n",
              "}\n",
              "#T_f1c8b_row5_col3 {\n",
              "  background-color: #3496c3;\n",
              "  color: #f1f1f1;\n",
              "}\n",
              "#T_f1c8b_row6_col0 {\n",
              "  background-color: #0b6cae;\n",
              "  color: #f1f1f1;\n",
              "}\n",
              "#T_f1c8b_row6_col2 {\n",
              "  background-color: #45a8cd;\n",
              "  color: #f1f1f1;\n",
              "}\n",
              "#T_f1c8b_row6_col3 {\n",
              "  background-color: #5bbacf;\n",
              "  color: #000000;\n",
              "}\n",
              "#T_f1c8b_row6_col4 {\n",
              "  background-color: #084889;\n",
              "  color: #f1f1f1;\n",
              "}\n",
              "</style>\n",
              "<table id=\"T_f1c8b_\" class=\"dataframe\">\n",
              "  <thead>\n",
              "    <tr>\n",
              "      <th class=\"blank level0\" >&nbsp;</th>\n",
              "      <th class=\"col_heading level0 col0\" >Output (S)</th>\n",
              "      <th class=\"col_heading level0 col1\" >Ia</th>\n",
              "      <th class=\"col_heading level0 col2\" >Ib</th>\n",
              "      <th class=\"col_heading level0 col3\" >Ic</th>\n",
              "      <th class=\"col_heading level0 col4\" >Va</th>\n",
              "      <th class=\"col_heading level0 col5\" >Vb</th>\n",
              "      <th class=\"col_heading level0 col6\" >Vc</th>\n",
              "    </tr>\n",
              "  </thead>\n",
              "  <tbody>\n",
              "    <tr>\n",
              "      <th id=\"T_f1c8b_level0_row0\" class=\"row_heading level0 row0\" >Output (S)</th>\n",
              "      <td id=\"T_f1c8b_row0_col0\" class=\"data row0 col0\" >1.000000</td>\n",
              "      <td id=\"T_f1c8b_row0_col1\" class=\"data row0 col1\" >0.039408</td>\n",
              "      <td id=\"T_f1c8b_row0_col2\" class=\"data row0 col2\" >-0.134028</td>\n",
              "      <td id=\"T_f1c8b_row0_col3\" class=\"data row0 col3\" >0.120044</td>\n",
              "      <td id=\"T_f1c8b_row0_col4\" class=\"data row0 col4\" >-0.035377</td>\n",
              "      <td id=\"T_f1c8b_row0_col5\" class=\"data row0 col5\" >0.012206</td>\n",
              "      <td id=\"T_f1c8b_row0_col6\" class=\"data row0 col6\" >0.022570</td>\n",
              "    </tr>\n",
              "    <tr>\n",
              "      <th id=\"T_f1c8b_level0_row1\" class=\"row_heading level0 row1\" >Ia</th>\n",
              "      <td id=\"T_f1c8b_row1_col0\" class=\"data row1 col0\" >0.039408</td>\n",
              "      <td id=\"T_f1c8b_row1_col1\" class=\"data row1 col1\" >1.000000</td>\n",
              "      <td id=\"T_f1c8b_row1_col2\" class=\"data row1 col2\" >-0.375477</td>\n",
              "      <td id=\"T_f1c8b_row1_col3\" class=\"data row1 col3\" >-0.275694</td>\n",
              "      <td id=\"T_f1c8b_row1_col4\" class=\"data row1 col4\" >0.032598</td>\n",
              "      <td id=\"T_f1c8b_row1_col5\" class=\"data row1 col5\" >-0.158207</td>\n",
              "      <td id=\"T_f1c8b_row1_col6\" class=\"data row1 col6\" >0.129686</td>\n",
              "    </tr>\n",
              "    <tr>\n",
              "      <th id=\"T_f1c8b_level0_row2\" class=\"row_heading level0 row2\" >Ib</th>\n",
              "      <td id=\"T_f1c8b_row2_col0\" class=\"data row2 col0\" >-0.134028</td>\n",
              "      <td id=\"T_f1c8b_row2_col1\" class=\"data row2 col1\" >-0.375477</td>\n",
              "      <td id=\"T_f1c8b_row2_col2\" class=\"data row2 col2\" >1.000000</td>\n",
              "      <td id=\"T_f1c8b_row2_col3\" class=\"data row2 col3\" >-0.530187</td>\n",
              "      <td id=\"T_f1c8b_row2_col4\" class=\"data row2 col4\" >-0.027052</td>\n",
              "      <td id=\"T_f1c8b_row2_col5\" class=\"data row2 col5\" >0.032248</td>\n",
              "      <td id=\"T_f1c8b_row2_col6\" class=\"data row2 col6\" >-0.006205</td>\n",
              "    </tr>\n",
              "    <tr>\n",
              "      <th id=\"T_f1c8b_level0_row3\" class=\"row_heading level0 row3\" >Ic</th>\n",
              "      <td id=\"T_f1c8b_row3_col0\" class=\"data row3 col0\" >0.120044</td>\n",
              "      <td id=\"T_f1c8b_row3_col1\" class=\"data row3 col1\" >-0.275694</td>\n",
              "      <td id=\"T_f1c8b_row3_col2\" class=\"data row3 col2\" >-0.530187</td>\n",
              "      <td id=\"T_f1c8b_row3_col3\" class=\"data row3 col3\" >1.000000</td>\n",
              "      <td id=\"T_f1c8b_row3_col4\" class=\"data row3 col4\" >-0.001813</td>\n",
              "      <td id=\"T_f1c8b_row3_col5\" class=\"data row3 col5\" >-0.096194</td>\n",
              "      <td id=\"T_f1c8b_row3_col6\" class=\"data row3 col6\" >0.100298</td>\n",
              "    </tr>\n",
              "    <tr>\n",
              "      <th id=\"T_f1c8b_level0_row4\" class=\"row_heading level0 row4\" >Va</th>\n",
              "      <td id=\"T_f1c8b_row4_col0\" class=\"data row4 col0\" >-0.035377</td>\n",
              "      <td id=\"T_f1c8b_row4_col1\" class=\"data row4 col1\" >0.032598</td>\n",
              "      <td id=\"T_f1c8b_row4_col2\" class=\"data row4 col2\" >-0.027052</td>\n",
              "      <td id=\"T_f1c8b_row4_col3\" class=\"data row4 col3\" >-0.001813</td>\n",
              "      <td id=\"T_f1c8b_row4_col4\" class=\"data row4 col4\" >1.000000</td>\n",
              "      <td id=\"T_f1c8b_row4_col5\" class=\"data row4 col5\" >-0.507928</td>\n",
              "      <td id=\"T_f1c8b_row4_col6\" class=\"data row4 col6\" >-0.471163</td>\n",
              "    </tr>\n",
              "    <tr>\n",
              "      <th id=\"T_f1c8b_level0_row5\" class=\"row_heading level0 row5\" >Vb</th>\n",
              "      <td id=\"T_f1c8b_row5_col0\" class=\"data row5 col0\" >0.012206</td>\n",
              "      <td id=\"T_f1c8b_row5_col1\" class=\"data row5 col1\" >-0.158207</td>\n",
              "      <td id=\"T_f1c8b_row5_col2\" class=\"data row5 col2\" >0.032248</td>\n",
              "      <td id=\"T_f1c8b_row5_col3\" class=\"data row5 col3\" >-0.096194</td>\n",
              "      <td id=\"T_f1c8b_row5_col4\" class=\"data row5 col4\" >-0.507928</td>\n",
              "      <td id=\"T_f1c8b_row5_col5\" class=\"data row5 col5\" >1.000000</td>\n",
              "      <td id=\"T_f1c8b_row5_col6\" class=\"data row5 col6\" >-0.520478</td>\n",
              "    </tr>\n",
              "    <tr>\n",
              "      <th id=\"T_f1c8b_level0_row6\" class=\"row_heading level0 row6\" >Vc</th>\n",
              "      <td id=\"T_f1c8b_row6_col0\" class=\"data row6 col0\" >0.022570</td>\n",
              "      <td id=\"T_f1c8b_row6_col1\" class=\"data row6 col1\" >0.129686</td>\n",
              "      <td id=\"T_f1c8b_row6_col2\" class=\"data row6 col2\" >-0.006205</td>\n",
              "      <td id=\"T_f1c8b_row6_col3\" class=\"data row6 col3\" >0.100298</td>\n",
              "      <td id=\"T_f1c8b_row6_col4\" class=\"data row6 col4\" >-0.471163</td>\n",
              "      <td id=\"T_f1c8b_row6_col5\" class=\"data row6 col5\" >-0.520478</td>\n",
              "      <td id=\"T_f1c8b_row6_col6\" class=\"data row6 col6\" >1.000000</td>\n",
              "    </tr>\n",
              "  </tbody>\n",
              "</table>\n"
            ]
          },
          "metadata": {},
          "execution_count": 118
        }
      ],
      "source": [
        "# Using pandas\n",
        "data.corr().style.background_gradient(cmap='GnBu_r')"
      ]
    },
    {
      "cell_type": "markdown",
      "metadata": {
        "id": "XnEsWEEsTm-T"
      },
      "source": [
        "# Histogram\n",
        "\n",
        "1. A histogram is an approximate representation of the distribution of numerical data.\n",
        "\n",
        "2. To construct a histogram, the first step is to \"bin\" (or \"bucket\") the range of values—that is, divide the entire range of values into a series of intervals—and then count how many values fall into each interval.\n",
        "\n",
        "3. The words used to describe the patterns in a histogram are: \"symmetric\", \"skewed left\" or \"right\", \"unimodal\", \"bimodal\" or \"multimodal\"."
      ]
    },
    {
      "cell_type": "code",
      "execution_count": 119,
      "metadata": {
        "colab": {
          "base_uri": "https://localhost:8080/",
          "height": 510
        },
        "id": "IQ2N-BOlCS-X",
        "outputId": "8cc87dbe-4b71-4110-83b4-6b5e46af18bd"
      },
      "outputs": [
        {
          "output_type": "execute_result",
          "data": {
            "text/plain": [
              "array([[<matplotlib.axes._subplots.AxesSubplot object at 0x7f6e1c77bd50>,\n",
              "        <matplotlib.axes._subplots.AxesSubplot object at 0x7f6e1c72f350>,\n",
              "        <matplotlib.axes._subplots.AxesSubplot object at 0x7f6e1c6e4910>],\n",
              "       [<matplotlib.axes._subplots.AxesSubplot object at 0x7f6e1c6a5310>,\n",
              "        <matplotlib.axes._subplots.AxesSubplot object at 0x7f6e1c65d810>,\n",
              "        <matplotlib.axes._subplots.AxesSubplot object at 0x7f6e1c690d10>],\n",
              "       [<matplotlib.axes._subplots.AxesSubplot object at 0x7f6e1c6562d0>,\n",
              "        <matplotlib.axes._subplots.AxesSubplot object at 0x7f6e1c60c710>,\n",
              "        <matplotlib.axes._subplots.AxesSubplot object at 0x7f6e1c60c750>]],\n",
              "      dtype=object)"
            ]
          },
          "metadata": {},
          "execution_count": 119
        },
        {
          "output_type": "display_data",
          "data": {
            "text/plain": [
              "<Figure size 1152x360 with 9 Axes>"
            ],
            "image/png": "[encoded data removed]"
          },
          "metadata": {
            "needs_background": "light"
          }
        }
      ],
      "source": [
        "# Histogram using pandas \n",
        "data.hist(figsize=(16,5))"
      ]
    },
    {
      "cell_type": "markdown",
      "metadata": {
        "id": "A9lQc6G_T6le"
      },
      "source": [
        "### Count plot"
      ]
    },
    {
      "cell_type": "code",
      "execution_count": 120,
      "metadata": {
        "colab": {
          "base_uri": "https://localhost:8080/",
          "height": 242
        },
        "id": "44nndj72Cjak",
        "outputId": "13ad0cb4-cdb6-40bf-e246-f8dbb3804692"
      },
      "outputs": [
        {
          "output_type": "execute_result",
          "data": {
            "text/plain": [
              "<matplotlib.axes._subplots.AxesSubplot at 0x7f6e1c359e10>"
            ]
          },
          "metadata": {},
          "execution_count": 120
        },
        {
          "output_type": "display_data",
          "data": {
            "text/plain": [
              "<Figure size 504x216 with 1 Axes>"
            ],
            "image/png": "[encoded data removed]"
          },
          "metadata": {
            "needs_background": "light"
          }
        }
      ],
      "source": [
        "# count plot of Output (S) column\n",
        "plt.figure(figsize=(7,3))\n",
        "sns.countplot(data['Output (S)'],palette='rainbow')"
      ]
    },
    {
      "cell_type": "markdown",
      "metadata": {
        "id": "TqaIURlaT_e2"
      },
      "source": [
        "# Box plot\n",
        "\n",
        "\n",
        "A boxplot is a standardized way of displaying the dataset based on a five-number summary:\n",
        "\n",
        "    1. Minimum (Q0 or 0th percentile): the lowest data point excluding any outliers.\n",
        "\n",
        "    2. Maximum (Q4 or 100th percentile): the largest data point excluding any outliers.\n",
        "\n",
        "    3. Median (Q2 or 50th percentile): the middle value of the dataset.\n",
        "\n",
        "    4. First quartile (Q1 or 25th percentile): also known as the lower quartile qn(0.25), is the median of the lower half of the dataset.\n",
        "\n",
        "    5. Third quartile (Q3 or 75th percentile): also known as the upper quartile qn(0.75), is the median of the upper half of the dataset"
      ]
    },
    {
      "cell_type": "code",
      "execution_count": 121,
      "metadata": {
        "colab": {
          "base_uri": "https://localhost:8080/",
          "height": 609
        },
        "id": "OwU1rU-KCjDn",
        "outputId": "6488f5ef-17d3-4595-f172-7ac6bc57fa17"
      },
      "outputs": [
        {
          "output_type": "execute_result",
          "data": {
            "text/plain": [
              "<matplotlib.axes._subplots.AxesSubplot at 0x7f6e1c342050>"
            ]
          },
          "metadata": {},
          "execution_count": 121
        },
        {
          "output_type": "display_data",
          "data": {
            "text/plain": [
              "<Figure size 1152x720 with 1 Axes>"
            ],
            "image/png": "[encoded data removed]"
          },
          "metadata": {
            "needs_background": "light"
          }
        }
      ],
      "source": [
        "# box plot using pandas \n",
        "# box plot for Output (S) column \n",
        "\n",
        "data.boxplot(column='Output (S)',figsize=(16,10))"
      ]
    },
    {
      "cell_type": "code",
      "execution_count": 122,
      "metadata": {
        "colab": {
          "base_uri": "https://localhost:8080/",
          "height": 609
        },
        "id": "Ri4cEZKrDDk1",
        "outputId": "33a46242-b8b8-4f53-8afb-f54e17a730ba"
      },
      "outputs": [
        {
          "output_type": "execute_result",
          "data": {
            "text/plain": [
              "<matplotlib.axes._subplots.AxesSubplot at 0x7f6e1c2a3c90>"
            ]
          },
          "metadata": {},
          "execution_count": 122
        },
        {
          "output_type": "display_data",
          "data": {
            "text/plain": [
              "<Figure size 1152x720 with 1 Axes>"
            ],
            "image/png": "[encoded data removed]"
          },
          "metadata": {
            "needs_background": "light"
          }
        }
      ],
      "source": [
        "# box plot using pandas \n",
        "# box plot for Ia column \n",
        "\n",
        "data.boxplot(column='Ia',figsize=(16,10))"
      ]
    },
    {
      "cell_type": "code",
      "execution_count": 123,
      "metadata": {
        "colab": {
          "base_uri": "https://localhost:8080/",
          "height": 609
        },
        "id": "iATUk1TjDDiU",
        "outputId": "1e1dcdbe-c68e-4a23-8549-82702bfc0a62"
      },
      "outputs": [
        {
          "output_type": "execute_result",
          "data": {
            "text/plain": [
              "<matplotlib.axes._subplots.AxesSubplot at 0x7f6e21e9e310>"
            ]
          },
          "metadata": {},
          "execution_count": 123
        },
        {
          "output_type": "display_data",
          "data": {
            "text/plain": [
              "<Figure size 1152x720 with 1 Axes>"
            ],
            "image/png": "[encoded data removed]"
          },
          "metadata": {
            "needs_background": "light"
          }
        }
      ],
      "source": [
        "# box plot using pandas \n",
        "# box plot for Ib column \n",
        "\n",
        "\n",
        "data.boxplot(column='Ib',figsize=(16,10))"
      ]
    },
    {
      "cell_type": "code",
      "execution_count": 124,
      "metadata": {
        "colab": {
          "base_uri": "https://localhost:8080/",
          "height": 609
        },
        "id": "rJQv1P0hDDe2",
        "outputId": "36c46ea4-5bc0-4709-bdb0-555c2768c91a"
      },
      "outputs": [
        {
          "output_type": "execute_result",
          "data": {
            "text/plain": [
              "<matplotlib.axes._subplots.AxesSubplot at 0x7f6e1e3dccd0>"
            ]
          },
          "metadata": {},
          "execution_count": 124
        },
        {
          "output_type": "display_data",
          "data": {
            "text/plain": [
              "<Figure size 1152x720 with 1 Axes>"
            ],
            "image/png": "[encoded data removed]"
          },
          "metadata": {
            "needs_background": "light"
          }
        }
      ],
      "source": [
        "# box plot using pandas \n",
        "# box plot for Ic column \n",
        "\n",
        "data.boxplot(column='Ic',figsize=(16,10))"
      ]
    },
    {
      "cell_type": "code",
      "execution_count": 125,
      "metadata": {
        "colab": {
          "base_uri": "https://localhost:8080/",
          "height": 609
        },
        "id": "26iWjxk3DDdf",
        "outputId": "7b158f9a-5ea2-449d-d1fd-a40d3c9435d0"
      },
      "outputs": [
        {
          "output_type": "execute_result",
          "data": {
            "text/plain": [
              "<matplotlib.axes._subplots.AxesSubplot at 0x7f6e1d9b2ad0>"
            ]
          },
          "metadata": {},
          "execution_count": 125
        },
        {
          "output_type": "display_data",
          "data": {
            "text/plain": [
              "<Figure size 1152x720 with 1 Axes>"
            ],
            "image/png": "[encoded data removed]"
          },
          "metadata": {
            "needs_background": "light"
          }
        }
      ],
      "source": [
        "# box plot using pandas \n",
        "# box plot for Va column \n",
        "\n",
        "\n",
        "data.boxplot(column='Va',figsize=(16,10))"
      ]
    },
    {
      "cell_type": "code",
      "execution_count": 126,
      "metadata": {
        "colab": {
          "base_uri": "https://localhost:8080/",
          "height": 609
        },
        "id": "OqafrG7oDDa8",
        "outputId": "e6e20fd6-a18a-4eee-fc09-0e9d210f25b9"
      },
      "outputs": [
        {
          "output_type": "execute_result",
          "data": {
            "text/plain": [
              "<matplotlib.axes._subplots.AxesSubplot at 0x7f6e1d990550>"
            ]
          },
          "metadata": {},
          "execution_count": 126
        },
        {
          "output_type": "display_data",
          "data": {
            "text/plain": [
              "<Figure size 1152x720 with 1 Axes>"
            ],
            "image/png": "[encoded data removed]"
          },
          "metadata": {
            "needs_background": "light"
          }
        }
      ],
      "source": [
        "# box plot using pandas \n",
        "# box plot for Vb column \n",
        "\n",
        "\n",
        "data.boxplot(column='Vb',figsize=(16,10))"
      ]
    },
    {
      "cell_type": "code",
      "execution_count": 127,
      "metadata": {
        "colab": {
          "base_uri": "https://localhost:8080/",
          "height": 609
        },
        "id": "k0ZMrofFDDYt",
        "outputId": "264df0a3-85ef-4dee-e495-a89c6b3beb62"
      },
      "outputs": [
        {
          "output_type": "execute_result",
          "data": {
            "text/plain": [
              "<matplotlib.axes._subplots.AxesSubplot at 0x7f6e1c244cd0>"
            ]
          },
          "metadata": {},
          "execution_count": 127
        },
        {
          "output_type": "display_data",
          "data": {
            "text/plain": [
              "<Figure size 1152x720 with 1 Axes>"
            ],
            "image/png": "[encoded data removed]"
          },
          "metadata": {
            "needs_background": "light"
          }
        }
      ],
      "source": [
        "# box plot using pandas \n",
        "# box plot for Vc column \n",
        "\n",
        "data.boxplot(column='Vc',figsize=(16,10))\n"
      ]
    },
    {
      "cell_type": "markdown",
      "metadata": {
        "id": "jh9Q36xXZAeq"
      },
      "source": [
        "Dataset is balanced and not skewed in nature"
      ]
    },
    {
      "cell_type": "markdown",
      "metadata": {
        "id": "VoN41RlaUG_Y"
      },
      "source": [
        "# Dendrogram"
      ]
    },
    {
      "cell_type": "code",
      "execution_count": 128,
      "metadata": {
        "colab": {
          "base_uri": "https://localhost:8080/",
          "height": 265
        },
        "id": "_r5MsTqWDDU-",
        "outputId": "e15754f5-ebf0-44de-bc58-56ae43d56e54"
      },
      "outputs": [
        {
          "output_type": "display_data",
          "data": {
            "text/plain": [
              "<Figure size 1152x288 with 1 Axes>"
            ],
            "image/png": "[encoded data removed]"
          },
          "metadata": {
            "needs_background": "light"
          }
        }
      ],
      "source": [
        "# Plot a Dendrogram on the columns of the dataset\n",
        "\n",
        "# droping the NaN values\n",
        "\n",
        "X=data.dropna()\n",
        "import scipy \n",
        "from scipy.cluster import hierarchy as hc\n",
        "corr=np.round(scipy.stats.spearmanr(X).correlation,4)\n",
        "corr_distance=hc.distance.squareform(1-corr)\n",
        "z=hc.linkage(corr_distance,method='average')\n",
        "fig=plt.figure(figsize=(16,4))\n",
        "dendrogram=hc.dendrogram(z,labels=X.columns,orientation='left',leaf_font_size=16)\n",
        "plt.show()"
      ]
    },
    {
      "cell_type": "markdown",
      "metadata": {
        "id": "iNvxoKcNUX3H"
      },
      "source": [
        "# Preprocessing, Modeling and prediction on test data"
      ]
    },
    {
      "cell_type": "code",
      "execution_count": 129,
      "metadata": {
        "colab": {
          "base_uri": "https://localhost:8080/"
        },
        "id": "all5bN2N-fou",
        "outputId": "6ab65828-cb1b-46a2-9672-097e8807f102"
      },
      "outputs": [
        {
          "output_type": "stream",
          "name": "stdout",
          "text": [
            "(12001, 6)\n"
          ]
        }
      ],
      "source": [
        "## Split the labels and the target\n",
        "X=data.drop(['Output (S)'],axis=1)\n",
        "y=data['Output (S)']\n",
        "#check the shape \n",
        "print(X.shape)"
      ]
    },
    {
      "cell_type": "code",
      "execution_count": 130,
      "metadata": {
        "colab": {
          "base_uri": "https://localhost:8080/"
        },
        "id": "6-r_W-3k-flM",
        "outputId": "a9b92aef-7906-4c57-cc88-aa5970641dcc"
      },
      "outputs": [
        {
          "output_type": "stream",
          "name": "stdout",
          "text": [
            "(9600, 6)\n",
            "(9600,)\n",
            "(2401, 6)\n",
            "(2401,)\n"
          ]
        }
      ],
      "source": [
        "# import train test split\n",
        "from sklearn.model_selection import train_test_split\n",
        "# Split into training (80%) and testing set (20%)\n",
        "X_train,X_test,y_train,y_test=train_test_split(X,y,test_size=0.2,random_state=42)\n",
        "# check shape of X_train and y_train\n",
        "print(X_train.shape)\n",
        "print(y_train.shape)\n",
        "# check shape of X_test and y_test\n",
        "print(X_test.shape)\n",
        "print(y_test.shape)"
      ]
    },
    {
      "cell_type": "markdown",
      "metadata": {
        "id": "JZ5YmmuoUk_8"
      },
      "source": [
        "### Scaling"
      ]
    },
    {
      "cell_type": "code",
      "execution_count": 131,
      "metadata": {
        "id": "HQmvIGL8-fj_"
      },
      "outputs": [],
      "source": [
        "# import min max scalar\n",
        "\n",
        "def sclaed_score(df,col):\n",
        "# Instantiate t\n",
        "    from sklearn.preprocessing import MinMaxScaler\n",
        "\n",
        "# fit on train data\n",
        "    scaler=MinMaxScaler()\n",
        "    df[col]=scaler.fit_transfom(df[col])\n",
        "# fit on test data\n",
        "    return df"
      ]
    },
    {
      "cell_type": "code",
      "execution_count": 132,
      "metadata": {
        "id": "UZCxM1BcwbFT"
      },
      "outputs": [],
      "source": [
        "# Visualize importance of all the features in the dataset for the prediction\n",
        "def feature_imp(feature_importance,feature_train_df):\n",
        "\n",
        "\n",
        "    # creating dataframe for feature name and feature importance\n",
        "      feature_imp_df=pd.DataFrame()\n",
        "      _df=pd.DataFrame()\n",
        "      _df['feature_imp'] = feature_importance\n",
        "      _df['column'] = feature_train_df.columns\n",
        "      feature_imp_df=pd.concat([feature_imp_df,_df],axis=0,ignore_index=True)\n",
        "\n",
        "    # grouping all data and sorting in descending order\n",
        "      descend_ordr = feature_imp_df.groupby('column').sum()[['feature_imp']].sort_values('feature_imp',ascending=False).index[:50]\n",
        "    \n",
        "    # ploting feature importance data using boxenplot\n",
        "    # return fig, ax\n",
        "      fig,ax = plt.subplots(figsize=(8,max(6,len(descend_ordr)*.25)))\n",
        "    # Visualize importance of all the features in the dataset for the prediction\n",
        "      sns.boxenplot(data=feature_imp_df,x='feature_imp',y='column',order=descend_ordr,ax=ax,palette='viridis',orient='h')\n",
        "      ax.tick_params(axis='x',rotation=90)\n",
        "      ax.set_title('Importance')\n",
        "      ax.grid()\n",
        "      fig.tight_layout()\n",
        "      return fig,ax \n",
        "\n",
        "\n",
        "\n",
        "   \n",
        "\n",
        "\n",
        "\n"
      ]
    },
    {
      "cell_type": "code",
      "execution_count": 133,
      "metadata": {
        "id": "D10N3U1lLxQB"
      },
      "outputs": [],
      "source": [
        "\n",
        "# import accuracy_score, precision_score, precision_score, confusion_matrix\n",
        "from sklearn.metrics import precision_score,accuracy_score,confusion_matrix\n"
      ]
    },
    {
      "cell_type": "markdown",
      "metadata": {
        "id": "TX3S-qx5Uvzq"
      },
      "source": [
        "## LogisticRegression"
      ]
    },
    {
      "cell_type": "code",
      "execution_count": 134,
      "metadata": {
        "colab": {
          "base_uri": "https://localhost:8080/",
          "height": 793
        },
        "id": "z8IKjUjhwbAt",
        "outputId": "7fc019a5-4c65-4b8d-9477-68c3fd57aad7"
      },
      "outputs": [
        {
          "output_type": "stream",
          "name": "stdout",
          "text": [
            "The accuracy_score 0.7371928363182008\n",
            "The precision_score 1.0\n",
            "The confusion_matrix [[1306    0]\n",
            " [ 631  464]]\n",
            "CPU times: user 300 ms, sys: 264 ms, total: 564 ms\n",
            "Wall time: 327 ms\n"
          ]
        },
        {
          "output_type": "display_data",
          "data": {
            "text/plain": [
              "<Figure size 432x288 with 2 Axes>"
            ],
            "image/png": "[encoded data removed]"
          },
          "metadata": {
            "needs_background": "light"
          }
        },
        {
          "output_type": "display_data",
          "data": {
            "text/plain": [
              "<Figure size 576x432 with 1 Axes>"
            ],
            "image/png": "[encoded data removed]"
          },
          "metadata": {
            "needs_background": "light"
          }
        }
      ],
      "source": [
        "%%time\n",
        "# Fit a logistic Regression model to the train dataset\n",
        "\n",
        "# Import logisticRegressor\n",
        "from sklearn.linear_model import LogisticRegression\n",
        "\n",
        "\n",
        "# Instantiate the model\n",
        "log_class=LogisticRegression()\n",
        "# fitting the model on train data\n",
        "\n",
        "log_class.fit(X_train,y_train)\n",
        "#predict on test data\n",
        "prediction=log_class.predict(X_test)\n",
        "# print accuracy_score,precision_score,precision_score,confusion_matrix\n",
        "sns.heatmap(confusion_matrix(y_test,prediction),annot=True,cmap='Blues')\n",
        "print(\"The accuracy_score\",accuracy_score(y_test,prediction))\n",
        "print(\"The precision_score\",precision_score(y_test,prediction))\n",
        "# visualizing importance of features\n",
        "\n",
        "fig,ax=feature_imp(log_class.coef_[0],X_train)\n",
        "# display confusion matrix\n",
        "print(\"The confusion_matrix\",confusion_matrix(y_test,prediction))"
      ]
    },
    {
      "cell_type": "markdown",
      "metadata": {
        "id": "jMuXcH7vU0lG"
      },
      "source": [
        "## RandomForestClassifier"
      ]
    },
    {
      "cell_type": "code",
      "execution_count": 135,
      "metadata": {
        "colab": {
          "base_uri": "https://localhost:8080/",
          "height": 793
        },
        "id": "orHP9CXNwa_b",
        "outputId": "155ec788-a149-492a-949d-0a58a91e0a52"
      },
      "outputs": [
        {
          "output_type": "stream",
          "name": "stdout",
          "text": [
            "The accuracy_score 0.9979175343606831\n",
            "The precision_score 0.9963570127504554\n",
            "The confusion_matrix [[1302    4]\n",
            " [   1 1094]]\n",
            "CPU times: user 1.56 s, sys: 93.6 ms, total: 1.65 s\n",
            "Wall time: 1.57 s\n"
          ]
        },
        {
          "output_type": "display_data",
          "data": {
            "text/plain": [
              "<Figure size 432x288 with 2 Axes>"
            ],
            "image/png": "[encoded data removed]"
          },
          "metadata": {
            "needs_background": "light"
          }
        },
        {
          "output_type": "display_data",
          "data": {
            "text/plain": [
              "<Figure size 576x432 with 1 Axes>"
            ],
            "image/png": "[encoded data removed]"
          },
          "metadata": {
            "needs_background": "light"
          }
        }
      ],
      "source": [
        "%%time\n",
        "# Fit a RandomForestClassifier model to the train dataset\n",
        "\n",
        "#import RandomForestClassifier\n",
        "from sklearn.ensemble import RandomForestClassifier\n",
        "# Instantiate the model\n",
        "\n",
        "random_forest=RandomForestClassifier()\n",
        "# fitting the model on train data\n",
        "\n",
        "random_forest.fit(X_train,y_train)\n",
        "# predict on test data\n",
        "\n",
        "prediction=random_forest.predict(X_test)\n",
        "# print accuracy_score,precision_score,precision_score,confusion_matrix\n",
        "\n",
        "print(\"The accuracy_score\",accuracy_score(y_test,prediction))\n",
        "print(\"The precision_score\",precision_score(y_test,prediction))\n",
        "sns.heatmap(confusion_matrix(y_test,prediction),annot=True,cmap='Blues')\n",
        "\n",
        "# visualizing importance of features\n",
        "\n",
        "fig,ax=feature_imp(random_forest.feature_importances_,X_train)\n",
        "# display confusion matrix\n",
        "print(\"The confusion_matrix\",confusion_matrix(y_test,prediction))\n",
        "\n",
        "\n"
      ]
    },
    {
      "cell_type": "markdown",
      "metadata": {
        "id": "boAQ9dIRU3Xd"
      },
      "source": [
        "## DecisionTreeClassifier"
      ]
    },
    {
      "cell_type": "code",
      "execution_count": 136,
      "metadata": {
        "colab": {
          "base_uri": "https://localhost:8080/",
          "height": 793
        },
        "id": "Hc3mwALPwa7-",
        "outputId": "c369f1fc-df4c-4417-a658-2bf926e82d25"
      },
      "outputs": [
        {
          "output_type": "stream",
          "name": "stdout",
          "text": [
            "The accuracy_score 0.9954185755935027\n",
            "The precision_score 0.9936247723132969\n",
            "The confusion_matrix [[1299    7]\n",
            " [   4 1091]]\n",
            "CPU times: user 246 ms, sys: 108 ms, total: 354 ms\n",
            "Wall time: 240 ms\n"
          ]
        },
        {
          "output_type": "display_data",
          "data": {
            "text/plain": [
              "<Figure size 432x288 with 2 Axes>"
            ],
            "image/png": "[encoded data removed]"
          },
          "metadata": {
            "needs_background": "light"
          }
        },
        {
          "output_type": "display_data",
          "data": {
            "text/plain": [
              "<Figure size 576x432 with 1 Axes>"
            ],
            "image/png": "[encoded data removed]"
          },
          "metadata": {
            "needs_background": "light"
          }
        }
      ],
      "source": [
        "%%time\n",
        "# Fit a DecisionTreeClassifier model to the train dataset\n",
        "\n",
        "#import DecisionTreeClassifier\n",
        "from sklearn.tree import DecisionTreeClassifier\n",
        "\n",
        "# Instantiate the model\n",
        "\n",
        "decison_tree=DecisionTreeClassifier()\n",
        "# fitting the model on train data\n",
        "decison_tree.fit(X_train,y_train)\n",
        "\n",
        "# predict on test data\n",
        "prediction=decison_tree.predict(X_test)\n",
        "\n",
        "# print accuracy_score,precision_score,precision_score,confusion_matrix\n",
        "sns.heatmap(confusion_matrix(y_test,prediction),annot=True,cmap='Blues')\n",
        "print(\"The accuracy_score\",accuracy_score(y_test,prediction))\n",
        "print(\"The precision_score\",precision_score(y_test,prediction))\n",
        "\n",
        "\n",
        "\n",
        "# visualizing importance of features\n",
        "\n",
        "\n",
        "fig,ax=feature_imp(decison_tree.feature_importances_,X_train)\n",
        "# display confusion matrix\n",
        "print(\"The confusion_matrix\",confusion_matrix(y_test,prediction))\n",
        "\n",
        "\n",
        "\n"
      ]
    },
    {
      "cell_type": "markdown",
      "metadata": {
        "id": "GManaGfgU7io"
      },
      "source": [
        "## GradientBoostingClassifier"
      ]
    },
    {
      "cell_type": "code",
      "execution_count": 137,
      "metadata": {
        "colab": {
          "base_uri": "https://localhost:8080/",
          "height": 793
        },
        "id": "yDuLFGFEwa6i",
        "outputId": "3fe9a988-5cfb-4b81-949f-52e65a00a407"
      },
      "outputs": [
        {
          "output_type": "stream",
          "name": "stdout",
          "text": [
            "The accuracy_score 0.9966680549770929\n",
            "The precision_score 0.9972552607502287\n",
            "The confusion_matrix [[1303    3]\n",
            " [   5 1090]]\n",
            "CPU times: user 2.49 s, sys: 103 ms, total: 2.59 s\n",
            "Wall time: 2.48 s\n"
          ]
        },
        {
          "output_type": "display_data",
          "data": {
            "text/plain": [
              "<Figure size 432x288 with 2 Axes>"
            ],
            "image/png": "[encoded data removed]"
          },
          "metadata": {
            "needs_background": "light"
          }
        },
        {
          "output_type": "display_data",
          "data": {
            "text/plain": [
              "<Figure size 576x432 with 1 Axes>"
            ],
            "image/png": "[encoded data removed]"
          },
          "metadata": {
            "needs_background": "light"
          }
        }
      ],
      "source": [
        "%%time\n",
        "# Fit a Gradient Boosting Classifier model to the train dataset\n",
        "\n",
        "# Import GradientBoostingClassifier\n",
        "from sklearn.ensemble import GradientBoostingClassifier\n",
        "\n",
        "# Instantiate the model\n",
        "gradient=GradientBoostingClassifier()\n",
        "\n",
        "# fitting the model on train data\n",
        "\n",
        "gradient.fit(X_train,y_train)\n",
        "# predict on test data\n",
        "prediction=gradient.predict(X_test)\n",
        "sns.heatmap(confusion_matrix(y_test,prediction),annot=True,cmap='Blues')\n",
        "# print accuracy_score,precision_score,precision_score,confusion_matrix\n",
        "\n",
        "print(\"The accuracy_score\",accuracy_score(y_test,prediction))\n",
        "print(\"The precision_score\",precision_score(y_test,prediction))\n",
        "\n",
        "\n",
        "# visualizing importance of features\n",
        "\n",
        "\n",
        "fig,ax=feature_imp(gradient.feature_importances_,X_train)\n",
        "# display confusion matrix\n",
        "print(\"The confusion_matrix\",confusion_matrix(y_test,prediction))\n",
        "\n"
      ]
    },
    {
      "cell_type": "markdown",
      "metadata": {
        "id": "h-SaINO6YrZe"
      },
      "source": [
        "## Hyper parameter tunning\n",
        "\n",
        "A hyperparameter is a parameter whose value is set before the learning process begins.\n",
        "\n",
        "Hyperparameters tuning is crucial as they control the overall behavior of a machine learning model.\n",
        "\n",
        "Every machine learning models will have different hyperparameters that can be set.\n",
        "\n",
        "###RandomizedSearchCV\n",
        "\n",
        "RandomizedSearchCV is very useful when we have many parameters to try and the training time is very long.\n",
        "\n",
        "1. The first step is to write the parameters that we want to consider\n",
        "2. From these parameters select the best ones.(which are printed in output)"
      ]
    },
    {
      "cell_type": "code",
      "execution_count": 138,
      "metadata": {
        "id": "NOC29Wj5YbCO"
      },
      "outputs": [],
      "source": [
        "# Helper function to perform hyper parameter tunning with RandomizedSearchCV\n",
        "\n",
        "def random_Search(model,X_train, Y_train,param_grid):\n",
        "  from sklearn.model_selection import RandomizedSearchCV\n",
        "\n",
        "  # Random search of parameters, using 3 fold cross validation, \n",
        "  # search across 100 different combinations, and use all available cores\n",
        "  # Fit the random search model\n",
        "  random = RandomizedSearchCV(estimator=model,param_distributions=param_grid,n_iter=20,cv=3,verbose=2,random_state=42,n_jobs=-1)\n",
        "  \n",
        "  #fit on train\n",
        "  random.fit(X_train,y_train)\n",
        "  # print best_params_\n",
        "  print(random.best_params_)"
      ]
    },
    {
      "cell_type": "code",
      "execution_count": 139,
      "metadata": {
        "id": "XFlw8BdEYcfC",
        "colab": {
          "base_uri": "https://localhost:8080/"
        },
        "outputId": "94275ff5-dd31-48d5-c6cc-325699649c3d"
      },
      "outputs": [
        {
          "output_type": "stream",
          "name": "stdout",
          "text": [
            "Fitting 3 folds for each of 20 candidates, totalling 60 fits\n",
            "{'n_estimators': 200, 'min_samples_split': 2, 'min_samples_leaf': 1, 'max_features': 'sqrt', 'max_depth': 10, 'bootstrap': False}\n",
            "CPU times: user 4.56 s, sys: 125 ms, total: 4.68 s\n",
            "Wall time: 1min 20s\n"
          ]
        }
      ],
      "source": [
        "%%time\n",
        "# for random forest classifier\n",
        "# create parameters dict for tunning\n",
        "# create parameters dict for tunning\n",
        "rf_para_grid = {'n_estimators': list(range(150, 301, 50)),\n",
        "               'max_features': ['auto', 'sqrt'],\n",
        "               'max_depth': [int(x) for x in np.linspace(3, 10, num = 3)],\n",
        "               'min_samples_split': [2, 5],\n",
        "               'min_samples_leaf': [1, 2],\n",
        "               'bootstrap': [True, False]}\n",
        "\n",
        "# passing data for hyper parameter tunning with Randomized search cv\n",
        "random_Search(RandomForestClassifier(),X_train, y_train,param_grid=rf_para_grid)\n"
      ]
    },
    {
      "cell_type": "code",
      "source": [],
      "metadata": {
        "id": "tKyL5ljljic8"
      },
      "execution_count": 139,
      "outputs": []
    },
    {
      "cell_type": "code",
      "execution_count": 140,
      "metadata": {
        "colab": {
          "base_uri": "https://localhost:8080/",
          "height": 793
        },
        "outputId": "43fa59f8-c280-442c-dd73-e9259d5bc94e",
        "id": "wSn3eNtGkdmJ"
      },
      "outputs": [
        {
          "output_type": "stream",
          "name": "stdout",
          "text": [
            "The accuracy_score 0.9975010412328197\n",
            "The precision_score 0.9963536918869644\n",
            "The confusion_matrix [[1302    4]\n",
            " [   2 1093]]\n",
            "CPU times: user 2.82 s, sys: 118 ms, total: 2.94 s\n",
            "Wall time: 2.81 s\n"
          ]
        },
        {
          "output_type": "display_data",
          "data": {
            "text/plain": [
              "<Figure size 432x288 with 2 Axes>"
            ],
            "image/png": "[encoded data removed]"
          },
          "metadata": {
            "needs_background": "light"
          }
        },
        {
          "output_type": "display_data",
          "data": {
            "text/plain": [
              "<Figure size 576x432 with 1 Axes>"
            ],
            "image/png": "[encoded data removed]"
          },
          "metadata": {
            "needs_background": "light"
          }
        }
      ],
      "source": [
        "%%time\n",
        "# Fit a RandomForestClassifier model to the train dataset\n",
        "\n",
        "#import RandomForestClassifier\n",
        "from sklearn.ensemble import RandomForestClassifier\n",
        "# Instantiate the model\n",
        "\n",
        "random_forest=RandomForestClassifier(**{'n_estimators': 200, 'min_samples_split': 5, 'min_samples_leaf': 1, 'max_features': 'auto', 'max_depth': 10, 'bootstrap': True})\n",
        "# fitting the model on train data\n",
        "\n",
        "random_forest.fit(X_train,y_train)\n",
        "# predict on test data\n",
        "\n",
        "prediction=random_forest.predict(X_test)\n",
        "sns.heatmap(confusion_matrix(y_test,prediction),annot=True,cmap='Blues')\n",
        "# print accuracy_score,precision_score,precision_score,confusion_matrix\n",
        "\n",
        "print(\"The accuracy_score\",accuracy_score(y_test,prediction))\n",
        "print(\"The precision_score\",precision_score(y_test,prediction))\n",
        "\n",
        "\n",
        "# visualizing importance of features\n",
        "\n",
        "fig,ax=feature_imp(random_forest.feature_importances_,X_train)\n",
        "# display confusion matrix\n",
        "print(\"The confusion_matrix\",confusion_matrix(y_test,prediction))\n",
        "\n",
        "\n"
      ]
    },
    {
      "cell_type": "markdown",
      "metadata": {
        "id": "cN05dpdgRQO_"
      },
      "source": [
        "### working with best model"
      ]
    },
    {
      "cell_type": "code",
      "execution_count": 141,
      "metadata": {
        "colab": {
          "base_uri": "https://localhost:8080/"
        },
        "id": "vh4AUr77wax5",
        "outputId": "d5f1987b-c6e1-44c9-b4d7-71604a3b2cd4"
      },
      "outputs": [
        {
          "output_type": "stream",
          "name": "stdout",
          "text": [
            "0.9975553644227205\n"
          ]
        }
      ],
      "source": [
        "# print Area under ROC of Model On Test Set\n",
        "from sklearn.metrics import roc_auc_score\n",
        "print(roc_auc_score(y_test,prediction))"
      ]
    },
    {
      "cell_type": "code",
      "execution_count": 142,
      "metadata": {
        "id": "SkytbPoGwawF"
      },
      "outputs": [],
      "source": [
        "# Create a dataframe with predicted result as data using best model\n",
        "data_frame=random_forest.predict(X_test)\n",
        "data_1=pd.DataFrame(data_frame)\n"
      ]
    },
    {
      "cell_type": "code",
      "execution_count": 143,
      "metadata": {
        "colab": {
          "base_uri": "https://localhost:8080/",
          "height": 206
        },
        "id": "bYNliUkEwaQ-",
        "outputId": "80752ab1-bdd0-434d-e7b6-31de91f8a943"
      },
      "outputs": [
        {
          "output_type": "execute_result",
          "data": {
            "text/plain": [
              "   0\n",
              "0  0\n",
              "1  1\n",
              "2  0\n",
              "3  0\n",
              "4  0"
            ],
            "text/html": [
              "\n",
              "  <div id=\"df-81968564-b386-4bb4-90a2-de514a69ec6a\">\n",
              "    <div class=\"colab-df-container\">\n",
              "      <div>\n",
              "<style scoped>\n",
              "    .dataframe tbody tr th:only-of-type {\n",
              "        vertical-align: middle;\n",
              "    }\n",
              "\n",
              "    .dataframe tbody tr th {\n",
              "        vertical-align: top;\n",
              "    }\n",
              "\n",
              "    .dataframe thead th {\n",
              "        text-align: right;\n",
              "    }\n",
              "</style>\n",
              "<table border=\"1\" class=\"dataframe\">\n",
              "  <thead>\n",
              "    <tr style=\"text-align: right;\">\n",
              "      <th></th>\n",
              "      <th>0</th>\n",
              "    </tr>\n",
              "  </thead>\n",
              "  <tbody>\n",
              "    <tr>\n",
              "      <th>0</th>\n",
              "      <td>0</td>\n",
              "    </tr>\n",
              "    <tr>\n",
              "      <th>1</th>\n",
              "      <td>1</td>\n",
              "    </tr>\n",
              "    <tr>\n",
              "      <th>2</th>\n",
              "      <td>0</td>\n",
              "    </tr>\n",
              "    <tr>\n",
              "      <th>3</th>\n",
              "      <td>0</td>\n",
              "    </tr>\n",
              "    <tr>\n",
              "      <th>4</th>\n",
              "      <td>0</td>\n",
              "    </tr>\n",
              "  </tbody>\n",
              "</table>\n",
              "</div>\n",
              "      <button class=\"colab-df-convert\" onclick=\"convertToInteractive('df-81968564-b386-4bb4-90a2-de514a69ec6a')\"\n",
              "              title=\"Convert this dataframe to an interactive table.\"\n",
              "              style=\"display:none;\">\n",
              "        \n",
              "  <svg xmlns=\"http://www.w3.org/2000/svg\" height=\"24px\"viewBox=\"0 0 24 24\"\n",
              "       width=\"24px\">\n",
              "    <path d=\"M0 0h24v24H0V0z\" fill=\"none\"/>\n",
              "    <path d=\"M18.56 5.44l.94 2.06.94-2.06 2.06-.94-2.06-.94-.94-2.06-.94 2.06-2.06.94zm-11 1L8.5 8.5l.94-2.06 2.06-.94-2.06-.94L8.5 2.5l-.94 2.06-2.06.94zm10 10l.94 2.06.94-2.06 2.06-.94-2.06-.94-.94-2.06-.94 2.06-2.06.94z\"/><path d=\"M17.41 7.96l-1.37-1.37c-.4-.4-.92-.59-1.43-.59-.52 0-1.04.2-1.43.59L10.3 9.45l-7.72 7.72c-.78.78-.78 2.05 0 2.83L4 21.41c.39.39.9.59 1.41.59.51 0 1.02-.2 1.41-.59l7.78-7.78 2.81-2.81c.8-.78.8-2.07 0-2.86zM5.41 20L4 18.59l7.72-7.72 1.47 1.35L5.41 20z\"/>\n",
              "  </svg>\n",
              "      </button>\n",
              "      \n",
              "  <style>\n",
              "    .colab-df-container {\n",
              "      display:flex;\n",
              "      flex-wrap:wrap;\n",
              "      gap: 12px;\n",
              "    }\n",
              "\n",
              "    .colab-df-convert {\n",
              "      background-color: #E8F0FE;\n",
              "      border: none;\n",
              "      border-radius: 50%;\n",
              "      cursor: pointer;\n",
              "      display: none;\n",
              "      fill: #1967D2;\n",
              "      height: 32px;\n",
              "      padding: 0 0 0 0;\n",
              "      width: 32px;\n",
              "    }\n",
              "\n",
              "    .colab-df-convert:hover {\n",
              "      background-color: #E2EBFA;\n",
              "      box-shadow: 0px 1px 2px rgba(60, 64, 67, 0.3), 0px 1px 3px 1px rgba(60, 64, 67, 0.15);\n",
              "      fill: #174EA6;\n",
              "    }\n",
              "\n",
              "    [theme=dark] .colab-df-convert {\n",
              "      background-color: #3B4455;\n",
              "      fill: #D2E3FC;\n",
              "    }\n",
              "\n",
              "    [theme=dark] .colab-df-convert:hover {\n",
              "      background-color: #434B5C;\n",
              "      box-shadow: 0px 1px 3px 1px rgba(0, 0, 0, 0.15);\n",
              "      filter: drop-shadow(0px 1px 2px rgba(0, 0, 0, 0.3));\n",
              "      fill: #FFFFFF;\n",
              "    }\n",
              "  </style>\n",
              "\n",
              "      <script>\n",
              "        const buttonEl =\n",
              "          document.querySelector('#df-81968564-b386-4bb4-90a2-de514a69ec6a button.colab-df-convert');\n",
              "        buttonEl.style.display =\n",
              "          google.colab.kernel.accessAllowed ? 'block' : 'none';\n",
              "\n",
              "        async function convertToInteractive(key) {\n",
              "          const element = document.querySelector('#df-81968564-b386-4bb4-90a2-de514a69ec6a');\n",
              "          const dataTable =\n",
              "            await google.colab.kernel.invokeFunction('convertToInteractive',\n",
              "                                                     [key], {});\n",
              "          if (!dataTable) return;\n",
              "\n",
              "          const docLinkHtml = 'Like what you see? Visit the ' +\n",
              "            '<a target=\"_blank\" href=https://colab.research.google.com/notebooks/data_table.ipynb>data table notebook</a>'\n",
              "            + ' to learn more about interactive tables.';\n",
              "          element.innerHTML = '';\n",
              "          dataTable['output_type'] = 'display_data';\n",
              "          await google.colab.output.renderOutput(dataTable, element);\n",
              "          const docLink = document.createElement('div');\n",
              "          docLink.innerHTML = docLinkHtml;\n",
              "          element.appendChild(docLink);\n",
              "        }\n",
              "      </script>\n",
              "    </div>\n",
              "  </div>\n",
              "  "
            ]
          },
          "metadata": {},
          "execution_count": 143
        }
      ],
      "source": [
        "data_1.head()"
      ]
    },
    {
      "cell_type": "markdown",
      "metadata": {
        "id": "RG9uGYSFX65g"
      },
      "source": [
        "# Conclusion\n",
        "\n",
        "According to this model, the predicted value we got, matches with the actual target values. The model is performing well.  We have performed EDA, preprocessing, build different models, visualized feature importance, did hyper parameter tunning and did prediction."
      ]
    },
    {
      "cell_type": "markdown",
      "metadata": {
        "id": "p5t_gn_nX0wm"
      },
      "source": [
        "## Congratulation for completing the assignment.\n",
        "You have learned a lot while doing this assignment."
      ]
    }
  ],
  "metadata": {
    "colab": {
      "collapsed_sections": [],
      "name": "Electrical_Fault_detection_without_code.ipynb",
      "provenance": []
    },
    "kernelspec": {
      "display_name": "Python 3",
      "language": "python",
      "name": "python3"
    },
    "language_info": {
      "codemirror_mode": {
        "name": "ipython",
        "version": 3
      },
      "file_extension": ".py",
      "mimetype": "text/x-python",
      "name": "python",
      "nbconvert_exporter": "python",
      "pygments_lexer": "ipython3",
      "version": "3.7.6"
    }
  },
  "nbformat": 4,
  "nbformat_minor": 0
}